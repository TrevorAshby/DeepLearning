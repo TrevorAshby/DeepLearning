{
  "nbformat": 4,
  "nbformat_minor": 0,
  "metadata": {
    "accelerator": "GPU",
    "colab": {
      "name": "DL_Lab4.ipynb",
      "provenance": [],
      "collapsed_sections": []
    },
    "kernelspec": {
      "display_name": "Python 3",
      "language": "python",
      "name": "python3"
    },
    "language_info": {
      "codemirror_mode": {
        "name": "ipython",
        "version": 3
      },
      "file_extension": ".py",
      "mimetype": "text/x-python",
      "name": "python",
      "nbconvert_exporter": "python",
      "pygments_lexer": "ipython3",
      "version": "3.7.1"
    },
    "nteract": {
      "version": "0.28.0"
    },
    "pycharm": {
      "stem_cell": {
        "cell_type": "raw",
        "metadata": {
          "collapsed": false
        },
        "source": []
      }
    },
    "widgets": {
      "application/vnd.jupyter.widget-state+json": {
        "f8822e34129c453780d51ee7c2cc11c8": {
          "model_module": "@jupyter-widgets/controls",
          "model_name": "HBoxModel",
          "model_module_version": "1.5.0",
          "state": {
            "_view_name": "HBoxView",
            "_dom_classes": [],
            "_model_name": "HBoxModel",
            "_view_module": "@jupyter-widgets/controls",
            "_model_module_version": "1.5.0",
            "_view_count": null,
            "_view_module_version": "1.5.0",
            "box_style": "",
            "layout": "IPY_MODEL_4c38fb08a73f4ea8813d823482edc251",
            "_model_module": "@jupyter-widgets/controls",
            "children": [
              "IPY_MODEL_e05e825ed96b4d5c82da24ec7490f524",
              "IPY_MODEL_3eef5012d96b4039abce49cae2352dd8",
              "IPY_MODEL_44ccdc940ef4472aa84c31c69c9e8409"
            ]
          }
        },
        "4c38fb08a73f4ea8813d823482edc251": {
          "model_module": "@jupyter-widgets/base",
          "model_name": "LayoutModel",
          "model_module_version": "1.2.0",
          "state": {
            "_view_name": "LayoutView",
            "grid_template_rows": null,
            "right": null,
            "justify_content": null,
            "_view_module": "@jupyter-widgets/base",
            "overflow": null,
            "_model_module_version": "1.2.0",
            "_view_count": null,
            "flex_flow": null,
            "width": null,
            "min_width": null,
            "border": null,
            "align_items": null,
            "bottom": null,
            "_model_module": "@jupyter-widgets/base",
            "top": null,
            "grid_column": null,
            "overflow_y": null,
            "overflow_x": null,
            "grid_auto_flow": null,
            "grid_area": null,
            "grid_template_columns": null,
            "flex": null,
            "_model_name": "LayoutModel",
            "justify_items": null,
            "grid_row": null,
            "max_height": null,
            "align_content": null,
            "visibility": null,
            "align_self": null,
            "height": null,
            "min_height": null,
            "padding": null,
            "grid_auto_rows": null,
            "grid_gap": null,
            "max_width": null,
            "order": null,
            "_view_module_version": "1.2.0",
            "grid_template_areas": null,
            "object_position": null,
            "object_fit": null,
            "grid_auto_columns": null,
            "margin": null,
            "display": null,
            "left": null
          }
        },
        "e05e825ed96b4d5c82da24ec7490f524": {
          "model_module": "@jupyter-widgets/controls",
          "model_name": "HTMLModel",
          "model_module_version": "1.5.0",
          "state": {
            "_view_name": "HTMLView",
            "style": "IPY_MODEL_fac788ce29434d9cad93127cdd7bbce1",
            "_dom_classes": [],
            "description": "",
            "_model_name": "HTMLModel",
            "placeholder": "​",
            "_view_module": "@jupyter-widgets/controls",
            "_model_module_version": "1.5.0",
            "value": "",
            "_view_count": null,
            "_view_module_version": "1.5.0",
            "description_tooltip": null,
            "_model_module": "@jupyter-widgets/controls",
            "layout": "IPY_MODEL_f70e646ed01746bb891121e126decf19"
          }
        },
        "3eef5012d96b4039abce49cae2352dd8": {
          "model_module": "@jupyter-widgets/controls",
          "model_name": "FloatProgressModel",
          "model_module_version": "1.5.0",
          "state": {
            "_view_name": "ProgressView",
            "style": "IPY_MODEL_cdaffbe3e3754e62b79928bfcac7ee87",
            "_dom_classes": [],
            "description": "",
            "_model_name": "FloatProgressModel",
            "bar_style": "success",
            "max": 2750494655,
            "_view_module": "@jupyter-widgets/controls",
            "_model_module_version": "1.5.0",
            "value": 2750494655,
            "_view_count": null,
            "_view_module_version": "1.5.0",
            "orientation": "horizontal",
            "min": 0,
            "description_tooltip": null,
            "_model_module": "@jupyter-widgets/controls",
            "layout": "IPY_MODEL_81709623633b45beaa2f1ac04d0cc795"
          }
        },
        "44ccdc940ef4472aa84c31c69c9e8409": {
          "model_module": "@jupyter-widgets/controls",
          "model_name": "HTMLModel",
          "model_module_version": "1.5.0",
          "state": {
            "_view_name": "HTMLView",
            "style": "IPY_MODEL_db07246d5e9f4aadadb2cc60872ad2c8",
            "_dom_classes": [],
            "description": "",
            "_model_name": "HTMLModel",
            "placeholder": "​",
            "_view_module": "@jupyter-widgets/controls",
            "_model_module_version": "1.5.0",
            "value": " 2750494720/? [02:10&lt;00:00, 21889952.01it/s]",
            "_view_count": null,
            "_view_module_version": "1.5.0",
            "description_tooltip": null,
            "_model_module": "@jupyter-widgets/controls",
            "layout": "IPY_MODEL_ebb08b337c3e47c7ac7577ceecdf6e36"
          }
        },
        "fac788ce29434d9cad93127cdd7bbce1": {
          "model_module": "@jupyter-widgets/controls",
          "model_name": "DescriptionStyleModel",
          "model_module_version": "1.5.0",
          "state": {
            "_view_name": "StyleView",
            "_model_name": "DescriptionStyleModel",
            "description_width": "",
            "_view_module": "@jupyter-widgets/base",
            "_model_module_version": "1.5.0",
            "_view_count": null,
            "_view_module_version": "1.2.0",
            "_model_module": "@jupyter-widgets/controls"
          }
        },
        "f70e646ed01746bb891121e126decf19": {
          "model_module": "@jupyter-widgets/base",
          "model_name": "LayoutModel",
          "model_module_version": "1.2.0",
          "state": {
            "_view_name": "LayoutView",
            "grid_template_rows": null,
            "right": null,
            "justify_content": null,
            "_view_module": "@jupyter-widgets/base",
            "overflow": null,
            "_model_module_version": "1.2.0",
            "_view_count": null,
            "flex_flow": null,
            "width": null,
            "min_width": null,
            "border": null,
            "align_items": null,
            "bottom": null,
            "_model_module": "@jupyter-widgets/base",
            "top": null,
            "grid_column": null,
            "overflow_y": null,
            "overflow_x": null,
            "grid_auto_flow": null,
            "grid_area": null,
            "grid_template_columns": null,
            "flex": null,
            "_model_name": "LayoutModel",
            "justify_items": null,
            "grid_row": null,
            "max_height": null,
            "align_content": null,
            "visibility": null,
            "align_self": null,
            "height": null,
            "min_height": null,
            "padding": null,
            "grid_auto_rows": null,
            "grid_gap": null,
            "max_width": null,
            "order": null,
            "_view_module_version": "1.2.0",
            "grid_template_areas": null,
            "object_position": null,
            "object_fit": null,
            "grid_auto_columns": null,
            "margin": null,
            "display": null,
            "left": null
          }
        },
        "cdaffbe3e3754e62b79928bfcac7ee87": {
          "model_module": "@jupyter-widgets/controls",
          "model_name": "ProgressStyleModel",
          "model_module_version": "1.5.0",
          "state": {
            "_view_name": "StyleView",
            "_model_name": "ProgressStyleModel",
            "description_width": "",
            "_view_module": "@jupyter-widgets/base",
            "_model_module_version": "1.5.0",
            "_view_count": null,
            "_view_module_version": "1.2.0",
            "bar_color": null,
            "_model_module": "@jupyter-widgets/controls"
          }
        },
        "81709623633b45beaa2f1ac04d0cc795": {
          "model_module": "@jupyter-widgets/base",
          "model_name": "LayoutModel",
          "model_module_version": "1.2.0",
          "state": {
            "_view_name": "LayoutView",
            "grid_template_rows": null,
            "right": null,
            "justify_content": null,
            "_view_module": "@jupyter-widgets/base",
            "overflow": null,
            "_model_module_version": "1.2.0",
            "_view_count": null,
            "flex_flow": null,
            "width": null,
            "min_width": null,
            "border": null,
            "align_items": null,
            "bottom": null,
            "_model_module": "@jupyter-widgets/base",
            "top": null,
            "grid_column": null,
            "overflow_y": null,
            "overflow_x": null,
            "grid_auto_flow": null,
            "grid_area": null,
            "grid_template_columns": null,
            "flex": null,
            "_model_name": "LayoutModel",
            "justify_items": null,
            "grid_row": null,
            "max_height": null,
            "align_content": null,
            "visibility": null,
            "align_self": null,
            "height": null,
            "min_height": null,
            "padding": null,
            "grid_auto_rows": null,
            "grid_gap": null,
            "max_width": null,
            "order": null,
            "_view_module_version": "1.2.0",
            "grid_template_areas": null,
            "object_position": null,
            "object_fit": null,
            "grid_auto_columns": null,
            "margin": null,
            "display": null,
            "left": null
          }
        },
        "db07246d5e9f4aadadb2cc60872ad2c8": {
          "model_module": "@jupyter-widgets/controls",
          "model_name": "DescriptionStyleModel",
          "model_module_version": "1.5.0",
          "state": {
            "_view_name": "StyleView",
            "_model_name": "DescriptionStyleModel",
            "description_width": "",
            "_view_module": "@jupyter-widgets/base",
            "_model_module_version": "1.5.0",
            "_view_count": null,
            "_view_module_version": "1.2.0",
            "_model_module": "@jupyter-widgets/controls"
          }
        },
        "ebb08b337c3e47c7ac7577ceecdf6e36": {
          "model_module": "@jupyter-widgets/base",
          "model_name": "LayoutModel",
          "model_module_version": "1.2.0",
          "state": {
            "_view_name": "LayoutView",
            "grid_template_rows": null,
            "right": null,
            "justify_content": null,
            "_view_module": "@jupyter-widgets/base",
            "overflow": null,
            "_model_module_version": "1.2.0",
            "_view_count": null,
            "flex_flow": null,
            "width": null,
            "min_width": null,
            "border": null,
            "align_items": null,
            "bottom": null,
            "_model_module": "@jupyter-widgets/base",
            "top": null,
            "grid_column": null,
            "overflow_y": null,
            "overflow_x": null,
            "grid_auto_flow": null,
            "grid_area": null,
            "grid_template_columns": null,
            "flex": null,
            "_model_name": "LayoutModel",
            "justify_items": null,
            "grid_row": null,
            "max_height": null,
            "align_content": null,
            "visibility": null,
            "align_self": null,
            "height": null,
            "min_height": null,
            "padding": null,
            "grid_auto_rows": null,
            "grid_gap": null,
            "max_width": null,
            "order": null,
            "_view_module_version": "1.2.0",
            "grid_template_areas": null,
            "object_position": null,
            "object_fit": null,
            "grid_auto_columns": null,
            "margin": null,
            "display": null,
            "left": null
          }
        }
      }
    }
  },
  "cells": [
    {
      "cell_type": "markdown",
      "metadata": {
        "id": "tpnN_XZwq_vc"
      },
      "source": [
        "<a href=\"https://colab.research.google.com/github/wingated/cs474_labs_f2019/blob/master/DL_Lab4.ipynb\" target=\"_parent\"><img src=\"https://colab.research.google.com/assets/colab-badge.svg\" alt=\"Open In Colab\"/></a>"
      ]
    },
    {
      "cell_type": "markdown",
      "metadata": {
        "id": "view-in-github"
      },
      "source": [
        "# Lab 4: Cancer Detection\n",
        "\n",
        "## Objective\n",
        "* To build a dense prediction model\n",
        "* To begin reading current papers in DNN research\n",
        "\n",
        "## Deliverable\n",
        "For this lab, you will turn in a notebook that describes your efforts at creating\n",
        "a pytorch radiologist. Your final deliverable is a notebook that has (1) a deep network,\n",
        "(2) method of calculating accuracy, \n",
        "(3) images that show the dense prediction produced by your network on the pos_test_000072.png image (index 172 in the validation dataset).\n",
        "This is an image in the test set that your network will not have seen before.\n",
        "This image, and the ground truth labeling, is shown below.\n",
        "(And is contained in the downloadable dataset below).\n",
        "\n",
        "![](http://liftothers.org/dokuwiki/lib/exe/fetch.php?w=200&tok=a8ac31&media=cs501r_f2016:pos_test_000072_output.png)\n",
        "<img src=\"http://liftothers.org/dokuwiki/lib/exe/fetch.php?media=cs501r_f2016:pos_test_000072.png\" width=\"200\">\n",
        "<img src='https://drive.google.com/uc?export=view&id=14Vx4TfjCFNTBJex3z0phFoQM9H-8GWDM' width=200px>\n",
        "<img src='https://drive.google.com/uc?export=view&id=1twFErsCqzc4UHPrL_82ygEkXSak1U390' width=200px>\n",
        "\n",
        "## Grading standards\n",
        "Your notebook will be graded on the following:\n",
        "* 40% Proper design, creation and debugging of a dense prediction network\n",
        "* 20% Proper implementation of train/test set accuracy measure\n",
        "* 20% Tidy visualizations of loss of your dense predictor during training\n",
        "* 20% Test image output\n",
        "\n",
        "\n",
        "## Data set\n",
        "The data is given as a set of 1024×1024 PNG images. Each input image (in \n",
        "the ```inputs``` directory) is an RGB image of a section of tissue,\n",
        "and there a file with the same name (in the ```outputs``` directory) \n",
        "that has a dense labeling of whether or not a section of tissue is cancerous\n",
        "(white pixels mean “cancerous”, while black pixels mean “not cancerous”).\n",
        "\n",
        "The data has been pre-split for you into test and training splits.\n",
        "Filenames also reflect whether or not the image has any cancer at all \n",
        "(files starting with ```pos_``` have some cancerous pixels, while files \n",
        "starting with ```neg_``` have no cancer anywhere).\n",
        "All of the data is hand-labeled, so the dataset is not very large.\n",
        "That means that overfitting is a real possibility.\n",
        "\n",
        "## Description\n",
        "For a video including some tips and tricks that can help with this lab: [https://youtu.be/Ms19kgK_D8w](https://youtu.be/Ms19kgK_D8w)\n",
        "For this lab, you will implement a virtual radiologist.\n",
        "You are given images of possibly cancerous tissue samples, \n",
        "and you must build a detector that identifies where in the tissue cancer may reside.\n",
        "\n",
        "---\n",
        "\n",
        "### Part 0\n",
        "Watch and follow video tutorial:\n",
        "\n",
        "https://youtu.be/Ms19kgK_D8w\n",
        "\n",
        "**TODO:**\n",
        "\n",
        "* Watch tutorial\n",
        "\n",
        "**DONE:**\n",
        "* Watch tutorial\n",
        "\n",
        "### Part 1\n",
        "Implement a dense predictor\n",
        "\n",
        "In previous labs and lectures, we have talked about DNNs that classify an \n",
        "entire image as a single class. Here, however, we are interested in a more nuanced classification: \n",
        "given an input image, we would like to identify each pixel that is possibly cancerous. \n",
        "That means that instead of a single output, your network should output an “image”, \n",
        "where each output pixel of your network represents the probability that a pixel is cancerous.\n",
        "\n",
        "___\n",
        "\n",
        "Implement your network topology\n",
        "\n",
        "Use the “Deep Convolution U-Net” from this paper: [(U-Net: Convolutional Networks for Biomedical Image Segmentation)](https://arxiv.org/pdf/1505.04597.pdf) \n",
        "\n",
        "![(Figure 1)](https://lh3.googleusercontent.com/qnHiB3B2KRxC3NjiSDtY08_DgDGTDsHcO6PP53oNRuct-p2QXCR-gyLkDveO850F2tTAhIOPC5Ha06NP9xq1JPsVAHlQ5UXA5V-9zkUrJHGhP_MNHFoRGnjBz1vn1p8P2rMWhlAb6HQ=w2400)\n",
        "\n",
        "You should use existing pytorch functions (not your own Conv2D module), such as ```nn.Conv2d``` and ```nn.CrossEntropyLoss```;\n",
        "you will also need the pytorch function ```torch.cat``` and ```nn.ConvTranspose2d```\n",
        "\n",
        "```torch.cat``` allows you to concatenate tensors.\n",
        "```nn.ConvTranspose2d``` is the opposite of ```nn.Conv2d```.\n",
        "It is used to bring an image from low res to higher res.\n",
        "[This blog](https://towardsdatascience.com/up-sampling-with-transposed-convolution-9ae4f2df52d0) should help you understand this function in detail.\n",
        "\n",
        "You can simplify the implementation of this lab by padding the feature maps as they pass through each convolution. This will make the concatenation process easier, though this is technically a departure from the cropping technique outlined in the orginal U-Net paper. \n",
        "\n",
        "Note that the simplest network you could implement (with all the desired properties)\n",
        "is just a single convolution layer with two filters and no relu! \n",
        "Why is that? (of course it wouldn't work very well!)\n",
        "\n",
        "**TODO:**\n",
        "\n",
        "* Understand the U-Net architecture\n",
        "* Understand concatenation of inputs from multiple prior layers\n",
        "* Understand ConvTranspose\n",
        "* Answer Question / Reflect on simplest network with the desired properties\n",
        "\n",
        "**DONE:**\n",
        "* Understand the U-Net architecture\n",
        "* Understand concatenation of inputs from multiple prior layers\n",
        "* Understand ConvTranspose\n",
        "* Answer Question / Reflect on simplest network with the desired properties\n",
        "\n",
        "___\n",
        "The intention of this lab is to learn how to make deep neural nets. We'll help you with the implementation of Dataset.\n",
        "This code will download the dataset for you so that you are ready to use it and focus on network\n",
        "implementation, losses and accuracies."
      ]
    },
    {
      "cell_type": "code",
      "metadata": {
        "colab": {
          "base_uri": "https://localhost:8080/"
        },
        "id": "wQOefmcZVgTl",
        "outputId": "de7edfb2-515a-4798-e1cc-a02dfd6f0202"
      },
      "source": [
        "!pip3 install torch\n",
        "!pip3 install torchvision\n",
        "!pip3 install tqdm\n",
        "\n",
        "import torch\n",
        "import torch.nn as nn\n",
        "import torch.nn.functional as F\n",
        "import torch.optim as optim\n",
        "from torch.utils.data import Dataset, DataLoader\n",
        "import numpy as np\n",
        "import matplotlib.pyplot as plt\n",
        "from torchvision import transforms, utils, datasets\n",
        "from tqdm import tqdm\n",
        "from torch.nn.parameter import Parameter\n",
        "import pdb\n",
        "import torchvision\n",
        "import os\n",
        "import gzip\n",
        "import tarfile\n",
        "import gc\n",
        "from IPython.core.ultratb import AutoFormattedTB\n",
        "__ITB__ = AutoFormattedTB(mode = 'Verbose',color_scheme='LightBg', tb_offset = 1)\n",
        "\n",
        "assert torch.cuda.is_available(), \"You need to request a GPU from Runtime > Change Runtime\""
      ],
      "execution_count": 1,
      "outputs": [
        {
          "output_type": "stream",
          "name": "stdout",
          "text": [
            "Requirement already satisfied: torch in /usr/local/lib/python3.7/dist-packages (1.9.0+cu102)\n",
            "Requirement already satisfied: typing-extensions in /usr/local/lib/python3.7/dist-packages (from torch) (3.7.4.3)\n",
            "Requirement already satisfied: torchvision in /usr/local/lib/python3.7/dist-packages (0.10.0+cu102)\n",
            "Requirement already satisfied: pillow>=5.3.0 in /usr/local/lib/python3.7/dist-packages (from torchvision) (7.1.2)\n",
            "Requirement already satisfied: numpy in /usr/local/lib/python3.7/dist-packages (from torchvision) (1.19.5)\n",
            "Requirement already satisfied: torch==1.9.0 in /usr/local/lib/python3.7/dist-packages (from torchvision) (1.9.0+cu102)\n",
            "Requirement already satisfied: typing-extensions in /usr/local/lib/python3.7/dist-packages (from torch==1.9.0->torchvision) (3.7.4.3)\n",
            "Requirement already satisfied: tqdm in /usr/local/lib/python3.7/dist-packages (4.62.3)\n"
          ]
        }
      ]
    },
    {
      "cell_type": "markdown",
      "metadata": {
        "id": "49quyvIJvTq8"
      },
      "source": [
        "WARNING: You may run into an error that says \"RuntimeError: CUDA out of memory.\"\n",
        "\n",
        "In this case, the memory required for your batch is larger than what the GPU is capable of. You can solve this problem by adjusting the image size or the batch size and then restarting the runtime. "
      ]
    },
    {
      "cell_type": "code",
      "metadata": {
        "id": "Il_53HLSWPTY"
      },
      "source": [
        "class CancerDataset(Dataset):\n",
        "  def __init__(self, root, download=True, size=256, train=True): # originally 512\n",
        "    if download and not os.path.exists(os.path.join(root, 'cancer_data')):\n",
        "      datasets.utils.download_url('http://liftothers.org/cancer_data.tar.gz', root, 'cancer_data.tar.gz', None)\n",
        "      self.extract_gzip(os.path.join(root, 'cancer_data.tar.gz'))\n",
        "      self.extract_tar(os.path.join(root, 'cancer_data.tar'))\n",
        "    \n",
        "    postfix = 'train' if train else 'test'\n",
        "    root = os.path.join(root, 'cancer_data', 'cancer_data')\n",
        "    self.dataset_folder = torchvision.datasets.ImageFolder(os.path.join(root, 'inputs_' + postfix) ,transform = transforms.Compose([transforms.Resize(size),transforms.ToTensor()]))\n",
        "    self.label_folder = torchvision.datasets.ImageFolder(os.path.join(root, 'outputs_' + postfix) ,transform = transforms.Compose([transforms.Resize(size),transforms.ToTensor()]))\n",
        "\n",
        "  @staticmethod\n",
        "  def extract_gzip(gzip_path, remove_finished=False):\n",
        "    print('Extracting {}'.format(gzip_path))\n",
        "    with open(gzip_path.replace('.gz', ''), 'wb') as out_f, gzip.GzipFile(gzip_path) as zip_f:\n",
        "      out_f.write(zip_f.read())\n",
        "    if remove_finished:\n",
        "      os.unlink(gzip_path)\n",
        "  \n",
        "  @staticmethod\n",
        "  def extract_tar(tar_path):\n",
        "    print('Untarring {}'.format(tar_path))\n",
        "    z = tarfile.TarFile(tar_path)\n",
        "    z.extractall(tar_path.replace('.tar', ''))\n",
        "\n",
        "  def __getitem__(self,index):\n",
        "    img = self.dataset_folder[index]\n",
        "    label = self.label_folder[index]\n",
        "    return img[0],label[0][0]\n",
        "  \n",
        "  def __len__(self):\n",
        "    return len(self.dataset_folder)"
      ],
      "execution_count": 2,
      "outputs": []
    },
    {
      "cell_type": "code",
      "metadata": {
        "colab": {
          "base_uri": "https://localhost:8080/",
          "height": 236
        },
        "id": "XPgrP88aOtfy",
        "outputId": "322a782a-a7a5-47cb-d936-ea3d821b2f62"
      },
      "source": [
        "# You'll probably want a function or something to test input / output sizes of the ConvTranspose2d layer\n",
        "x, y = train_dataset[0]\n",
        "test_conv = nn.Conv2d(3, 64, kernel_size=(3, 3), padding=(1, 1))\n",
        "print(x.size())\n",
        "test_maxpool = nn.MaxPool2d(2, stride=2)\n",
        "print(test_maxpool(x).size())\n",
        "test_upsample = nn.ConvTranspose2d(64, 128, kernel_size=(3, 3))\n",
        "#print(test_conv(x).size())\n",
        "#print(test_upsample(test_conv(x)).size())"
      ],
      "execution_count": null,
      "outputs": [
        {
          "ename": "NameError",
          "evalue": "ignored",
          "output_type": "error",
          "traceback": [
            "\u001b[0;31m---------------------------------------------------------------------------\u001b[0m",
            "\u001b[0;31mNameError\u001b[0m                                 Traceback (most recent call last)",
            "\u001b[0;32m<ipython-input-3-1657353ce43f>\u001b[0m in \u001b[0;36m<module>\u001b[0;34m()\u001b[0m\n\u001b[1;32m      1\u001b[0m \u001b[0;31m# You'll probably want a function or something to test input / output sizes of the ConvTranspose2d layer\u001b[0m\u001b[0;34m\u001b[0m\u001b[0;34m\u001b[0m\u001b[0;34m\u001b[0m\u001b[0m\n\u001b[0;32m----> 2\u001b[0;31m \u001b[0mx\u001b[0m\u001b[0;34m,\u001b[0m \u001b[0my\u001b[0m \u001b[0;34m=\u001b[0m \u001b[0mtrain_dataset\u001b[0m\u001b[0;34m[\u001b[0m\u001b[0;36m0\u001b[0m\u001b[0;34m]\u001b[0m\u001b[0;34m\u001b[0m\u001b[0;34m\u001b[0m\u001b[0m\n\u001b[0m\u001b[1;32m      3\u001b[0m \u001b[0mtest_conv\u001b[0m \u001b[0;34m=\u001b[0m \u001b[0mnn\u001b[0m\u001b[0;34m.\u001b[0m\u001b[0mConv2d\u001b[0m\u001b[0;34m(\u001b[0m\u001b[0;36m3\u001b[0m\u001b[0;34m,\u001b[0m \u001b[0;36m64\u001b[0m\u001b[0;34m,\u001b[0m \u001b[0mkernel_size\u001b[0m\u001b[0;34m=\u001b[0m\u001b[0;34m(\u001b[0m\u001b[0;36m3\u001b[0m\u001b[0;34m,\u001b[0m \u001b[0;36m3\u001b[0m\u001b[0;34m)\u001b[0m\u001b[0;34m,\u001b[0m \u001b[0mpadding\u001b[0m\u001b[0;34m=\u001b[0m\u001b[0;34m(\u001b[0m\u001b[0;36m1\u001b[0m\u001b[0;34m,\u001b[0m \u001b[0;36m1\u001b[0m\u001b[0;34m)\u001b[0m\u001b[0;34m)\u001b[0m\u001b[0;34m\u001b[0m\u001b[0;34m\u001b[0m\u001b[0m\n\u001b[1;32m      4\u001b[0m \u001b[0mprint\u001b[0m\u001b[0;34m(\u001b[0m\u001b[0mx\u001b[0m\u001b[0;34m.\u001b[0m\u001b[0msize\u001b[0m\u001b[0;34m(\u001b[0m\u001b[0;34m)\u001b[0m\u001b[0;34m)\u001b[0m\u001b[0;34m\u001b[0m\u001b[0;34m\u001b[0m\u001b[0m\n\u001b[1;32m      5\u001b[0m \u001b[0mtest_maxpool\u001b[0m \u001b[0;34m=\u001b[0m \u001b[0mnn\u001b[0m\u001b[0;34m.\u001b[0m\u001b[0mMaxPool2d\u001b[0m\u001b[0;34m(\u001b[0m\u001b[0;36m2\u001b[0m\u001b[0;34m,\u001b[0m \u001b[0mstride\u001b[0m\u001b[0;34m=\u001b[0m\u001b[0;36m2\u001b[0m\u001b[0;34m)\u001b[0m\u001b[0;34m\u001b[0m\u001b[0;34m\u001b[0m\u001b[0m\n",
            "\u001b[0;31mNameError\u001b[0m: name 'train_dataset' is not defined"
          ]
        }
      ]
    },
    {
      "cell_type": "code",
      "metadata": {
        "id": "jq22IyKanxo_"
      },
      "source": [
        "# Since you will be using the output of one network in two places(convolution and maxpooling),\n",
        "# you can't use nn.Sequential.\n",
        "# Instead you will write up the network like normal variable assignment as the example shown below:\n",
        "# You are welcome (and encouraged) to use the built-in batch normalization and dropout layer.\n",
        "\n",
        "# TODO: You need to change this to fit the UNet structure!!!\n",
        "class CancerDetection(nn.Module):\n",
        "  def __init__(self): # CancerDetection constructor\n",
        "    # You always need to use super to call nn.Module's init function when creating a class that inherits nn.Module.\n",
        "    super(CancerDetection, self).__init__()\n",
        "    \n",
        "    # Always initialize your layers in the init function.\n",
        "    self.conv1 = nn.Conv2d(3,64,kernel_size = 3, stride = 1, padding = 1)\n",
        "    self.relu2 = nn.ReLU()\n",
        "    self.conv3 = nn.Conv2d(64,128,kernel_size = 3, stride = 1, padding = 1)\n",
        "    self.relu4 = nn.ReLU()\n",
        " \n",
        "  def forward(self, input): # nn.Module sets up a hook that calls forward when you \"call\" the module object: net(x) calls net.forward(x)\n",
        "    conv1_out = self.conv1(input)\n",
        "    relu2_out = self.relu2(conv1_out)\n",
        "    conv3_out = self.conv3(relu2_out)\n",
        "    relu4_out = self.relu4(conv3_out) \n",
        "    return relu4_out\n"
      ],
      "execution_count": null,
      "outputs": []
    },
    {
      "cell_type": "markdown",
      "metadata": {
        "id": "RRx8HteIzdkb"
      },
      "source": [
        "Helper Model for Layers"
      ]
    },
    {
      "cell_type": "code",
      "metadata": {
        "id": "2rwQBh2Yzc_2"
      },
      "source": [
        "class UNetLayer(nn.Module):\n",
        "  def __init__(self, in_channels, mid_channels, out_channels):\n",
        "    super(UNetLayer, self).__init__()\n",
        "\n",
        "    self.conv1 = nn.Conv2d(in_channels, mid_channels, kernel_size=(3, 3), padding=(1, 1))\n",
        "    self.relu = nn.ReLU()\n",
        "\n",
        "    self.conv2 = nn.Conv2d(mid_channels, out_channels, kernel_size=(3, 3), padding=(1, 1))\n",
        "  \n",
        "  def forward(self, input):\n",
        "    conv1_out = self.conv1(input)\n",
        "    relu1_out = self.relu(conv1_out)\n",
        "    conv2_out = self.conv2(relu1_out)\n",
        "    relu2_out = self.relu(conv2_out)\n",
        "    return relu2_out\n"
      ],
      "execution_count": 3,
      "outputs": []
    },
    {
      "cell_type": "markdown",
      "metadata": {
        "id": "4LxfuArKk00U"
      },
      "source": [
        "Model"
      ]
    },
    {
      "cell_type": "code",
      "metadata": {
        "id": "zTUt1n2Ik1hM"
      },
      "source": [
        "class CancerDetection(nn.Module):\n",
        "  def __init__(self):\n",
        "    super(CancerDetection, self).__init__()\n",
        "    # define my layers (don't use sequential) # CREATE ANOTHER MODULE THAT DOES EACH LAYER I.E CONV&RELU\n",
        "    # defining --------- L1 ----------\n",
        "    self.L1 = UNetLayer(3, 64, 64)\n",
        "    # defining -------- L2 -----------\n",
        "    self.L2 = UNetLayer(64, 128, 128)\n",
        "    # defining -------- L3 -----------\n",
        "    self.L3 = UNetLayer(128, 256, 256)\n",
        "    # defining -------- L4 -----------\n",
        "    self.L4 = UNetLayer(256, 512, 512)\n",
        "    # defining -------- B ------------\n",
        "    self.B = UNetLayer(512, 1024, 1024)\n",
        "    # defining -------- R4 -----------\n",
        "    self.R4 = UNetLayer(1024, 512, 512)\n",
        "    # defining -------- R3 -----------\n",
        "    self.R3 = UNetLayer(512, 256, 256)\n",
        "    # defining -------- R2 -----------\n",
        "    self.R2 = UNetLayer(256, 128, 128)\n",
        "    # defining -------- R1 -----------\n",
        "    self.R1 = UNetLayer(128, 64, 64)\n",
        "  \n",
        "    # define maxpool\n",
        "    self.maxpool = nn.MaxPool2d(2, stride=2) # size 2 stride 2, but figure out why. might need to be different, just make sure (x,y) sizes go down by half\n",
        "    # define upconv\n",
        "    self.upconv4 = nn.ConvTranspose2d(1024, 512, kernel_size=(17, 17)) #33, 33 | 17, 17 | 9, 9\n",
        "    self.upconv3 = nn.ConvTranspose2d(512, 256, kernel_size=(33, 33)) #65, 65 | 33, 33\n",
        "    self.upconv2 = nn.ConvTranspose2d(256, 128, kernel_size=(65, 65)) #129, 129 | 65, 65\n",
        "    self.upconv1 = nn.ConvTranspose2d(128, 64, kernel_size=(129, 129)) #257, 257 | 129, 129\n",
        "    #self.upconv = nn.ConvTranspose2d(torch.cat()) # concat green arrow to grey arrow\n",
        "    self.final_conv = nn.Conv2d(64, 2, kernel_size=(3, 3), padding=(1, 1))\n",
        "\n",
        "  def forward(self, input):\n",
        "    # define forward pass through each layer\n",
        "    L1_output = self.L1(input)\n",
        "    #print('L1_output size: ', L1_output.size())\n",
        "    L1_maxpool = self.maxpool(L1_output)\n",
        "    #print('L1_maxpool size: ', L1_maxpool.size())\n",
        "    L2_output = self.L2(L1_maxpool)\n",
        "    #print('L2_output size: ', L2_output.size())\n",
        "    L2_maxpool = self.maxpool(L2_output)\n",
        "    L3_output = self.L3(L2_maxpool)\n",
        "    #print('L3_output size: ', L3_output.size())\n",
        "    L3_maxpool = self.maxpool(L3_output)\n",
        "    L4_output = self.L4(L3_maxpool)\n",
        "    #print('L4_output size: ', L4_output.size())\n",
        "    L4_maxpool = self.maxpool(L4_output)\n",
        "    B_output = self.B(L4_maxpool)\n",
        "    #pdb.set_trace()\n",
        "    #print('B_output size: ', B_output.size())\n",
        "    #print('L4_output size: ', L4_output.size())\n",
        "    B_ups = torch.cat((L4_output, self.upconv4(B_output)), 1)\n",
        "    #print('B_ups size: ', B_ups.size())\n",
        "    R4_output = self.R4(B_ups)\n",
        "    #print('R4_output size: ', R4_output.size())\n",
        "    R4_ups = torch.cat((L3_output, self.upconv3(R4_output)), 1)\n",
        "    #print('R4_ups size: ', R4_ups.size())\n",
        "    R3_output = self.R3(R4_ups)\n",
        "    R3_ups = torch.cat((L2_output, self.upconv2(R3_output)), 1)\n",
        "    #print('R3_ups size: ', R3_ups.size())\n",
        "    R2_output = self.R2(R3_ups)\n",
        "    R2_ups = torch.cat((L1_output, self.upconv1(R2_output)), 1)\n",
        "    #print('R2_ups size: ', R2_ups.size())\n",
        "    R1_output = self.R1(R2_ups)\n",
        "    #print('R1_output size: ', R1_output.size())\n",
        "    #print('finished ups')\n",
        "    # then do a conv 1x1\n",
        "    final_output = self.final_conv(R1_output)\n",
        "    #print('final out b4 argmax: ', final_output.size())\n",
        "    #print('finished U')\n",
        "\n",
        "    # torch.argmax(final_output, dim=1, keepdim=True)\n",
        "    #print('in my model, final_output: ', final_output.size())\n",
        "    return final_output\n",
        "\n",
        "    # CEL(y_hat, y)\n",
        "    # y_hat size = (b,c,h,w)\n",
        "    # y size = (b, h, w)\n",
        "    # don't squeeze anything"
      ],
      "execution_count": 4,
      "outputs": []
    },
    {
      "cell_type": "code",
      "metadata": {
        "colab": {
          "base_uri": "https://localhost:8080/"
        },
        "id": "AZRi3-T79VPn",
        "outputId": "fa5d5318-f462-48c0-8ea9-455249f2cddc"
      },
      "source": [
        "len(train_dataset)\n",
        "x, y = train_dataset[0]\n",
        "print(x.size())\n",
        "print(y.size())"
      ],
      "execution_count": null,
      "outputs": [
        {
          "name": "stdout",
          "output_type": "stream",
          "text": [
            "torch.Size([3, 512, 512])\n",
            "torch.Size([512, 512])\n"
          ]
        }
      ]
    },
    {
      "cell_type": "code",
      "metadata": {
        "colab": {
          "base_uri": "https://localhost:8080/",
          "height": 404,
          "referenced_widgets": [
            "f8822e34129c453780d51ee7c2cc11c8",
            "4c38fb08a73f4ea8813d823482edc251",
            "e05e825ed96b4d5c82da24ec7490f524",
            "3eef5012d96b4039abce49cae2352dd8",
            "44ccdc940ef4472aa84c31c69c9e8409",
            "fac788ce29434d9cad93127cdd7bbce1",
            "f70e646ed01746bb891121e126decf19",
            "cdaffbe3e3754e62b79928bfcac7ee87",
            "81709623633b45beaa2f1ac04d0cc795",
            "db07246d5e9f4aadadb2cc60872ad2c8",
            "ebb08b337c3e47c7ac7577ceecdf6e36"
          ]
        },
        "id": "RkieTbwlYWPS",
        "outputId": "115c8f77-c0c9-4f6f-b56e-2d8fbb7e7e2a"
      },
      "source": [
        "# This is what was talked about in the video for memory management\n",
        "pictures_to_plot = []\n",
        "losses = []\n",
        "losses_per_epoch = []\n",
        "validations = []\n",
        "train_accuracies = []\n",
        "val_accuracies = []\n",
        "def scope():\n",
        "  try:\n",
        "    #your code for calling dataset and dataloader\n",
        "    gc.collect()\n",
        "    # Create your datasets, dataloaders and neural network as you have before\n",
        "    # Tip: Pass shuffle=True to constructor for training dataloader to automatically shuffle training data each epoch. You can shuffle the validation loader, but you don't need to.\n",
        "\n",
        "    # initialize datasets\n",
        "    train_dataset = CancerDataset('/tmp/cancer')\n",
        "    val_dataset = CancerDataset('/tmp/cancer', train=False)\n",
        "\n",
        "    # Initialize DataLoaders\n",
        "    train_loader = DataLoader(train_dataset,\n",
        "                              batch_size=6, # originally 42\n",
        "                              pin_memory=True, shuffle=True)\n",
        "    val_loader = DataLoader(val_dataset,\n",
        "                            batch_size=6, # originally 42\n",
        "                            pin_memory=True, shuffle=True)\n",
        "\n",
        "    # Initialize Model\n",
        "    model = CancerDetection()\n",
        "    model = model.cuda()\n",
        "\n",
        "    # Initialize Objective and Optimizer and other parameters\n",
        "    objective = nn.CrossEntropyLoss()\n",
        "    optimizer = optim.Adam(model.parameters(), lr=1e-4)\n",
        "    #print(torch.cuda.memory_allocated() / 1e9)\n",
        "    \n",
        "\n",
        "    for epoch in range(5):\n",
        "      prev = 0\n",
        "      loop = tqdm(total=len(train_loader), position=0, leave=False)\n",
        "\n",
        "      for batch, (x, y_truth) in enumerate(train_loader):\n",
        "        x, y_truth = x.cuda(non_blocking=True), y_truth.cuda(non_blocking=True)\n",
        "\n",
        "        #output_val_image_172 = model(torch.unsqueeze(val_dataset[172][0], 0).cuda(non_blocking=True)).squeeze(0) # unsqueeze the value to get \"batch\"\n",
        "        #print('out val img: ', output_val_image_172.size())\n",
        "\n",
        "        optimizer.zero_grad()\n",
        "        y_hat = model(x)\n",
        "        #print('y_hat size: ', y_hat.size())\n",
        "        y_hat = y_hat.float()\n",
        "        #print('y_truth size: ', y_truth.size())\n",
        "        y_truth = y_truth.long()\n",
        "        loss = objective(y_hat, y_truth)\n",
        "        loss.backward()\n",
        "\n",
        "        \n",
        "\n",
        "        #if batch % 50 == 0:\n",
        "        #  img_test = model(torch.unsqueeze(val_dataset[172][0], 0).cuda(non_blocking=True)) #.squeeze(0)\n",
        "        #  img_test = torch.argmax(img_test, dim=1, keepdim=True).squeeze(0)\n",
        "          #print('img test size 2: ', img_test.size())\n",
        "        #  plt.figure(batch)\n",
        "        #  my_image = img_test.permute(1, 2, 0).cpu().detach().numpy()\n",
        "          #print('beginning imshow')\n",
        "          #print(my_image2.shape)\n",
        "        #  plt.imshow(my_image.squeeze(2), cmap='gray')\n",
        "        \n",
        "        losses.append(loss.item())\n",
        "        #print('\\ny_hat: ', y_hat)\n",
        "        accuracy = (y_hat.argmax(1) == y_truth).float().mean()\n",
        "        #print(accuracy)\n",
        "        train_accuracies.append(accuracy)\n",
        "        loop.set_description('epoch:{}, batch:{}, loss:{:.4f}, accuracy:{:.3f}'.format(epoch, batch, loss.item(), accuracy))\n",
        "        loop.update(1)\n",
        "        del y_hat, x, y_truth\n",
        "        optimizer.step()\n",
        "        #print('batch: ', batch)\n",
        "        if batch % 100 == 0:\n",
        "          #val = np.mean([objective(model(x.cuda()), y.cuda()).item()\n",
        "                        #for x, y in val_loader])\n",
        "          #validations.append((len(losses), val))\n",
        "          val_acc_list = []\n",
        "          for inc, (x_val, y_val) in enumerate(val_loader):\n",
        "            x_val, y_val = x_val.cuda(non_blocking=True), y_val.cuda(non_blocking=True)\n",
        "            y_val_hat = model(x_val)\n",
        "\n",
        "            val = np.mean([objective(y_val_hat.float(), y_val.long()).item()])\n",
        "            validations.append((len(losses), val))\n",
        "            \n",
        "            val_acc = (y_val_hat.argmax(1) == y_val).float().mean()\n",
        "            val_acc_list.append(val_acc.item())\n",
        "          #print(val_acc)\n",
        "            del y_val_hat, x_val, y_val\n",
        "          val_accuracies.append((len(train_accuracies), np.array(val_acc_list).mean()))\n",
        "      \n",
        "      # calculate and save the image needed for part 3\n",
        "      # pass the val_dataset image 172 through the model\n",
        "      output_val_image_172 = model(torch.unsqueeze(val_dataset[172][0], 0).cuda(non_blocking=True)) # unsqueeze the value to get \"batch\", then squeeze out the batch for image saving\n",
        "      output_val_image_172 = torch.argmax(output_val_image_172, dim=1, keepdim=True).squeeze(0)\n",
        "      output_val_image_172 = output_val_image_172.permute(1, 2, 0).cpu().detach().numpy() # change from (c, h, w) -> (h, w, c) to be able to change to into picture\n",
        "      pictures_to_plot.append(output_val_image_172.squeeze(2))\n",
        "      del output_val_image_172\n",
        "      losses_per_epoch.append(sum(losses[prev:len(losses)]) / (len(losses) - prev))\n",
        "      prev = len(losses)\n",
        "        \n",
        "      loop.close()\n",
        "\n",
        "    a, b = zip(*validations)\n",
        "    plt.plot(losses, label='train')\n",
        "    plt.plot(a, b, label='val')\n",
        "    plt.legend()\n",
        "    plt.show()\n",
        "    \n",
        "    #for epochs:\n",
        "    # Call your model, figure out loss and accuracy\n",
        "    \n",
        "  except:\n",
        "    __ITB__()\n",
        "    \n",
        "scope()\n"
      ],
      "execution_count": 5,
      "outputs": [
        {
          "output_type": "stream",
          "name": "stdout",
          "text": [
            "Downloading http://liftothers.org/cancer_data.tar.gz to /tmp/cancer/cancer_data.tar.gz\n"
          ]
        },
        {
          "output_type": "display_data",
          "data": {
            "application/vnd.jupyter.widget-view+json": {
              "model_id": "f8822e34129c453780d51ee7c2cc11c8",
              "version_minor": 0,
              "version_major": 2
            },
            "text/plain": [
              "  0%|          | 0/2750494655 [00:00<?, ?it/s]"
            ]
          },
          "metadata": {}
        },
        {
          "output_type": "stream",
          "name": "stdout",
          "text": [
            "Extracting /tmp/cancer/cancer_data.tar.gz\n",
            "Untarring /tmp/cancer/cancer_data.tar\n"
          ]
        },
        {
          "output_type": "stream",
          "name": "stderr",
          "text": [
            "\r  0%|          | 0/224 [00:00<?, ?it/s]/usr/local/lib/python3.7/dist-packages/torch/nn/functional.py:718: UserWarning: Named tensors and all their associated APIs are an experimental feature and subject to change. Please do not use them for anything important until they are released as stable. (Triggered internally at  /pytorch/c10/core/TensorImpl.h:1156.)\n",
            "  return torch.max_pool2d(input, kernel_size, stride, padding, dilation, ceil_mode)\n"
          ]
        },
        {
          "output_type": "display_data",
          "data": {
            "image/png": "[encoded data removed]",
            "text/plain": [
              "<Figure size 432x288 with 1 Axes>"
            ]
          },
          "metadata": {
            "needs_background": "light"
          }
        }
      ]
    },
    {
      "cell_type": "markdown",
      "metadata": {
        "id": "CZ062Jv1jIIu"
      },
      "source": [
        "\n",
        "___\n",
        "\n",
        "### Part 2\n",
        "\n",
        "Plot performance over time\n",
        "\n",
        "Please generate two plots:\n",
        "\n",
        " One that shows loss on the training and validation set as a function of training time. \n",
        "\n",
        " One that shows accuracy on the training and validation set as a function of training time. \n",
        "\n",
        " Make sure your axes are labeled!\n",
        "\n",
        "**TODO:**\n",
        "\n",
        "* Plot training/validation loss as function of training time (not epochs)\n",
        "* Plot training/validation accuracy as function of training time (not epochs)\n",
        "\n",
        "**DONE:**\n",
        "* Plot training/validation loss as function of training time (not epochs)\n",
        "* Plot training/validation accuracy as function of training time (not epochs)\n",
        "\n"
      ]
    },
    {
      "cell_type": "code",
      "metadata": {
        "id": "mTg1jyIsYVZN",
        "colab": {
          "base_uri": "https://localhost:8080/",
          "height": 312
        },
        "outputId": "117cb61e-67ae-45e9-959e-875bad1b69c5"
      },
      "source": [
        "# Your plotting code here\n",
        "print(len(train_accuracies))\n",
        "a, b = zip(*val_accuracies)\n",
        "plt.plot(train_accuracies, label='train')\n",
        "plt.plot(a, b, label='val')\n",
        "plt.title('Accuracy')\n",
        "plt.ylabel('Accuracy %')\n",
        "plt.xlabel('Batch / Run Time')\n",
        "plt.legend()\n",
        "plt.show()"
      ],
      "execution_count": 6,
      "outputs": [
        {
          "output_type": "stream",
          "name": "stdout",
          "text": [
            "1120\n"
          ]
        },
        {
          "output_type": "display_data",
          "data": {
            "image/png": "[encoded data removed]",
            "text/plain": [
              "<Figure size 432x288 with 1 Axes>"
            ]
          },
          "metadata": {
            "needs_background": "light"
          }
        }
      ]
    },
    {
      "cell_type": "code",
      "metadata": {
        "colab": {
          "base_uri": "https://localhost:8080/",
          "height": 281
        },
        "id": "u5Qg2Ya-Zw3E",
        "outputId": "705904ed-44d9-47e8-c713-25298e25c7b5"
      },
      "source": [
        "a, b = zip(*validations)\n",
        "plt.plot(losses, label='train')\n",
        "plt.plot([0, 276, 552, 828, 1104], losses_per_epoch, label='val')\n",
        "plt.title('Losses')\n",
        "\n",
        "plt.legend()\n",
        "plt.show()"
      ],
      "execution_count": 10,
      "outputs": [
        {
          "output_type": "display_data",
          "data": {
            "image/png": "[encoded data removed]",
            "text/plain": [
              "<Figure size 432x288 with 1 Axes>"
            ]
          },
          "metadata": {
            "needs_background": "light"
          }
        }
      ]
    },
    {
      "cell_type": "markdown",
      "metadata": {
        "id": "6cIarbsrbkv9"
      },
      "source": [
        "**NOTE:**\n",
        "\n",
        "Guessing that the pixel is not cancerous every single time will give you an accuracy of ~ 85%.\n",
        "Your trained network should be able to do better than that (but you will not be graded on accuracy).\n",
        "This is the result I got after 1 hour or training.\n",
        "\n",
        "![](http://liftothers.org/dokuwiki/lib/exe/fetch.php?w=400&tok=d23e0b&media=cs501r_f2016:training_accuracy.png)\n",
        "![](http://liftothers.org/dokuwiki/lib/exe/fetch.php?w=400&tok=bb8e3c&media=cs501r_f2016:training_loss.png)"
      ]
    },
    {
      "cell_type": "markdown",
      "metadata": {
        "id": "S4s92S2_jQOG"
      },
      "source": [
        "___\n",
        "\n",
        "### Part 3\n",
        "\n",
        "Generate at least 5 predictions on the pos_test_000072.png image and display them as images. These predictions should be made at a reasonable interval (e.g. every epoch). \n",
        "\n",
        "You can load this image from the file pos_test_000072.png, or you can get it from the dataset object. It is item 172 of the validation dataset.\n",
        "You can print both the data instance (x) and the ground-truth label (y_hat) to see how well your network predicts on that instance.\n",
        "\n",
        "To do this, calculate the output of your trained network on the pos_test_000072.png image,\n",
        "then make a hard decision (cancerous/not-cancerous) for each pixel.\n",
        "The resulting image should be black-and-white, where white pixels represent areas\n",
        "the network considers cancerous.\n",
        "\n",
        "**TODO:**\n",
        "\n",
        "**DONE:**\n",
        "\n"
      ]
    },
    {
      "cell_type": "code",
      "metadata": {
        "id": "XXfG3wClh8an",
        "colab": {
          "base_uri": "https://localhost:8080/",
          "height": 1000
        },
        "outputId": "99dc71a0-0a2f-4060-a40a-d74b8d76aaad"
      },
      "source": [
        "# Code for testing prediction on an image\n",
        "#len(pictures_to_plot)\n",
        "#print('COMPARE TO THIS')\n",
        "#plt.figure(0)\n",
        "#plt.imshow(torch.unsqueeze(val_dataset[172][0], 0).squeeze(0).permute(1, 2, 0))\n",
        "i = 0\n",
        "for picture in pictures_to_plot:\n",
        "  plt.figure(i)\n",
        "  plt.title('Epoch {}'.format(i))\n",
        "  plt.imshow(picture, cmap='gray')\n",
        "  i += 1\n",
        "\n",
        "\n",
        "\n",
        "\n",
        "#plt.figure(0)\n",
        "#plt.imshow(torch.unsqueeze(val_dataset[172][0], 0).squeeze(0).permute(1, 2, 0))\n",
        "#print(len(val_dataset[172]))\n",
        "#plt.imshow()\n",
        "#plt.title()\n",
        "#plt.show()\n",
        "\n",
        "#tensor(b,c,h,w)\n",
        "#np.(h,w,c)\n",
        "\n",
        "#valset[172] as tensor (c, h, w) -> (h, w, c) to np. then plt.imshow"
      ],
      "execution_count": 11,
      "outputs": [
        {
          "output_type": "display_data",
          "data": {
            "image/png": "[encoded data removed]",
            "text/plain": [
              "<Figure size 432x288 with 1 Axes>"
            ]
          },
          "metadata": {
            "needs_background": "light"
          }
        },
        {
          "output_type": "display_data",
          "data": {
            "image/png": "[encoded data removed]",
            "text/plain": [
              "<Figure size 432x288 with 1 Axes>"
            ]
          },
          "metadata": {
            "needs_background": "light"
          }
        },
        {
          "output_type": "display_data",
          "data": {
            "image/png": "[encoded data removed]",
            "text/plain": [
              "<Figure size 432x288 with 1 Axes>"
            ]
          },
          "metadata": {
            "needs_background": "light"
          }
        },
        {
          "output_type": "display_data",
          "data": {
            "image/png": "[encoded data removed]",
            "text/plain": [
              "<Figure size 432x288 with 1 Axes>"
            ]
          },
          "metadata": {
            "needs_background": "light"
          }
        },
        {
          "output_type": "display_data",
          "data": {
            "image/png": "[encoded data removed]",
            "text/plain": [
              "<Figure size 432x288 with 1 Axes>"
            ]
          },
          "metadata": {
            "needs_background": "light"
          }
        }
      ]
    },
    {
      "cell_type": "code",
      "metadata": {
        "id": "fQUrDxEoonNY"
      },
      "source": [
        "gpu_info = !nvidia-smi\n",
        "gpu_info = '\\n'.join(gpu_info)\n",
        "if gpu_info.find('failed') >= 0:\n",
        "  print('Not connected to a GPU')\n",
        "else:\n",
        "  print(gpu_info)"
      ],
      "execution_count": null,
      "outputs": []
    }
  ]
}