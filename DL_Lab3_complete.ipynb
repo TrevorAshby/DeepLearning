{
  "nbformat": 4,
  "nbformat_minor": 0,
  "metadata": {
    "accelerator": "GPU",
    "colab": {
      "name": "DL_Lab3.ipynb",
      "provenance": [],
      "collapsed_sections": []
    },
    "kernelspec": {
      "display_name": "Python 3",
      "language": "python",
      "name": "python3"
    },
    "language_info": {
      "codemirror_mode": {
        "name": "ipython",
        "version": 3
      },
      "file_extension": ".py",
      "mimetype": "text/x-python",
      "name": "python",
      "nbconvert_exporter": "python",
      "pygments_lexer": "ipython3",
      "version": "3.7.1"
    },
    "pycharm": {
      "stem_cell": {
        "cell_type": "raw",
        "metadata": {
          "collapsed": false
        },
        "source": []
      }
    },
    "widgets": {
      "application/vnd.jupyter.widget-state+json": {
        "76307b4dd3b14c28b311b29ec080d450": {
          "model_module": "@jupyter-widgets/controls",
          "model_name": "HBoxModel",
          "model_module_version": "1.5.0",
          "state": {
            "_view_name": "HBoxView",
            "_dom_classes": [],
            "_model_name": "HBoxModel",
            "_view_module": "@jupyter-widgets/controls",
            "_model_module_version": "1.5.0",
            "_view_count": null,
            "_view_module_version": "1.5.0",
            "box_style": "",
            "layout": "IPY_MODEL_c05c84e1f47443399e6fb69f1796e1d8",
            "_model_module": "@jupyter-widgets/controls",
            "children": [
              "IPY_MODEL_0c9d97e2deeb4fa5b8e694874ddcc277",
              "IPY_MODEL_3d5e5a4e65644d72b61df9bf1ada81f9",
              "IPY_MODEL_8c54ca4bd37b498ca6becc2ed6b96944"
            ]
          }
        },
        "c05c84e1f47443399e6fb69f1796e1d8": {
          "model_module": "@jupyter-widgets/base",
          "model_name": "LayoutModel",
          "model_module_version": "1.2.0",
          "state": {
            "_view_name": "LayoutView",
            "grid_template_rows": null,
            "right": null,
            "justify_content": null,
            "_view_module": "@jupyter-widgets/base",
            "overflow": null,
            "_model_module_version": "1.2.0",
            "_view_count": null,
            "flex_flow": null,
            "width": null,
            "min_width": null,
            "border": null,
            "align_items": null,
            "bottom": null,
            "_model_module": "@jupyter-widgets/base",
            "top": null,
            "grid_column": null,
            "overflow_y": null,
            "overflow_x": null,
            "grid_auto_flow": null,
            "grid_area": null,
            "grid_template_columns": null,
            "flex": null,
            "_model_name": "LayoutModel",
            "justify_items": null,
            "grid_row": null,
            "max_height": null,
            "align_content": null,
            "visibility": null,
            "align_self": null,
            "height": null,
            "min_height": null,
            "padding": null,
            "grid_auto_rows": null,
            "grid_gap": null,
            "max_width": null,
            "order": null,
            "_view_module_version": "1.2.0",
            "grid_template_areas": null,
            "object_position": null,
            "object_fit": null,
            "grid_auto_columns": null,
            "margin": null,
            "display": null,
            "left": null
          }
        },
        "0c9d97e2deeb4fa5b8e694874ddcc277": {
          "model_module": "@jupyter-widgets/controls",
          "model_name": "HTMLModel",
          "model_module_version": "1.5.0",
          "state": {
            "_view_name": "HTMLView",
            "style": "IPY_MODEL_508d66024c7d475ea11b03af6279b108",
            "_dom_classes": [],
            "description": "",
            "_model_name": "HTMLModel",
            "placeholder": "​",
            "_view_module": "@jupyter-widgets/controls",
            "_model_module_version": "1.5.0",
            "value": "",
            "_view_count": null,
            "_view_module_version": "1.5.0",
            "description_tooltip": null,
            "_model_module": "@jupyter-widgets/controls",
            "layout": "IPY_MODEL_4c91354b1c9a49c19bea0915d6ba1a3f"
          }
        },
        "3d5e5a4e65644d72b61df9bf1ada81f9": {
          "model_module": "@jupyter-widgets/controls",
          "model_name": "FloatProgressModel",
          "model_module_version": "1.5.0",
          "state": {
            "_view_name": "ProgressView",
            "style": "IPY_MODEL_d8c300630b284072bd0807dfb28eb794",
            "_dom_classes": [],
            "description": "",
            "_model_name": "FloatProgressModel",
            "bar_style": "success",
            "max": 26421880,
            "_view_module": "@jupyter-widgets/controls",
            "_model_module_version": "1.5.0",
            "value": 26421880,
            "_view_count": null,
            "_view_module_version": "1.5.0",
            "orientation": "horizontal",
            "min": 0,
            "description_tooltip": null,
            "_model_module": "@jupyter-widgets/controls",
            "layout": "IPY_MODEL_076098f986864d1496bfd51b6d205369"
          }
        },
        "8c54ca4bd37b498ca6becc2ed6b96944": {
          "model_module": "@jupyter-widgets/controls",
          "model_name": "HTMLModel",
          "model_module_version": "1.5.0",
          "state": {
            "_view_name": "HTMLView",
            "style": "IPY_MODEL_db173e6d737e459b93460e2cd63f06f3",
            "_dom_classes": [],
            "description": "",
            "_model_name": "HTMLModel",
            "placeholder": "​",
            "_view_module": "@jupyter-widgets/controls",
            "_model_module_version": "1.5.0",
            "value": " 26422272/? [00:00&lt;00:00, 74562636.21it/s]",
            "_view_count": null,
            "_view_module_version": "1.5.0",
            "description_tooltip": null,
            "_model_module": "@jupyter-widgets/controls",
            "layout": "IPY_MODEL_6711be0e6818439eb0a7503aa212c44f"
          }
        },
        "508d66024c7d475ea11b03af6279b108": {
          "model_module": "@jupyter-widgets/controls",
          "model_name": "DescriptionStyleModel",
          "model_module_version": "1.5.0",
          "state": {
            "_view_name": "StyleView",
            "_model_name": "DescriptionStyleModel",
            "description_width": "",
            "_view_module": "@jupyter-widgets/base",
            "_model_module_version": "1.5.0",
            "_view_count": null,
            "_view_module_version": "1.2.0",
            "_model_module": "@jupyter-widgets/controls"
          }
        },
        "4c91354b1c9a49c19bea0915d6ba1a3f": {
          "model_module": "@jupyter-widgets/base",
          "model_name": "LayoutModel",
          "model_module_version": "1.2.0",
          "state": {
            "_view_name": "LayoutView",
            "grid_template_rows": null,
            "right": null,
            "justify_content": null,
            "_view_module": "@jupyter-widgets/base",
            "overflow": null,
            "_model_module_version": "1.2.0",
            "_view_count": null,
            "flex_flow": null,
            "width": null,
            "min_width": null,
            "border": null,
            "align_items": null,
            "bottom": null,
            "_model_module": "@jupyter-widgets/base",
            "top": null,
            "grid_column": null,
            "overflow_y": null,
            "overflow_x": null,
            "grid_auto_flow": null,
            "grid_area": null,
            "grid_template_columns": null,
            "flex": null,
            "_model_name": "LayoutModel",
            "justify_items": null,
            "grid_row": null,
            "max_height": null,
            "align_content": null,
            "visibility": null,
            "align_self": null,
            "height": null,
            "min_height": null,
            "padding": null,
            "grid_auto_rows": null,
            "grid_gap": null,
            "max_width": null,
            "order": null,
            "_view_module_version": "1.2.0",
            "grid_template_areas": null,
            "object_position": null,
            "object_fit": null,
            "grid_auto_columns": null,
            "margin": null,
            "display": null,
            "left": null
          }
        },
        "d8c300630b284072bd0807dfb28eb794": {
          "model_module": "@jupyter-widgets/controls",
          "model_name": "ProgressStyleModel",
          "model_module_version": "1.5.0",
          "state": {
            "_view_name": "StyleView",
            "_model_name": "ProgressStyleModel",
            "description_width": "",
            "_view_module": "@jupyter-widgets/base",
            "_model_module_version": "1.5.0",
            "_view_count": null,
            "_view_module_version": "1.2.0",
            "bar_color": null,
            "_model_module": "@jupyter-widgets/controls"
          }
        },
        "076098f986864d1496bfd51b6d205369": {
          "model_module": "@jupyter-widgets/base",
          "model_name": "LayoutModel",
          "model_module_version": "1.2.0",
          "state": {
            "_view_name": "LayoutView",
            "grid_template_rows": null,
            "right": null,
            "justify_content": null,
            "_view_module": "@jupyter-widgets/base",
            "overflow": null,
            "_model_module_version": "1.2.0",
            "_view_count": null,
            "flex_flow": null,
            "width": null,
            "min_width": null,
            "border": null,
            "align_items": null,
            "bottom": null,
            "_model_module": "@jupyter-widgets/base",
            "top": null,
            "grid_column": null,
            "overflow_y": null,
            "overflow_x": null,
            "grid_auto_flow": null,
            "grid_area": null,
            "grid_template_columns": null,
            "flex": null,
            "_model_name": "LayoutModel",
            "justify_items": null,
            "grid_row": null,
            "max_height": null,
            "align_content": null,
            "visibility": null,
            "align_self": null,
            "height": null,
            "min_height": null,
            "padding": null,
            "grid_auto_rows": null,
            "grid_gap": null,
            "max_width": null,
            "order": null,
            "_view_module_version": "1.2.0",
            "grid_template_areas": null,
            "object_position": null,
            "object_fit": null,
            "grid_auto_columns": null,
            "margin": null,
            "display": null,
            "left": null
          }
        },
        "db173e6d737e459b93460e2cd63f06f3": {
          "model_module": "@jupyter-widgets/controls",
          "model_name": "DescriptionStyleModel",
          "model_module_version": "1.5.0",
          "state": {
            "_view_name": "StyleView",
            "_model_name": "DescriptionStyleModel",
            "description_width": "",
            "_view_module": "@jupyter-widgets/base",
            "_model_module_version": "1.5.0",
            "_view_count": null,
            "_view_module_version": "1.2.0",
            "_model_module": "@jupyter-widgets/controls"
          }
        },
        "6711be0e6818439eb0a7503aa212c44f": {
          "model_module": "@jupyter-widgets/base",
          "model_name": "LayoutModel",
          "model_module_version": "1.2.0",
          "state": {
            "_view_name": "LayoutView",
            "grid_template_rows": null,
            "right": null,
            "justify_content": null,
            "_view_module": "@jupyter-widgets/base",
            "overflow": null,
            "_model_module_version": "1.2.0",
            "_view_count": null,
            "flex_flow": null,
            "width": null,
            "min_width": null,
            "border": null,
            "align_items": null,
            "bottom": null,
            "_model_module": "@jupyter-widgets/base",
            "top": null,
            "grid_column": null,
            "overflow_y": null,
            "overflow_x": null,
            "grid_auto_flow": null,
            "grid_area": null,
            "grid_template_columns": null,
            "flex": null,
            "_model_name": "LayoutModel",
            "justify_items": null,
            "grid_row": null,
            "max_height": null,
            "align_content": null,
            "visibility": null,
            "align_self": null,
            "height": null,
            "min_height": null,
            "padding": null,
            "grid_auto_rows": null,
            "grid_gap": null,
            "max_width": null,
            "order": null,
            "_view_module_version": "1.2.0",
            "grid_template_areas": null,
            "object_position": null,
            "object_fit": null,
            "grid_auto_columns": null,
            "margin": null,
            "display": null,
            "left": null
          }
        },
        "7311877baf8b473587ccc57ca2a00a4c": {
          "model_module": "@jupyter-widgets/controls",
          "model_name": "HBoxModel",
          "model_module_version": "1.5.0",
          "state": {
            "_view_name": "HBoxView",
            "_dom_classes": [],
            "_model_name": "HBoxModel",
            "_view_module": "@jupyter-widgets/controls",
            "_model_module_version": "1.5.0",
            "_view_count": null,
            "_view_module_version": "1.5.0",
            "box_style": "",
            "layout": "IPY_MODEL_9026c9faa8b4439c9db150e90d801c4d",
            "_model_module": "@jupyter-widgets/controls",
            "children": [
              "IPY_MODEL_41f58d171c79440690f83066de0e6544",
              "IPY_MODEL_02fe191030cb48ada975edf303298ecc",
              "IPY_MODEL_405da644d5194b03886acaf7aeef414f"
            ]
          }
        },
        "9026c9faa8b4439c9db150e90d801c4d": {
          "model_module": "@jupyter-widgets/base",
          "model_name": "LayoutModel",
          "model_module_version": "1.2.0",
          "state": {
            "_view_name": "LayoutView",
            "grid_template_rows": null,
            "right": null,
            "justify_content": null,
            "_view_module": "@jupyter-widgets/base",
            "overflow": null,
            "_model_module_version": "1.2.0",
            "_view_count": null,
            "flex_flow": null,
            "width": null,
            "min_width": null,
            "border": null,
            "align_items": null,
            "bottom": null,
            "_model_module": "@jupyter-widgets/base",
            "top": null,
            "grid_column": null,
            "overflow_y": null,
            "overflow_x": null,
            "grid_auto_flow": null,
            "grid_area": null,
            "grid_template_columns": null,
            "flex": null,
            "_model_name": "LayoutModel",
            "justify_items": null,
            "grid_row": null,
            "max_height": null,
            "align_content": null,
            "visibility": null,
            "align_self": null,
            "height": null,
            "min_height": null,
            "padding": null,
            "grid_auto_rows": null,
            "grid_gap": null,
            "max_width": null,
            "order": null,
            "_view_module_version": "1.2.0",
            "grid_template_areas": null,
            "object_position": null,
            "object_fit": null,
            "grid_auto_columns": null,
            "margin": null,
            "display": null,
            "left": null
          }
        },
        "41f58d171c79440690f83066de0e6544": {
          "model_module": "@jupyter-widgets/controls",
          "model_name": "HTMLModel",
          "model_module_version": "1.5.0",
          "state": {
            "_view_name": "HTMLView",
            "style": "IPY_MODEL_7a4c9f91011b4f3c8451112c4a973a9e",
            "_dom_classes": [],
            "description": "",
            "_model_name": "HTMLModel",
            "placeholder": "​",
            "_view_module": "@jupyter-widgets/controls",
            "_model_module_version": "1.5.0",
            "value": "",
            "_view_count": null,
            "_view_module_version": "1.5.0",
            "description_tooltip": null,
            "_model_module": "@jupyter-widgets/controls",
            "layout": "IPY_MODEL_9f81a47dedf640009a1de8eabf16c827"
          }
        },
        "02fe191030cb48ada975edf303298ecc": {
          "model_module": "@jupyter-widgets/controls",
          "model_name": "FloatProgressModel",
          "model_module_version": "1.5.0",
          "state": {
            "_view_name": "ProgressView",
            "style": "IPY_MODEL_e4e5e53649794b86a64dc3dfc40b6fc7",
            "_dom_classes": [],
            "description": "",
            "_model_name": "FloatProgressModel",
            "bar_style": "success",
            "max": 29515,
            "_view_module": "@jupyter-widgets/controls",
            "_model_module_version": "1.5.0",
            "value": 29515,
            "_view_count": null,
            "_view_module_version": "1.5.0",
            "orientation": "horizontal",
            "min": 0,
            "description_tooltip": null,
            "_model_module": "@jupyter-widgets/controls",
            "layout": "IPY_MODEL_2aa945dd87fc486db1be4143553988bd"
          }
        },
        "405da644d5194b03886acaf7aeef414f": {
          "model_module": "@jupyter-widgets/controls",
          "model_name": "HTMLModel",
          "model_module_version": "1.5.0",
          "state": {
            "_view_name": "HTMLView",
            "style": "IPY_MODEL_a92329f43273448989457d259ebaeafe",
            "_dom_classes": [],
            "description": "",
            "_model_name": "HTMLModel",
            "placeholder": "​",
            "_view_module": "@jupyter-widgets/controls",
            "_model_module_version": "1.5.0",
            "value": " 29696/? [00:00&lt;00:00, 701803.90it/s]",
            "_view_count": null,
            "_view_module_version": "1.5.0",
            "description_tooltip": null,
            "_model_module": "@jupyter-widgets/controls",
            "layout": "IPY_MODEL_b1080b3331794742a1dc1f31cedfaa6f"
          }
        },
        "7a4c9f91011b4f3c8451112c4a973a9e": {
          "model_module": "@jupyter-widgets/controls",
          "model_name": "DescriptionStyleModel",
          "model_module_version": "1.5.0",
          "state": {
            "_view_name": "StyleView",
            "_model_name": "DescriptionStyleModel",
            "description_width": "",
            "_view_module": "@jupyter-widgets/base",
            "_model_module_version": "1.5.0",
            "_view_count": null,
            "_view_module_version": "1.2.0",
            "_model_module": "@jupyter-widgets/controls"
          }
        },
        "9f81a47dedf640009a1de8eabf16c827": {
          "model_module": "@jupyter-widgets/base",
          "model_name": "LayoutModel",
          "model_module_version": "1.2.0",
          "state": {
            "_view_name": "LayoutView",
            "grid_template_rows": null,
            "right": null,
            "justify_content": null,
            "_view_module": "@jupyter-widgets/base",
            "overflow": null,
            "_model_module_version": "1.2.0",
            "_view_count": null,
            "flex_flow": null,
            "width": null,
            "min_width": null,
            "border": null,
            "align_items": null,
            "bottom": null,
            "_model_module": "@jupyter-widgets/base",
            "top": null,
            "grid_column": null,
            "overflow_y": null,
            "overflow_x": null,
            "grid_auto_flow": null,
            "grid_area": null,
            "grid_template_columns": null,
            "flex": null,
            "_model_name": "LayoutModel",
            "justify_items": null,
            "grid_row": null,
            "max_height": null,
            "align_content": null,
            "visibility": null,
            "align_self": null,
            "height": null,
            "min_height": null,
            "padding": null,
            "grid_auto_rows": null,
            "grid_gap": null,
            "max_width": null,
            "order": null,
            "_view_module_version": "1.2.0",
            "grid_template_areas": null,
            "object_position": null,
            "object_fit": null,
            "grid_auto_columns": null,
            "margin": null,
            "display": null,
            "left": null
          }
        },
        "e4e5e53649794b86a64dc3dfc40b6fc7": {
          "model_module": "@jupyter-widgets/controls",
          "model_name": "ProgressStyleModel",
          "model_module_version": "1.5.0",
          "state": {
            "_view_name": "StyleView",
            "_model_name": "ProgressStyleModel",
            "description_width": "",
            "_view_module": "@jupyter-widgets/base",
            "_model_module_version": "1.5.0",
            "_view_count": null,
            "_view_module_version": "1.2.0",
            "bar_color": null,
            "_model_module": "@jupyter-widgets/controls"
          }
        },
        "2aa945dd87fc486db1be4143553988bd": {
          "model_module": "@jupyter-widgets/base",
          "model_name": "LayoutModel",
          "model_module_version": "1.2.0",
          "state": {
            "_view_name": "LayoutView",
            "grid_template_rows": null,
            "right": null,
            "justify_content": null,
            "_view_module": "@jupyter-widgets/base",
            "overflow": null,
            "_model_module_version": "1.2.0",
            "_view_count": null,
            "flex_flow": null,
            "width": null,
            "min_width": null,
            "border": null,
            "align_items": null,
            "bottom": null,
            "_model_module": "@jupyter-widgets/base",
            "top": null,
            "grid_column": null,
            "overflow_y": null,
            "overflow_x": null,
            "grid_auto_flow": null,
            "grid_area": null,
            "grid_template_columns": null,
            "flex": null,
            "_model_name": "LayoutModel",
            "justify_items": null,
            "grid_row": null,
            "max_height": null,
            "align_content": null,
            "visibility": null,
            "align_self": null,
            "height": null,
            "min_height": null,
            "padding": null,
            "grid_auto_rows": null,
            "grid_gap": null,
            "max_width": null,
            "order": null,
            "_view_module_version": "1.2.0",
            "grid_template_areas": null,
            "object_position": null,
            "object_fit": null,
            "grid_auto_columns": null,
            "margin": null,
            "display": null,
            "left": null
          }
        },
        "a92329f43273448989457d259ebaeafe": {
          "model_module": "@jupyter-widgets/controls",
          "model_name": "DescriptionStyleModel",
          "model_module_version": "1.5.0",
          "state": {
            "_view_name": "StyleView",
            "_model_name": "DescriptionStyleModel",
            "description_width": "",
            "_view_module": "@jupyter-widgets/base",
            "_model_module_version": "1.5.0",
            "_view_count": null,
            "_view_module_version": "1.2.0",
            "_model_module": "@jupyter-widgets/controls"
          }
        },
        "b1080b3331794742a1dc1f31cedfaa6f": {
          "model_module": "@jupyter-widgets/base",
          "model_name": "LayoutModel",
          "model_module_version": "1.2.0",
          "state": {
            "_view_name": "LayoutView",
            "grid_template_rows": null,
            "right": null,
            "justify_content": null,
            "_view_module": "@jupyter-widgets/base",
            "overflow": null,
            "_model_module_version": "1.2.0",
            "_view_count": null,
            "flex_flow": null,
            "width": null,
            "min_width": null,
            "border": null,
            "align_items": null,
            "bottom": null,
            "_model_module": "@jupyter-widgets/base",
            "top": null,
            "grid_column": null,
            "overflow_y": null,
            "overflow_x": null,
            "grid_auto_flow": null,
            "grid_area": null,
            "grid_template_columns": null,
            "flex": null,
            "_model_name": "LayoutModel",
            "justify_items": null,
            "grid_row": null,
            "max_height": null,
            "align_content": null,
            "visibility": null,
            "align_self": null,
            "height": null,
            "min_height": null,
            "padding": null,
            "grid_auto_rows": null,
            "grid_gap": null,
            "max_width": null,
            "order": null,
            "_view_module_version": "1.2.0",
            "grid_template_areas": null,
            "object_position": null,
            "object_fit": null,
            "grid_auto_columns": null,
            "margin": null,
            "display": null,
            "left": null
          }
        },
        "6ac44567fb6c473db3c6f40b51d8f9a1": {
          "model_module": "@jupyter-widgets/controls",
          "model_name": "HBoxModel",
          "model_module_version": "1.5.0",
          "state": {
            "_view_name": "HBoxView",
            "_dom_classes": [],
            "_model_name": "HBoxModel",
            "_view_module": "@jupyter-widgets/controls",
            "_model_module_version": "1.5.0",
            "_view_count": null,
            "_view_module_version": "1.5.0",
            "box_style": "",
            "layout": "IPY_MODEL_a1b61d45778848ea8a89078da2400cc0",
            "_model_module": "@jupyter-widgets/controls",
            "children": [
              "IPY_MODEL_61fd8a27a8bd4b0589ce5680f51c138b",
              "IPY_MODEL_3fc4b83a1f354b67a5c7ba97c535622f",
              "IPY_MODEL_a8ba8623d4c14a71bbcef9da4ea88e24"
            ]
          }
        },
        "a1b61d45778848ea8a89078da2400cc0": {
          "model_module": "@jupyter-widgets/base",
          "model_name": "LayoutModel",
          "model_module_version": "1.2.0",
          "state": {
            "_view_name": "LayoutView",
            "grid_template_rows": null,
            "right": null,
            "justify_content": null,
            "_view_module": "@jupyter-widgets/base",
            "overflow": null,
            "_model_module_version": "1.2.0",
            "_view_count": null,
            "flex_flow": null,
            "width": null,
            "min_width": null,
            "border": null,
            "align_items": null,
            "bottom": null,
            "_model_module": "@jupyter-widgets/base",
            "top": null,
            "grid_column": null,
            "overflow_y": null,
            "overflow_x": null,
            "grid_auto_flow": null,
            "grid_area": null,
            "grid_template_columns": null,
            "flex": null,
            "_model_name": "LayoutModel",
            "justify_items": null,
            "grid_row": null,
            "max_height": null,
            "align_content": null,
            "visibility": null,
            "align_self": null,
            "height": null,
            "min_height": null,
            "padding": null,
            "grid_auto_rows": null,
            "grid_gap": null,
            "max_width": null,
            "order": null,
            "_view_module_version": "1.2.0",
            "grid_template_areas": null,
            "object_position": null,
            "object_fit": null,
            "grid_auto_columns": null,
            "margin": null,
            "display": null,
            "left": null
          }
        },
        "61fd8a27a8bd4b0589ce5680f51c138b": {
          "model_module": "@jupyter-widgets/controls",
          "model_name": "HTMLModel",
          "model_module_version": "1.5.0",
          "state": {
            "_view_name": "HTMLView",
            "style": "IPY_MODEL_caa05d7e5bfc4ea6aeee20021e6e1818",
            "_dom_classes": [],
            "description": "",
            "_model_name": "HTMLModel",
            "placeholder": "​",
            "_view_module": "@jupyter-widgets/controls",
            "_model_module_version": "1.5.0",
            "value": "",
            "_view_count": null,
            "_view_module_version": "1.5.0",
            "description_tooltip": null,
            "_model_module": "@jupyter-widgets/controls",
            "layout": "IPY_MODEL_0be5f56e86614e91880eb26b205db077"
          }
        },
        "3fc4b83a1f354b67a5c7ba97c535622f": {
          "model_module": "@jupyter-widgets/controls",
          "model_name": "FloatProgressModel",
          "model_module_version": "1.5.0",
          "state": {
            "_view_name": "ProgressView",
            "style": "IPY_MODEL_4d3d5c4008a1487ba2d279a44a5ec270",
            "_dom_classes": [],
            "description": "",
            "_model_name": "FloatProgressModel",
            "bar_style": "success",
            "max": 4422102,
            "_view_module": "@jupyter-widgets/controls",
            "_model_module_version": "1.5.0",
            "value": 4422102,
            "_view_count": null,
            "_view_module_version": "1.5.0",
            "orientation": "horizontal",
            "min": 0,
            "description_tooltip": null,
            "_model_module": "@jupyter-widgets/controls",
            "layout": "IPY_MODEL_accca0fd415b4182a3666e5d686f6739"
          }
        },
        "a8ba8623d4c14a71bbcef9da4ea88e24": {
          "model_module": "@jupyter-widgets/controls",
          "model_name": "HTMLModel",
          "model_module_version": "1.5.0",
          "state": {
            "_view_name": "HTMLView",
            "style": "IPY_MODEL_801b9d9a9d1045b4a1ecebbf7801a736",
            "_dom_classes": [],
            "description": "",
            "_model_name": "HTMLModel",
            "placeholder": "​",
            "_view_module": "@jupyter-widgets/controls",
            "_model_module_version": "1.5.0",
            "value": " 4422656/? [00:00&lt;00:00, 2886056.17it/s]",
            "_view_count": null,
            "_view_module_version": "1.5.0",
            "description_tooltip": null,
            "_model_module": "@jupyter-widgets/controls",
            "layout": "IPY_MODEL_71d9ee13cb9944d69b79fbf70be66169"
          }
        },
        "caa05d7e5bfc4ea6aeee20021e6e1818": {
          "model_module": "@jupyter-widgets/controls",
          "model_name": "DescriptionStyleModel",
          "model_module_version": "1.5.0",
          "state": {
            "_view_name": "StyleView",
            "_model_name": "DescriptionStyleModel",
            "description_width": "",
            "_view_module": "@jupyter-widgets/base",
            "_model_module_version": "1.5.0",
            "_view_count": null,
            "_view_module_version": "1.2.0",
            "_model_module": "@jupyter-widgets/controls"
          }
        },
        "0be5f56e86614e91880eb26b205db077": {
          "model_module": "@jupyter-widgets/base",
          "model_name": "LayoutModel",
          "model_module_version": "1.2.0",
          "state": {
            "_view_name": "LayoutView",
            "grid_template_rows": null,
            "right": null,
            "justify_content": null,
            "_view_module": "@jupyter-widgets/base",
            "overflow": null,
            "_model_module_version": "1.2.0",
            "_view_count": null,
            "flex_flow": null,
            "width": null,
            "min_width": null,
            "border": null,
            "align_items": null,
            "bottom": null,
            "_model_module": "@jupyter-widgets/base",
            "top": null,
            "grid_column": null,
            "overflow_y": null,
            "overflow_x": null,
            "grid_auto_flow": null,
            "grid_area": null,
            "grid_template_columns": null,
            "flex": null,
            "_model_name": "LayoutModel",
            "justify_items": null,
            "grid_row": null,
            "max_height": null,
            "align_content": null,
            "visibility": null,
            "align_self": null,
            "height": null,
            "min_height": null,
            "padding": null,
            "grid_auto_rows": null,
            "grid_gap": null,
            "max_width": null,
            "order": null,
            "_view_module_version": "1.2.0",
            "grid_template_areas": null,
            "object_position": null,
            "object_fit": null,
            "grid_auto_columns": null,
            "margin": null,
            "display": null,
            "left": null
          }
        },
        "4d3d5c4008a1487ba2d279a44a5ec270": {
          "model_module": "@jupyter-widgets/controls",
          "model_name": "ProgressStyleModel",
          "model_module_version": "1.5.0",
          "state": {
            "_view_name": "StyleView",
            "_model_name": "ProgressStyleModel",
            "description_width": "",
            "_view_module": "@jupyter-widgets/base",
            "_model_module_version": "1.5.0",
            "_view_count": null,
            "_view_module_version": "1.2.0",
            "bar_color": null,
            "_model_module": "@jupyter-widgets/controls"
          }
        },
        "accca0fd415b4182a3666e5d686f6739": {
          "model_module": "@jupyter-widgets/base",
          "model_name": "LayoutModel",
          "model_module_version": "1.2.0",
          "state": {
            "_view_name": "LayoutView",
            "grid_template_rows": null,
            "right": null,
            "justify_content": null,
            "_view_module": "@jupyter-widgets/base",
            "overflow": null,
            "_model_module_version": "1.2.0",
            "_view_count": null,
            "flex_flow": null,
            "width": null,
            "min_width": null,
            "border": null,
            "align_items": null,
            "bottom": null,
            "_model_module": "@jupyter-widgets/base",
            "top": null,
            "grid_column": null,
            "overflow_y": null,
            "overflow_x": null,
            "grid_auto_flow": null,
            "grid_area": null,
            "grid_template_columns": null,
            "flex": null,
            "_model_name": "LayoutModel",
            "justify_items": null,
            "grid_row": null,
            "max_height": null,
            "align_content": null,
            "visibility": null,
            "align_self": null,
            "height": null,
            "min_height": null,
            "padding": null,
            "grid_auto_rows": null,
            "grid_gap": null,
            "max_width": null,
            "order": null,
            "_view_module_version": "1.2.0",
            "grid_template_areas": null,
            "object_position": null,
            "object_fit": null,
            "grid_auto_columns": null,
            "margin": null,
            "display": null,
            "left": null
          }
        },
        "801b9d9a9d1045b4a1ecebbf7801a736": {
          "model_module": "@jupyter-widgets/controls",
          "model_name": "DescriptionStyleModel",
          "model_module_version": "1.5.0",
          "state": {
            "_view_name": "StyleView",
            "_model_name": "DescriptionStyleModel",
            "description_width": "",
            "_view_module": "@jupyter-widgets/base",
            "_model_module_version": "1.5.0",
            "_view_count": null,
            "_view_module_version": "1.2.0",
            "_model_module": "@jupyter-widgets/controls"
          }
        },
        "71d9ee13cb9944d69b79fbf70be66169": {
          "model_module": "@jupyter-widgets/base",
          "model_name": "LayoutModel",
          "model_module_version": "1.2.0",
          "state": {
            "_view_name": "LayoutView",
            "grid_template_rows": null,
            "right": null,
            "justify_content": null,
            "_view_module": "@jupyter-widgets/base",
            "overflow": null,
            "_model_module_version": "1.2.0",
            "_view_count": null,
            "flex_flow": null,
            "width": null,
            "min_width": null,
            "border": null,
            "align_items": null,
            "bottom": null,
            "_model_module": "@jupyter-widgets/base",
            "top": null,
            "grid_column": null,
            "overflow_y": null,
            "overflow_x": null,
            "grid_auto_flow": null,
            "grid_area": null,
            "grid_template_columns": null,
            "flex": null,
            "_model_name": "LayoutModel",
            "justify_items": null,
            "grid_row": null,
            "max_height": null,
            "align_content": null,
            "visibility": null,
            "align_self": null,
            "height": null,
            "min_height": null,
            "padding": null,
            "grid_auto_rows": null,
            "grid_gap": null,
            "max_width": null,
            "order": null,
            "_view_module_version": "1.2.0",
            "grid_template_areas": null,
            "object_position": null,
            "object_fit": null,
            "grid_auto_columns": null,
            "margin": null,
            "display": null,
            "left": null
          }
        },
        "e9dedc1d76264fb0bdb708cd4b02bfba": {
          "model_module": "@jupyter-widgets/controls",
          "model_name": "HBoxModel",
          "model_module_version": "1.5.0",
          "state": {
            "_view_name": "HBoxView",
            "_dom_classes": [],
            "_model_name": "HBoxModel",
            "_view_module": "@jupyter-widgets/controls",
            "_model_module_version": "1.5.0",
            "_view_count": null,
            "_view_module_version": "1.5.0",
            "box_style": "",
            "layout": "IPY_MODEL_40b0af246cb34e4ba4c5da253ad95eff",
            "_model_module": "@jupyter-widgets/controls",
            "children": [
              "IPY_MODEL_b57e5adc966a45eea92fc8940e32cd75",
              "IPY_MODEL_899c3aded1de49f0a431b5c0ac2824af",
              "IPY_MODEL_c1454966d669451eb97e721b65ba6217"
            ]
          }
        },
        "40b0af246cb34e4ba4c5da253ad95eff": {
          "model_module": "@jupyter-widgets/base",
          "model_name": "LayoutModel",
          "model_module_version": "1.2.0",
          "state": {
            "_view_name": "LayoutView",
            "grid_template_rows": null,
            "right": null,
            "justify_content": null,
            "_view_module": "@jupyter-widgets/base",
            "overflow": null,
            "_model_module_version": "1.2.0",
            "_view_count": null,
            "flex_flow": null,
            "width": null,
            "min_width": null,
            "border": null,
            "align_items": null,
            "bottom": null,
            "_model_module": "@jupyter-widgets/base",
            "top": null,
            "grid_column": null,
            "overflow_y": null,
            "overflow_x": null,
            "grid_auto_flow": null,
            "grid_area": null,
            "grid_template_columns": null,
            "flex": null,
            "_model_name": "LayoutModel",
            "justify_items": null,
            "grid_row": null,
            "max_height": null,
            "align_content": null,
            "visibility": null,
            "align_self": null,
            "height": null,
            "min_height": null,
            "padding": null,
            "grid_auto_rows": null,
            "grid_gap": null,
            "max_width": null,
            "order": null,
            "_view_module_version": "1.2.0",
            "grid_template_areas": null,
            "object_position": null,
            "object_fit": null,
            "grid_auto_columns": null,
            "margin": null,
            "display": null,
            "left": null
          }
        },
        "b57e5adc966a45eea92fc8940e32cd75": {
          "model_module": "@jupyter-widgets/controls",
          "model_name": "HTMLModel",
          "model_module_version": "1.5.0",
          "state": {
            "_view_name": "HTMLView",
            "style": "IPY_MODEL_a4ac241a13e849f6810fc6e5ab61b281",
            "_dom_classes": [],
            "description": "",
            "_model_name": "HTMLModel",
            "placeholder": "​",
            "_view_module": "@jupyter-widgets/controls",
            "_model_module_version": "1.5.0",
            "value": "",
            "_view_count": null,
            "_view_module_version": "1.5.0",
            "description_tooltip": null,
            "_model_module": "@jupyter-widgets/controls",
            "layout": "IPY_MODEL_e48c1c12c3a94b72a17f7ce3f1b72f63"
          }
        },
        "899c3aded1de49f0a431b5c0ac2824af": {
          "model_module": "@jupyter-widgets/controls",
          "model_name": "FloatProgressModel",
          "model_module_version": "1.5.0",
          "state": {
            "_view_name": "ProgressView",
            "style": "IPY_MODEL_8cc3fffb49d2439693917be07c0b3816",
            "_dom_classes": [],
            "description": "",
            "_model_name": "FloatProgressModel",
            "bar_style": "success",
            "max": 5148,
            "_view_module": "@jupyter-widgets/controls",
            "_model_module_version": "1.5.0",
            "value": 5148,
            "_view_count": null,
            "_view_module_version": "1.5.0",
            "orientation": "horizontal",
            "min": 0,
            "description_tooltip": null,
            "_model_module": "@jupyter-widgets/controls",
            "layout": "IPY_MODEL_47f7ecc45eb3482e8e65e9671bfd8a45"
          }
        },
        "c1454966d669451eb97e721b65ba6217": {
          "model_module": "@jupyter-widgets/controls",
          "model_name": "HTMLModel",
          "model_module_version": "1.5.0",
          "state": {
            "_view_name": "HTMLView",
            "style": "IPY_MODEL_fbc8c01773ce4102834696e616908854",
            "_dom_classes": [],
            "description": "",
            "_model_name": "HTMLModel",
            "placeholder": "​",
            "_view_module": "@jupyter-widgets/controls",
            "_model_module_version": "1.5.0",
            "value": " 6144/? [00:00&lt;00:00, 149538.40it/s]",
            "_view_count": null,
            "_view_module_version": "1.5.0",
            "description_tooltip": null,
            "_model_module": "@jupyter-widgets/controls",
            "layout": "IPY_MODEL_3af68438b323475e847890e703790ef8"
          }
        },
        "a4ac241a13e849f6810fc6e5ab61b281": {
          "model_module": "@jupyter-widgets/controls",
          "model_name": "DescriptionStyleModel",
          "model_module_version": "1.5.0",
          "state": {
            "_view_name": "StyleView",
            "_model_name": "DescriptionStyleModel",
            "description_width": "",
            "_view_module": "@jupyter-widgets/base",
            "_model_module_version": "1.5.0",
            "_view_count": null,
            "_view_module_version": "1.2.0",
            "_model_module": "@jupyter-widgets/controls"
          }
        },
        "e48c1c12c3a94b72a17f7ce3f1b72f63": {
          "model_module": "@jupyter-widgets/base",
          "model_name": "LayoutModel",
          "model_module_version": "1.2.0",
          "state": {
            "_view_name": "LayoutView",
            "grid_template_rows": null,
            "right": null,
            "justify_content": null,
            "_view_module": "@jupyter-widgets/base",
            "overflow": null,
            "_model_module_version": "1.2.0",
            "_view_count": null,
            "flex_flow": null,
            "width": null,
            "min_width": null,
            "border": null,
            "align_items": null,
            "bottom": null,
            "_model_module": "@jupyter-widgets/base",
            "top": null,
            "grid_column": null,
            "overflow_y": null,
            "overflow_x": null,
            "grid_auto_flow": null,
            "grid_area": null,
            "grid_template_columns": null,
            "flex": null,
            "_model_name": "LayoutModel",
            "justify_items": null,
            "grid_row": null,
            "max_height": null,
            "align_content": null,
            "visibility": null,
            "align_self": null,
            "height": null,
            "min_height": null,
            "padding": null,
            "grid_auto_rows": null,
            "grid_gap": null,
            "max_width": null,
            "order": null,
            "_view_module_version": "1.2.0",
            "grid_template_areas": null,
            "object_position": null,
            "object_fit": null,
            "grid_auto_columns": null,
            "margin": null,
            "display": null,
            "left": null
          }
        },
        "8cc3fffb49d2439693917be07c0b3816": {
          "model_module": "@jupyter-widgets/controls",
          "model_name": "ProgressStyleModel",
          "model_module_version": "1.5.0",
          "state": {
            "_view_name": "StyleView",
            "_model_name": "ProgressStyleModel",
            "description_width": "",
            "_view_module": "@jupyter-widgets/base",
            "_model_module_version": "1.5.0",
            "_view_count": null,
            "_view_module_version": "1.2.0",
            "bar_color": null,
            "_model_module": "@jupyter-widgets/controls"
          }
        },
        "47f7ecc45eb3482e8e65e9671bfd8a45": {
          "model_module": "@jupyter-widgets/base",
          "model_name": "LayoutModel",
          "model_module_version": "1.2.0",
          "state": {
            "_view_name": "LayoutView",
            "grid_template_rows": null,
            "right": null,
            "justify_content": null,
            "_view_module": "@jupyter-widgets/base",
            "overflow": null,
            "_model_module_version": "1.2.0",
            "_view_count": null,
            "flex_flow": null,
            "width": null,
            "min_width": null,
            "border": null,
            "align_items": null,
            "bottom": null,
            "_model_module": "@jupyter-widgets/base",
            "top": null,
            "grid_column": null,
            "overflow_y": null,
            "overflow_x": null,
            "grid_auto_flow": null,
            "grid_area": null,
            "grid_template_columns": null,
            "flex": null,
            "_model_name": "LayoutModel",
            "justify_items": null,
            "grid_row": null,
            "max_height": null,
            "align_content": null,
            "visibility": null,
            "align_self": null,
            "height": null,
            "min_height": null,
            "padding": null,
            "grid_auto_rows": null,
            "grid_gap": null,
            "max_width": null,
            "order": null,
            "_view_module_version": "1.2.0",
            "grid_template_areas": null,
            "object_position": null,
            "object_fit": null,
            "grid_auto_columns": null,
            "margin": null,
            "display": null,
            "left": null
          }
        },
        "fbc8c01773ce4102834696e616908854": {
          "model_module": "@jupyter-widgets/controls",
          "model_name": "DescriptionStyleModel",
          "model_module_version": "1.5.0",
          "state": {
            "_view_name": "StyleView",
            "_model_name": "DescriptionStyleModel",
            "description_width": "",
            "_view_module": "@jupyter-widgets/base",
            "_model_module_version": "1.5.0",
            "_view_count": null,
            "_view_module_version": "1.2.0",
            "_model_module": "@jupyter-widgets/controls"
          }
        },
        "3af68438b323475e847890e703790ef8": {
          "model_module": "@jupyter-widgets/base",
          "model_name": "LayoutModel",
          "model_module_version": "1.2.0",
          "state": {
            "_view_name": "LayoutView",
            "grid_template_rows": null,
            "right": null,
            "justify_content": null,
            "_view_module": "@jupyter-widgets/base",
            "overflow": null,
            "_model_module_version": "1.2.0",
            "_view_count": null,
            "flex_flow": null,
            "width": null,
            "min_width": null,
            "border": null,
            "align_items": null,
            "bottom": null,
            "_model_module": "@jupyter-widgets/base",
            "top": null,
            "grid_column": null,
            "overflow_y": null,
            "overflow_x": null,
            "grid_auto_flow": null,
            "grid_area": null,
            "grid_template_columns": null,
            "flex": null,
            "_model_name": "LayoutModel",
            "justify_items": null,
            "grid_row": null,
            "max_height": null,
            "align_content": null,
            "visibility": null,
            "align_self": null,
            "height": null,
            "min_height": null,
            "padding": null,
            "grid_auto_rows": null,
            "grid_gap": null,
            "max_width": null,
            "order": null,
            "_view_module_version": "1.2.0",
            "grid_template_areas": null,
            "object_position": null,
            "object_fit": null,
            "grid_auto_columns": null,
            "margin": null,
            "display": null,
            "left": null
          }
        }
      }
    }
  },
  "cells": [
    {
      "cell_type": "markdown",
      "metadata": {
        "id": "EBPjF0u5_2Xt"
      },
      "source": [
        "<a href=\"https://colab.research.google.com/github/wingated/cs474_labs_f2019/blob/master/DL_Lab3.ipynb\" target=\"_parent\"><img src=\"https://colab.research.google.com/assets/colab-badge.svg\" alt=\"Open In Colab\"/></a>"
      ]
    },
    {
      "cell_type": "markdown",
      "metadata": {
        "id": "view-in-github"
      },
      "source": [
        "# Lab 3: Intro to CNNs and DNNs\n",
        "\n",
        "## Objectives\n",
        "\n",
        "* Build and train a deep convolutional net\n",
        "* Explore and implement various initialization techniques\n",
        "* Implement a parameterized module in Pytorch\n",
        "* Use a principled loss function\n",
        "\n",
        "## Video Tutorial\n",
        "[https://youtu.be/3TAuTcx-VCc](https://youtu.be/3TAuTcx-VCc)\n",
        "\n",
        "## Deliverable\n",
        "For this lab, you will submit an IPython notebook via Learning Suite.\n",
        "This is where you build your first deep neural network!\n",
        "\n",
        "For this lab, we'll be combining several different concepts that we've covered during class,\n",
        "including new layer types, initialization strategies, and an understanding of convolutions.\n",
        "\n",
        "## Grading Standards:\n",
        "* 20% Part 0: Successfully followed lab video and typed in code\n",
        "* 20% Part 1: Re-implement Conv2D and CrossEntropy loss function\n",
        "* 20% Part 2: Implement different initialization strategies\n",
        "* 10% Part 3: Print parameters, plot train/test accuracies\n",
        "* 10% Reach 85% validation accuracy from parts 1-3\n",
        "* 10% Part 4: Convolution parameters quiz\n",
        "* 10% Tidy and legible figures, including labeled axes where appropriate\n",
        "___\n",
        "\n",
        "### Part 0\n",
        "Watch and follow video tutorial:\n",
        "\n",
        "[https://youtu.be/3TAuTcx-VCc](https://youtu.be/3TAuTcx-VCc)\n",
        "\n",
        "**TODO:**\n",
        "\n",
        "* Watch tutorial\n",
        "\n",
        "**DONE:**\n",
        "* Watch tutorial"
      ]
    },
    {
      "cell_type": "code",
      "metadata": {
        "pycharm": {
          "name": "#%%\n"
        },
        "id": "NtvBJ5Y0_2Xw",
        "colab": {
          "base_uri": "https://localhost:8080/"
        },
        "outputId": "c5322676-7bc1-4ab9-ca38-3a634f1ce7a1"
      },
      "source": [
        "!pip3 install torch\n",
        "!pip3 install torchvision\n",
        "!pip3 install tqdm"
      ],
      "execution_count": null,
      "outputs": [
        {
          "output_type": "stream",
          "name": "stdout",
          "text": [
            "Requirement already satisfied: torch in /usr/local/lib/python3.7/dist-packages (1.9.0+cu102)\n",
            "Requirement already satisfied: typing-extensions in /usr/local/lib/python3.7/dist-packages (from torch) (3.7.4.3)\n",
            "Requirement already satisfied: torchvision in /usr/local/lib/python3.7/dist-packages (0.10.0+cu102)\n",
            "Requirement already satisfied: numpy in /usr/local/lib/python3.7/dist-packages (from torchvision) (1.19.5)\n",
            "Requirement already satisfied: pillow>=5.3.0 in /usr/local/lib/python3.7/dist-packages (from torchvision) (7.1.2)\n",
            "Requirement already satisfied: torch==1.9.0 in /usr/local/lib/python3.7/dist-packages (from torchvision) (1.9.0+cu102)\n",
            "Requirement already satisfied: typing-extensions in /usr/local/lib/python3.7/dist-packages (from torch==1.9.0->torchvision) (3.7.4.3)\n",
            "Requirement already satisfied: tqdm in /usr/local/lib/python3.7/dist-packages (4.62.2)\n"
          ]
        }
      ]
    },
    {
      "cell_type": "code",
      "metadata": {
        "collapsed": true,
        "id": "wQOefmcZVgTl"
      },
      "source": [
        "import torch\n",
        "import torch.nn as nn\n",
        "import torch.nn.functional as F\n",
        "import torch.optim as optim\n",
        "from torch.utils.data import Dataset, DataLoader\n",
        "import numpy as np\n",
        "import matplotlib.pyplot as plt\n",
        "from torchvision import transforms, utils, datasets\n",
        "from tqdm import tqdm\n",
        "from torch.nn.parameter import Parameter\n",
        "import pdb\n",
        "\n",
        "assert torch.cuda.is_available(), \"You need to request a GPU from Runtime > Change Runtime\""
      ],
      "execution_count": null,
      "outputs": []
    },
    {
      "cell_type": "code",
      "metadata": {
        "id": "ccC-HR_5a4Lt"
      },
      "source": [
        "class Conv2d(nn.Module):\n",
        "  def __init__(self, in_channels, out_channels, kernel_size, stride=1, padding=0, dilation=1, groups=1, bias=True, padding_mode='zeros', device=None, dtype=None):\n",
        "    self.__dict__.update(locals())\n",
        "    super(Conv2d, self).__init__()\n",
        "\n",
        "    self.weight = Parameter(torch.Tensor(self.out_channels, self.in_channels, *self.kernel_size)) # (out, in, k, k)\n",
        "    self.bias = Parameter(torch.Tensor(out_channels))\n",
        "\n",
        "    # initialize weight and bias\n",
        "    self.weight.data.uniform_(-1, 1)\n",
        "    self.bias.data.uniform_(0,0)\n",
        "\n",
        "  def forward(self, x):\n",
        "    return F.conv2d(x, self.weight, self.bias, self.stride, self.padding, self.dilation, self.groups)\n",
        "  \n",
        "  def extra_repr(self):\n",
        "    return '474 is so cool'\n",
        "\n"
      ],
      "execution_count": null,
      "outputs": []
    },
    {
      "cell_type": "code",
      "metadata": {
        "id": "VCRIOPIlYlkD"
      },
      "source": [
        "class ConvNetwork(nn.Module):\n",
        "  def __init__(self, dataset):\n",
        "    super(ConvNetwork, self).__init__()\n",
        "    x, y = dataset[0]\n",
        "    c, h, w = x.size()\n",
        "    output = 10\n",
        "\n",
        "    self.net = nn.Sequential(\n",
        "        Conv2d(c, 10, (3, 3), padding=(1,1)),\n",
        "        Conv2d(10, output, (28, 28), padding=(0,0)), # input here must match output of previous layer | this is for whole image | (b, 10, 1, 1)\n",
        "    )\n",
        "  \n",
        "  def forward(self, x):\n",
        "    # we have (b, 10, 1, 1)\n",
        "    # but the double squeeze below gets us (b, 10)\n",
        "    return self.net(x).squeeze(2).squeeze(2)\n"
      ],
      "execution_count": null,
      "outputs": []
    },
    {
      "cell_type": "code",
      "metadata": {
        "collapsed": true,
        "id": "Il_53HLSWPTY"
      },
      "source": [
        "# Use the dataset class you created in lab2\n",
        "# Create a dataset class that extends the torch.utils.data Dataset class here\n",
        "class FashionMNISTProcessedDataset(Dataset):\n",
        "  def __init__(self, root, train=True):\n",
        "    self.data = datasets.FashionMNIST(root, train=train,\n",
        "                                      transform=transforms.ToTensor(),\n",
        "                                      download=True)\n",
        "  def __getitem__(self,i):\n",
        "    x, y = self.data[i]\n",
        "    return x, y\n",
        "\n",
        "  def __len__(self):\n",
        "    return len(self.data)"
      ],
      "execution_count": null,
      "outputs": []
    },
    {
      "cell_type": "code",
      "metadata": {
        "colab": {
          "base_uri": "https://localhost:8080/",
          "height": 265
        },
        "id": "ehOTcDWBUuE5",
        "outputId": "2ed0ddde-b82b-470d-8ee7-ae1392839fc4"
      },
      "source": [
        "train_dataset = FashionMNISTProcessedDataset('/tmp/fashionmnist')\n",
        "val_dataset = FashionMNISTProcessedDataset('/tmp/fashionmnist', train=False)\n",
        "model = ConvNetwork(train_dataset)\n",
        "model = model.cuda()\n",
        "objective = nn.CrossEntropyLoss() # change this\n",
        "optimizer = optim.Adam(model.parameters(), lr=1e-4)\n",
        "train_loader = DataLoader(train_dataset,\n",
        "                          batch_size=42,\n",
        "                          pin_memory=True)\n",
        "val_loader = DataLoader(val_dataset,\n",
        "                        batch_size=42,\n",
        "                        pin_memory=True)\n",
        "losses = []\n",
        "validations = []\n",
        "\n",
        "for epoch in range(1):\n",
        "  loop = tqdm(total=len(train_loader), position=0, leave=False)\n",
        "\n",
        "  for batch, (x, y_truth) in enumerate(train_loader):\n",
        "    x, y_truth = x.cuda(non_blocking=True), y_truth.cuda(non_blocking=True)\n",
        "\n",
        "    optimizer.zero_grad()\n",
        "    y_hat = model(x)\n",
        "\n",
        "    loss = objective(y_hat, y_truth)\n",
        "    loss.backward()\n",
        "    \n",
        "    losses.append(loss.item())\n",
        "    accuracy = 0 # (y_hat.argmax(1) == y_truth).float().mean()\n",
        "    loop.set_description('epoch:{}, loss:{:.4f}, accuracy:{:.3f}'.format(epoch, loss.item(), accuracy))\n",
        "    loop.update(1)\n",
        "\n",
        "    optimizer.step()\n",
        "\n",
        "    if batch % 500 == 0:\n",
        "      val = np.mean([objective(model(x.cuda()), y.cuda()).item()\n",
        "                     for x, y in val_loader])\n",
        "      validations.append((len(losses), val))\n",
        "    \n",
        "  loop.close()\n",
        "\n",
        "a, b = zip(*validations)\n",
        "plt.plot(losses, label='train')\n",
        "plt.plot(a, b, label='val')\n",
        "plt.legend()\n",
        "plt.show()\n",
        "\n"
      ],
      "execution_count": null,
      "outputs": [
        {
          "output_type": "stream",
          "name": "stderr",
          "text": [
            ""
          ]
        },
        {
          "output_type": "display_data",
          "data": {
            "image/png": "[encoded data removed]",
            "text/plain": [
              "<Figure size 432x288 with 1 Axes>"
            ]
          },
          "metadata": {
            "needs_background": "light"
          }
        }
      ]
    },
    {
      "cell_type": "code",
      "metadata": {
        "id": "2XSHCE28iG2C"
      },
      "source": [
        "#model.net[0].weight.data.uniform_(-1, 1)\n",
        "#o, i, k1, k2 = model.net[0].weight.size()\n",
        "#W = np.random.randn(o, i, k1, k2)\n",
        "#model.net[0].weight.data = torch.from_numpy(W)\n",
        "## W = np.random.randn(*model.net[0].weight.size()) This is the same as above 2 lines\n",
        "#model.net[0].weight.data\n",
        "\n",
        "# pdb.set_trace() . . . VERY HELPFUL"
      ],
      "execution_count": null,
      "outputs": []
    },
    {
      "cell_type": "markdown",
      "metadata": {
        "id": "QY4owfQwm-Ni"
      },
      "source": [
        "___\n",
        "\n",
        "### Part 1\n",
        "Re-implement a Conv2D module with parameters and a CrossEntropyLoss function. Do not use PyTorch's implementation of cross entropy loss (F.cross_entropy or nn.CrossEntropyLoss) for your re-implementation of cross entropy loss. You may use PyTorch's functional implemenation of 2D convolution in your Conv2D module.\n",
        "\n",
        "**TODO:**\n",
        "\n",
        "* CrossEntropyLoss \n",
        "* Conv2D\n",
        "\n",
        "**DONE:**\n",
        "* CrossEntropyLoss \n",
        "* Conv2D\n",
        "\n",
        "___\n",
        "\n",
        "### Part 2\n",
        "Implement three initialization strategies: Xe initialization\n",
        "(sometimes called Xavier), orthogonal initialization, and uniform random initialization.\n",
        "You can specify which strategy you want to use with a parameter.\n",
        "\n",
        "\n",
        "\n",
        "Helpful links include:\n",
        "*  [Orthogonal Initialization](https://hjweide.github.io/orthogonal-initialization-in-convolutional-layers) (or the original paper: http://arxiv.org/abs/1312.6120)\n",
        "*  http://andyljones.tumblr.com/post/110998971763/an-explanation-of-xavier-initialization\n",
        "\n",
        "**TODO:**\n",
        "* Parameterize custom Conv2D for different initilization strategies\n",
        "* Xe\n",
        "* Orthogonal\n",
        "* Uniform\n",
        "\n",
        "**DONE:**\n",
        "* Parameterize custom Conv2D for different initilization strategies\n",
        "* Xe\n",
        "* Orthogonal\n",
        "* Uniform\n",
        "\n"
      ]
    },
    {
      "cell_type": "code",
      "metadata": {
        "collapsed": true,
        "id": "RkieTbwlYWPS"
      },
      "source": [
        "class CrossEntropyLoss(nn.Module):\n",
        "  def __init__(self, weight=None, size_average=None, ignore_index=-100, reduce=None, reduction='mean'):\n",
        "    super(CrossEntropyLoss, self).__init__()\n",
        "  \n",
        "  def forward(self, input, target):\n",
        "    exp = torch.exp(input)\n",
        "    A = torch.log(torch.sum(exp,dim=1))\n",
        "\n",
        "    hadamard = F.one_hot(target, num_classes=10).float()*input\n",
        "    B = torch.sum(hadamard, dim=1)\n",
        "    return torch.sum(A-B)\n",
        "    # -target + log(sum_j(exp(input[j]))\n",
        "    # in case of weight, just multiply above by weight\n",
        "\n",
        "class Conv2d(nn.Module):\n",
        "  def __init__(self, in_channels, out_channels, kernel_size, stride=1, padding=0, dilation=1, groups=1, bias=True, padding_mode='zeros', device=None, dtype=None, init_type='uniform'):\n",
        "    self.__dict__.update(locals())\n",
        "    super(Conv2d, self).__init__()\n",
        "\n",
        "    self.weight = Parameter(torch.Tensor(self.out_channels, self.in_channels, *self.kernel_size)) # (out, in, k1, k2)\n",
        "    self.bias = Parameter(torch.Tensor(out_channels))\n",
        "\n",
        "    # initialize weight and bias based on init_type\n",
        "    if self.init_type == 'uniform':\n",
        "      self.weight.data.uniform_(-0.1, 0.1)\n",
        "      self.bias.data.uniform_(0, 0)\n",
        "\n",
        "    elif self.init_type == 'Xe':\n",
        "      # Xavier\n",
        "      self.weight.data.uniform_(-2/self.in_channels, 2/self.in_channels)\n",
        "      self.bias.data.uniform_(0, 0)\n",
        "    else:\n",
        "      # orthogonal\n",
        "      X = np.random.random((self.out_channels, self.in_channels * self.kernel_size[0] * self.kernel_size[0]))\n",
        "      U, _, Vt = np.linalg.svd(X, full_matrices=False)\n",
        "      np.allclose(np.dot(Vt, Vt.T), np.eye(Vt.shape[0]))\n",
        "      self.weight.data = torch.Tensor(Vt.reshape((self.out_channels, self.in_channels, self.kernel_size[0], self.kernel_size[1])))\n",
        "      self.bias.data.uniform_(0, 0)\n",
        "\n",
        "  def forward(self, x):\n",
        "    return F.conv2d(x, self.weight, self.bias, self.stride, self.padding, self.dilation, self.groups)\n",
        "\n",
        "  def extra_repr(self):\n",
        "    return 'just for practice'\n"
      ],
      "execution_count": null,
      "outputs": []
    },
    {
      "cell_type": "code",
      "metadata": {
        "collapsed": true,
        "id": "d4C-_v9Hm7YE"
      },
      "source": [
        "class ConvNetwork(nn.Module):\n",
        "  def __init__(self, dataset, init_type='uniform'):\n",
        "    super(ConvNetwork, self).__init__()\n",
        "    x, y = dataset[0]\n",
        "    c, h, w = x.size()\n",
        "    output = 10\n",
        "\n",
        "    self.net = nn.Sequential(\n",
        "        Conv2d(c, 8, (3, 3), padding=(1,1), init_type=init_type),\n",
        "        nn.ReLU(),\n",
        "        Conv2d(8, output, (28, 28), padding=(0,0), init_type=init_type) # input here must match output of previous layer | this is for whole image | (b, 10, 1, 1)\n",
        "    )\n",
        "\n",
        "  def forward(self, x):\n",
        "    # we have (b, 10, 1, 1),\n",
        "    # but the double squeeze below gets us (b, 10)\n",
        "    return self.net(x).squeeze(2).squeeze(2)"
      ],
      "execution_count": null,
      "outputs": []
    },
    {
      "cell_type": "code",
      "metadata": {
        "collapsed": true,
        "id": "jYqywck8Wdm9",
        "pycharm": {
          "is_executing": false
        },
        "colab": {
          "base_uri": "https://localhost:8080/",
          "height": 471,
          "referenced_widgets": [
            "76307b4dd3b14c28b311b29ec080d450",
            "c05c84e1f47443399e6fb69f1796e1d8",
            "0c9d97e2deeb4fa5b8e694874ddcc277",
            "3d5e5a4e65644d72b61df9bf1ada81f9",
            "8c54ca4bd37b498ca6becc2ed6b96944",
            "508d66024c7d475ea11b03af6279b108",
            "4c91354b1c9a49c19bea0915d6ba1a3f",
            "d8c300630b284072bd0807dfb28eb794",
            "076098f986864d1496bfd51b6d205369",
            "db173e6d737e459b93460e2cd63f06f3",
            "6711be0e6818439eb0a7503aa212c44f",
            "7311877baf8b473587ccc57ca2a00a4c",
            "9026c9faa8b4439c9db150e90d801c4d",
            "41f58d171c79440690f83066de0e6544",
            "02fe191030cb48ada975edf303298ecc",
            "405da644d5194b03886acaf7aeef414f",
            "7a4c9f91011b4f3c8451112c4a973a9e",
            "9f81a47dedf640009a1de8eabf16c827",
            "e4e5e53649794b86a64dc3dfc40b6fc7",
            "2aa945dd87fc486db1be4143553988bd",
            "a92329f43273448989457d259ebaeafe",
            "b1080b3331794742a1dc1f31cedfaa6f",
            "6ac44567fb6c473db3c6f40b51d8f9a1",
            "a1b61d45778848ea8a89078da2400cc0",
            "61fd8a27a8bd4b0589ce5680f51c138b",
            "3fc4b83a1f354b67a5c7ba97c535622f",
            "a8ba8623d4c14a71bbcef9da4ea88e24",
            "caa05d7e5bfc4ea6aeee20021e6e1818",
            "0be5f56e86614e91880eb26b205db077",
            "4d3d5c4008a1487ba2d279a44a5ec270",
            "accca0fd415b4182a3666e5d686f6739",
            "801b9d9a9d1045b4a1ecebbf7801a736",
            "71d9ee13cb9944d69b79fbf70be66169",
            "e9dedc1d76264fb0bdb708cd4b02bfba",
            "40b0af246cb34e4ba4c5da253ad95eff",
            "b57e5adc966a45eea92fc8940e32cd75",
            "899c3aded1de49f0a431b5c0ac2824af",
            "c1454966d669451eb97e721b65ba6217",
            "a4ac241a13e849f6810fc6e5ab61b281",
            "e48c1c12c3a94b72a17f7ce3f1b72f63",
            "8cc3fffb49d2439693917be07c0b3816",
            "47f7ecc45eb3482e8e65e9671bfd8a45",
            "fbc8c01773ce4102834696e616908854",
            "3af68438b323475e847890e703790ef8"
          ]
        },
        "outputId": "6def42b9-7fd6-4209-98db-d181fa1ba7ed"
      },
      "source": [
        "# Initialize Datasets\n",
        "train_dataset = FashionMNISTProcessedDataset('/tmp/fashionmnist')\n",
        "val_dataset = FashionMNISTProcessedDataset('/tmp/fashionmnist', train=False)\n",
        "\n",
        "# Initialize DataLoaders\n",
        "train_loader = DataLoader(train_dataset,\n",
        "                          batch_size=42,\n",
        "                          pin_memory=True, shuffle=True)\n",
        "val_loader = DataLoader(val_dataset,\n",
        "                        batch_size=42,\n",
        "                        pin_memory=True, shuffle=True)\n",
        "\n",
        "# Initialize Model\n",
        "model = ConvNetwork(train_dataset)\n",
        "model = model.cuda()\n",
        "\n",
        "# Initialize Objective and Optimizer and other parameters\n",
        "objective = nn.CrossEntropyLoss() # change this\n",
        "optimizer = optim.Adam(model.parameters(), lr=1e-4)"
      ],
      "execution_count": null,
      "outputs": [
        {
          "output_type": "stream",
          "name": "stdout",
          "text": [
            "Downloading http://fashion-mnist.s3-website.eu-central-1.amazonaws.com/train-images-idx3-ubyte.gz\n",
            "Downloading http://fashion-mnist.s3-website.eu-central-1.amazonaws.com/train-images-idx3-ubyte.gz to /tmp/fashionmnist/FashionMNIST/raw/train-images-idx3-ubyte.gz\n"
          ]
        },
        {
          "output_type": "display_data",
          "data": {
            "application/vnd.jupyter.widget-view+json": {
              "model_id": "76307b4dd3b14c28b311b29ec080d450",
              "version_minor": 0,
              "version_major": 2
            },
            "text/plain": [
              "  0%|          | 0/26421880 [00:00<?, ?it/s]"
            ]
          },
          "metadata": {}
        },
        {
          "output_type": "stream",
          "name": "stdout",
          "text": [
            "Extracting /tmp/fashionmnist/FashionMNIST/raw/train-images-idx3-ubyte.gz to /tmp/fashionmnist/FashionMNIST/raw\n",
            "\n",
            "Downloading http://fashion-mnist.s3-website.eu-central-1.amazonaws.com/train-labels-idx1-ubyte.gz\n",
            "Downloading http://fashion-mnist.s3-website.eu-central-1.amazonaws.com/train-labels-idx1-ubyte.gz to /tmp/fashionmnist/FashionMNIST/raw/train-labels-idx1-ubyte.gz\n"
          ]
        },
        {
          "output_type": "display_data",
          "data": {
            "application/vnd.jupyter.widget-view+json": {
              "model_id": "7311877baf8b473587ccc57ca2a00a4c",
              "version_minor": 0,
              "version_major": 2
            },
            "text/plain": [
              "  0%|          | 0/29515 [00:00<?, ?it/s]"
            ]
          },
          "metadata": {}
        },
        {
          "output_type": "stream",
          "name": "stdout",
          "text": [
            "Extracting /tmp/fashionmnist/FashionMNIST/raw/train-labels-idx1-ubyte.gz to /tmp/fashionmnist/FashionMNIST/raw\n",
            "\n",
            "Downloading http://fashion-mnist.s3-website.eu-central-1.amazonaws.com/t10k-images-idx3-ubyte.gz\n",
            "Downloading http://fashion-mnist.s3-website.eu-central-1.amazonaws.com/t10k-images-idx3-ubyte.gz to /tmp/fashionmnist/FashionMNIST/raw/t10k-images-idx3-ubyte.gz\n"
          ]
        },
        {
          "output_type": "display_data",
          "data": {
            "application/vnd.jupyter.widget-view+json": {
              "model_id": "6ac44567fb6c473db3c6f40b51d8f9a1",
              "version_minor": 0,
              "version_major": 2
            },
            "text/plain": [
              "  0%|          | 0/4422102 [00:00<?, ?it/s]"
            ]
          },
          "metadata": {}
        },
        {
          "output_type": "stream",
          "name": "stdout",
          "text": [
            "Extracting /tmp/fashionmnist/FashionMNIST/raw/t10k-images-idx3-ubyte.gz to /tmp/fashionmnist/FashionMNIST/raw\n",
            "\n",
            "Downloading http://fashion-mnist.s3-website.eu-central-1.amazonaws.com/t10k-labels-idx1-ubyte.gz\n",
            "Downloading http://fashion-mnist.s3-website.eu-central-1.amazonaws.com/t10k-labels-idx1-ubyte.gz to /tmp/fashionmnist/FashionMNIST/raw/t10k-labels-idx1-ubyte.gz\n"
          ]
        },
        {
          "output_type": "display_data",
          "data": {
            "application/vnd.jupyter.widget-view+json": {
              "model_id": "e9dedc1d76264fb0bdb708cd4b02bfba",
              "version_minor": 0,
              "version_major": 2
            },
            "text/plain": [
              "  0%|          | 0/5148 [00:00<?, ?it/s]"
            ]
          },
          "metadata": {}
        },
        {
          "output_type": "stream",
          "name": "stdout",
          "text": [
            "Extracting /tmp/fashionmnist/FashionMNIST/raw/t10k-labels-idx1-ubyte.gz to /tmp/fashionmnist/FashionMNIST/raw\n",
            "\n"
          ]
        },
        {
          "output_type": "stream",
          "name": "stderr",
          "text": [
            "/usr/local/lib/python3.7/dist-packages/torchvision/datasets/mnist.py:498: UserWarning: The given NumPy array is not writeable, and PyTorch does not support non-writeable tensors. This means you can write to the underlying (supposedly non-writeable) NumPy array using the tensor. You may want to copy the array to protect its data or make it writeable before converting it to a tensor. This type of warning will be suppressed for the rest of this program. (Triggered internally at  /pytorch/torch/csrc/utils/tensor_numpy.cpp:180.)\n",
            "  return torch.from_numpy(parsed.astype(m[2], copy=False)).view(*s)\n"
          ]
        }
      ]
    },
    {
      "cell_type": "markdown",
      "metadata": {
        "id": "ronkEckHiDaU"
      },
      "source": [
        "\n",
        "___\n",
        "\n",
        "### Part 3\n",
        "Print the number of parameters in your network and plot accuracy of your training and validation \n",
        "set over time. You should experiment with some deep networks and see if you can get a network \n",
        "with close to 1,000,000 parameters.\n",
        "\n",
        "Once you've experimented with multiple network setups and the different initialization strategies, plot the best-performing experiments with each initialization strategy. You should be able to exceed 85% accuracy on the validation set in at least one of the plotted experiments.\n",
        "\n",
        "**TODO:**\n",
        "* Experiment with Deep Networks\n",
        "* Plot accuracy of training and validation set over time for each initialization strategy (w/ accurate graph title and axes lables)\n",
        "* Plot experiment results with 85% or better validation accuracy\n",
        "* Print out number of parameters in the model \n",
        "\n",
        "**DONE:**\n",
        "* Experiment with Deep Networks\n",
        "* Plot accuracy of training and validation set over time for each initialization strategy (w/ accurate graph title and axes lables)\n",
        "* Plot experiment results with 85% or better validation accuracy\n",
        "* Print out number of parameters in the model \n"
      ]
    },
    {
      "cell_type": "code",
      "metadata": {
        "collapsed": true,
        "id": "PaWCKjxvyRSf",
        "pycharm": {
          "is_executing": false
        },
        "colab": {
          "base_uri": "https://localhost:8080/",
          "height": 265
        },
        "outputId": "c0464e45-34e7-41a5-8e89-cad5fea1346a"
      },
      "source": [
        "# Go back up and try a few different networks and initialization strategies\n",
        "# Plot training and validation loss for uniform initialization\n",
        "# Plot training and validation accuracy for uniform initialization\n",
        "# Run your training and validation loop and collect stats\n",
        "\n",
        "# Initialize Model\n",
        "model = ConvNetwork(train_dataset, 'uniform')\n",
        "model = model.cuda()\n",
        "\n",
        "# Initialize Objective and Optimizer and other parameters\n",
        "objective = CrossEntropyLoss() # change this\n",
        "optimizer = optim.Adam(model.parameters(), lr=1e-4)\n",
        "\n",
        "losses = []\n",
        "validations = []\n",
        "train_accuracies = []\n",
        "val_accuracies = []\n",
        "\n",
        "for epoch in range(10):\n",
        "  loop = tqdm(total=len(train_loader), position=0, leave=False)\n",
        "\n",
        "  for batch, (x, y_truth) in enumerate(train_loader):\n",
        "    x, y_truth = x.cuda(non_blocking=True), y_truth.cuda(non_blocking=True)\n",
        "\n",
        "    optimizer.zero_grad()\n",
        "    y_hat = model(x)\n",
        "\n",
        "    loss = objective(y_hat, y_truth)\n",
        "    loss.backward()\n",
        "    \n",
        "    losses.append(loss.item())\n",
        "    #print('\\ny_hat: ', y_hat)\n",
        "    accuracy = (y_hat.argmax(1) == y_truth).float().mean()\n",
        "    #print(accuracy)\n",
        "    train_accuracies.append(accuracy)\n",
        "    loop.set_description('epoch:{}, loss:{:.4f}, accuracy:{:.3f}'.format(epoch, loss.item(), accuracy))\n",
        "    loop.update(1)\n",
        "\n",
        "    optimizer.step()\n",
        "\n",
        "    if batch % 500 == 0:\n",
        "      val = np.mean([objective(model(x.cuda()), y.cuda()).item()\n",
        "                     for x, y in val_loader])\n",
        "      validations.append((len(losses), val))\n",
        "      \n",
        "      val_acc_list = []\n",
        "      for inc, (x_val, y_val) in enumerate(val_loader):\n",
        "        x_val, y_val = x_val.cuda(), y_val.cuda()\n",
        "        y_val_hat = model(x_val)\n",
        "        \n",
        "        val_acc = (y_val_hat.argmax(1) == y_val).float().mean()\n",
        "        val_acc_list.append(val_acc.item())\n",
        "      \n",
        "      #print(val_acc)\n",
        "      val_accuracies.append((len(train_accuracies), np.array(val_acc_list).mean()))\n",
        "    \n",
        "  loop.close()\n",
        "\n",
        "a, b = zip(*validations)\n",
        "plt.plot(losses, label='train')\n",
        "plt.plot(a, b, label='val')\n",
        "plt.legend()\n",
        "plt.show()\n"
      ],
      "execution_count": null,
      "outputs": [
        {
          "output_type": "stream",
          "name": "stderr",
          "text": [
            ""
          ]
        },
        {
          "output_type": "display_data",
          "data": {
            "image/png": "[encoded data removed]",
            "text/plain": [
              "<Figure size 432x288 with 1 Axes>"
            ]
          },
          "metadata": {
            "needs_background": "light"
          }
        }
      ]
    },
    {
      "cell_type": "code",
      "metadata": {
        "colab": {
          "base_uri": "https://localhost:8080/",
          "height": 265
        },
        "id": "dhIZltbFdOXa",
        "outputId": "8a075f31-bda5-43ae-ca1e-58accccb0c58"
      },
      "source": [
        "a, b = zip(*val_accuracies)\n",
        "plt.plot(train_accuracies[8000:], label='train')\n",
        "plt.plot(a[8:], b[8:], label='val')\n",
        "plt.legend()\n",
        "plt.show()"
      ],
      "execution_count": null,
      "outputs": [
        {
          "output_type": "display_data",
          "data": {
            "image/png": "[encoded data removed]",
            "text/plain": [
              "<Figure size 432x288 with 1 Axes>"
            ]
          },
          "metadata": {
            "needs_background": "light"
          }
        }
      ]
    },
    {
      "cell_type": "code",
      "metadata": {
        "id": "vs7UP0HD_2X1",
        "colab": {
          "base_uri": "https://localhost:8080/",
          "height": 265
        },
        "outputId": "83d06345-1303-4ab5-effd-4405e0c45f5f"
      },
      "source": [
        "# Plot training and validation loss for Xe initialization\n",
        "# Plot training and validation accuracy for Xe initialization\n",
        "# Initialize Model\n",
        "model = ConvNetwork(train_dataset, 'Xe')\n",
        "model = model.cuda()\n",
        "\n",
        "# Initialize Objective and Optimizer and other parameters\n",
        "objective = CrossEntropyLoss() # change this\n",
        "optimizer = optim.Adam(model.parameters(), lr=1e-4)\n",
        "\n",
        "losses = []\n",
        "validations = []\n",
        "train_accuracies = []\n",
        "val_accuracies = []\n",
        "\n",
        "for epoch in range(10):\n",
        "  loop = tqdm(total=len(train_loader), position=0, leave=False)\n",
        "\n",
        "  for batch, (x, y_truth) in enumerate(train_loader):\n",
        "    x, y_truth = x.cuda(non_blocking=True), y_truth.cuda(non_blocking=True)\n",
        "\n",
        "    optimizer.zero_grad()\n",
        "    y_hat = model(x)\n",
        "\n",
        "    loss = objective(y_hat, y_truth)\n",
        "    loss.backward()\n",
        "    \n",
        "    losses.append(loss.item())\n",
        "    #print('\\ny_hat: ', y_hat)\n",
        "    accuracy = (y_hat.argmax(1) == y_truth).float().mean()\n",
        "    #print(accuracy)\n",
        "    train_accuracies.append(accuracy)\n",
        "    loop.set_description('epoch:{}, loss:{:.4f}, accuracy:{:.3f}'.format(epoch, loss.item(), accuracy))\n",
        "    loop.update(1)\n",
        "\n",
        "    optimizer.step()\n",
        "\n",
        "    if batch % 500 == 0:\n",
        "      val = np.mean([objective(model(x.cuda()), y.cuda()).item()\n",
        "                     for x, y in val_loader])\n",
        "      validations.append((len(losses), val))\n",
        "      \n",
        "      val_acc_list = []\n",
        "      for inc, (x_val, y_val) in enumerate(val_loader):\n",
        "        x_val, y_val = x_val.cuda(), y_val.cuda()\n",
        "        y_val_hat = model(x_val)\n",
        "        \n",
        "        val_acc = (y_val_hat.argmax(1) == y_val).float().mean()\n",
        "        val_acc_list.append(val_acc.item())\n",
        "      \n",
        "      #print(val_acc)\n",
        "      val_accuracies.append((len(train_accuracies), np.array(val_acc_list).mean()))\n",
        "    \n",
        "  loop.close()\n",
        "\n",
        "a, b = zip(*validations)\n",
        "plt.plot(losses, label='train')\n",
        "plt.plot(a, b, label='val')\n",
        "plt.legend()\n",
        "plt.show()"
      ],
      "execution_count": null,
      "outputs": [
        {
          "output_type": "stream",
          "name": "stderr",
          "text": [
            ""
          ]
        },
        {
          "output_type": "display_data",
          "data": {
            "image/png": "[encoded data removed]",
            "text/plain": [
              "<Figure size 432x288 with 1 Axes>"
            ]
          },
          "metadata": {
            "needs_background": "light"
          }
        }
      ]
    },
    {
      "cell_type": "code",
      "metadata": {
        "colab": {
          "base_uri": "https://localhost:8080/",
          "height": 265
        },
        "id": "OLR7kH4Jf1WA",
        "outputId": "d0b4b518-7ba8-4c71-8cfd-0a97119134df"
      },
      "source": [
        "a, b = zip(*val_accuracies)\n",
        "plt.plot(train_accuracies[8000:], label='train')\n",
        "plt.plot(a[8:], b[8:], label='val')\n",
        "plt.legend()\n",
        "plt.show()"
      ],
      "execution_count": null,
      "outputs": [
        {
          "output_type": "display_data",
          "data": {
            "image/png": "[encoded data removed]",
            "text/plain": [
              "<Figure size 432x288 with 1 Axes>"
            ]
          },
          "metadata": {
            "needs_background": "light"
          }
        }
      ]
    },
    {
      "cell_type": "code",
      "metadata": {
        "id": "AjA0r65F_2X2",
        "colab": {
          "base_uri": "https://localhost:8080/",
          "height": 265
        },
        "outputId": "da642a5a-be75-4be6-c6c6-7ed731e72ae8"
      },
      "source": [
        "# Plot training and validation loss for orthogonal initialization\n",
        "# Plot training and validation accuracy for orthogonal initialization\n",
        "# Initialize Model\n",
        "model = ConvNetwork(train_dataset, 'ortho')\n",
        "model = model.cuda()\n",
        "\n",
        "# Initialize Objective and Optimizer and other parameters\n",
        "objective = CrossEntropyLoss() # change this\n",
        "optimizer = optim.Adam(model.parameters(), lr=1e-4)\n",
        "\n",
        "losses = []\n",
        "validations = []\n",
        "train_accuracies = []\n",
        "val_accuracies = []\n",
        "\n",
        "for epoch in range(10):\n",
        "  loop = tqdm(total=len(train_loader), position=0, leave=False)\n",
        "\n",
        "  for batch, (x, y_truth) in enumerate(train_loader):\n",
        "    x, y_truth = x.cuda(non_blocking=True), y_truth.cuda(non_blocking=True)\n",
        "\n",
        "    optimizer.zero_grad()\n",
        "    y_hat = model(x)\n",
        "\n",
        "    loss = objective(y_hat, y_truth)\n",
        "    loss.backward()\n",
        "    \n",
        "    losses.append(loss.item())\n",
        "    #print('\\ny_hat: ', y_hat)\n",
        "    accuracy = (y_hat.argmax(1) == y_truth).float().mean()\n",
        "    #print(accuracy)\n",
        "    train_accuracies.append(accuracy)\n",
        "    loop.set_description('epoch:{}, loss:{:.4f}, accuracy:{:.3f}'.format(epoch, loss.item(), accuracy))\n",
        "    loop.update(1)\n",
        "\n",
        "    optimizer.step()\n",
        "\n",
        "    if batch % 500 == 0:\n",
        "      val = np.mean([objective(model(x.cuda()), y.cuda()).item()\n",
        "                     for x, y in val_loader])\n",
        "      validations.append((len(losses), val))\n",
        "      \n",
        "      val_acc_list = []\n",
        "      for inc, (x_val, y_val) in enumerate(val_loader):\n",
        "        x_val, y_val = x_val.cuda(), y_val.cuda()\n",
        "        y_val_hat = model(x_val)\n",
        "        \n",
        "        val_acc = (y_val_hat.argmax(1) == y_val).float().mean()\n",
        "        val_acc_list.append(val_acc.item())\n",
        "      \n",
        "      #print(val_acc)\n",
        "      val_accuracies.append((len(train_accuracies), np.array(val_acc_list).mean()))\n",
        "    \n",
        "  loop.close()\n",
        "\n",
        "a, b = zip(*validations)\n",
        "plt.plot(losses, label='train')\n",
        "plt.plot(a, b, label='val')\n",
        "plt.legend()\n",
        "plt.show()"
      ],
      "execution_count": null,
      "outputs": [
        {
          "output_type": "stream",
          "name": "stderr",
          "text": [
            ""
          ]
        },
        {
          "output_type": "display_data",
          "data": {
            "image/png": "[encoded data removed]",
            "text/plain": [
              "<Figure size 432x288 with 1 Axes>"
            ]
          },
          "metadata": {
            "needs_background": "light"
          }
        }
      ]
    },
    {
      "cell_type": "code",
      "metadata": {
        "colab": {
          "base_uri": "https://localhost:8080/",
          "height": 265
        },
        "id": "6_q_VTvbg0bz",
        "outputId": "94e82ade-6edc-40a5-a9a5-7fcee66808ce"
      },
      "source": [
        "a, b = zip(*val_accuracies)\n",
        "plt.plot(train_accuracies[8000:], label='train')\n",
        "plt.plot(a[8:], b[8:], label='val')\n",
        "plt.legend()\n",
        "plt.show()"
      ],
      "execution_count": null,
      "outputs": [
        {
          "output_type": "display_data",
          "data": {
            "image/png": "[encoded data removed]",
            "text/plain": [
              "<Figure size 432x288 with 1 Axes>"
            ]
          },
          "metadata": {
            "needs_background": "light"
          }
        }
      ]
    },
    {
      "cell_type": "code",
      "metadata": {
        "collapsed": true,
        "id": "oijCR-JnyS6V",
        "pycharm": {
          "is_executing": false
        },
        "colab": {
          "base_uri": "https://localhost:8080/"
        },
        "outputId": "67a1530a-1b03-478e-b419-76b4c40daa6c"
      },
      "source": [
        "# Compute and print the number of parameters in the model\n",
        "test1 = [np.prod(p.size()) for p in model.parameters()]\n",
        "print(test1)\n",
        "print('Number of parameters in model: ', sum(test1))"
      ],
      "execution_count": null,
      "outputs": [
        {
          "output_type": "stream",
          "name": "stdout",
          "text": [
            "[72, 8, 62720, 10]\n",
            "Number of parameters in model:  62810\n"
          ]
        }
      ]
    },
    {
      "cell_type": "markdown",
      "metadata": {
        "id": "7hXGRxUQh9gX"
      },
      "source": [
        "___\n",
        "\n",
        "### Part 4\n",
        "Learn about how convolution layers affect the shape of outputs, and answer the following quiz questions. Include these in a new markdown cell in your jupyter notebook.\n",
        "\n",
        "\n",
        "*Using a Kernel size of 3×3 what should the settings of your 2d convolution be that results in the following mappings (first answer given to you)*\n",
        "\n",
        "* (c=3, h=10, w=10) ⇒ (c=10, h=8, w=8) : (out_channels=10, kernel_size=(3, 3), padding=(0, 0))\n",
        "* (c=3, h=10, w=10) ⇒ (c=22, h=10, w=10) : **(out_channels=22, kernel_size=(3, 3), padding=(1, 1))**\n",
        "* (c=3, h=10, w=10) ⇒ (c=65, h=12, w=12) : **(out_channels=65, kernel_size=(3, 3), padding=(2, 2))**\n",
        "* (c=3, h=10, w=10) ⇒ (c=7, h=20, w=20) : **(out_channels=7, kernel_size=(3, 3), padding=(6, 6))**\n",
        "\n",
        "*Using a Kernel size of 5×5:*)\n",
        "\n",
        "* (c=3, h=10, w=10) ⇒ (c=10, h=8, w=8) : (out_channels=10, kernel_size=(5, 5), padding=(1, 1))\n",
        "* (c=3, h=10, w=10) ⇒ (c=100, h=10, w=10) : **(out_channels=100, kernel_size=(5, 5), padding=(2, 2))**\n",
        "* (c=3, h=10, w=10) ⇒ (c=23, h=12, w=12) : **(out_channels=23, kernel_size=(5, 5), padding=(3, 3))**\n",
        "* (c=3, h=10, w=10) ⇒ (c=5, h=24, w=24) : **(out_channels=5, kernel_size=(5, 5), padding=(9, 9))**\n",
        "\n",
        "*Using Kernel size of 5×3:*\n",
        "\n",
        "* (c=3, h=10, w=10) ⇒ (c=10, h=8, w=8) : **(out_channels=10, kernel_size=(5, 3), padding=(1, 0))**\n",
        "* (c=3, h=10, w=10) ⇒ (c=100, h=10, w=10) : **(out_channels=100, kernel_size=(5, 3), padding=(2, 1))**\n",
        "* (c=3, h=10, w=10) ⇒ (c=23, h=12, w=12) : **(out_channels=23, kernel_size=(5, 3), padding=(3, 2))**\n",
        "* (c=3, h=10, w=10) ⇒ (c=5, h=24, w=24) : **(out_channels=5, kernel_size=(5, 3), padding=(9,8))**\n",
        "\n",
        "*Determine the kernel that requires the smallest padding size to make the following mappings possible:*\n",
        "\n",
        "* (c=3, h=10, w=10) ⇒ (c=10, h=9, w=7) : **(out_channels=10, kernel_size=(2, 4), padding=(0, 0))**\n",
        "* (c=3, h=10, w=10) ⇒ (c=22, h=10, w=10) : **(out_channels=22, kernel_size=(1, 1), padding=(0, 0))**\n",
        "\n",
        "**TODO:**\n",
        "\n",
        "* Answer all the questions above \n",
        "\n",
        "**DONE:**\n",
        "* Answer all the questions above \n"
      ]
    },
    {
      "cell_type": "code",
      "metadata": {
        "collapsed": true,
        "id": "XXfG3wClh8an",
        "pycharm": {
          "is_executing": false
        },
        "colab": {
          "base_uri": "https://localhost:8080/"
        },
        "outputId": "071d6ac3-6b11-4ef0-edc9-ec0a7cff7b59"
      },
      "source": [
        "# Write some test code for checking the answers for these problems (example shown in the video)\n",
        "\n",
        "c = nn.Conv2d(3, 22, kernel_size=(1,1), padding=(0,0))\n",
        "c(torch.zeros(1, 3, 10, 10)).size()"
      ],
      "execution_count": null,
      "outputs": [
        {
          "output_type": "execute_result",
          "data": {
            "text/plain": [
              "torch.Size([1, 22, 10, 10])"
            ]
          },
          "metadata": {},
          "execution_count": 80
        }
      ]
    }
  ]
}