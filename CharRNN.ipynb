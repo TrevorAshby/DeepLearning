{
  "nbformat": 4,
  "nbformat_minor": 0,
  "metadata": {
    "colab": {
      "name": "DL_Lab6.ipynb",
      "provenance": [],
      "collapsed_sections": []
    },
    "kernelspec": {
      "display_name": "Python 3",
      "language": "python",
      "name": "python3"
    },
    "language_info": {
      "codemirror_mode": {
        "name": "ipython",
        "version": 3
      },
      "file_extension": ".py",
      "mimetype": "text/x-python",
      "name": "python",
      "nbconvert_exporter": "python",
      "pygments_lexer": "ipython3",
      "version": "3.7.1"
    },
    "pycharm": {
      "stem_cell": {
        "cell_type": "raw",
        "metadata": {
          "collapsed": false
        },
        "source": []
      }
    }
  },
  "cells": [
    {
      "cell_type": "markdown",
      "metadata": {
        "id": "4A-ypM9Rfu35"
      },
      "source": [
        "<a \n",
        "href=\"https://colab.research.google.com/github/wingated/cs474_labs_f2019/blob/master/DL_Lab6.ipynb\"\n",
        "  target=\"_parent\">\n",
        "  <img\n",
        "    src=\"https://colab.research.google.com/assets/colab-badge.svg\"\n",
        "    alt=\"Open In Colab\"/>\n",
        "</a>"
      ]
    },
    {
      "cell_type": "markdown",
      "metadata": {
        "id": "cksgAH12XRjV"
      },
      "source": [
        "# Lab 6: Sequence-to-sequence models\n",
        "\n",
        "### Description:\n",
        "For this lab, you will code up the [char-rnn model of Karpathy](http://karpathy.github.io/2015/05/21/rnn-effectiveness/). This is a recurrent neural network that is trained probabilistically on sequences of characters, and that can then be used to sample new sequences that are like the original.\n",
        "\n",
        "This lab will help you develop several new skills, as well as understand some best practices needed for building large models. In addition, we'll be able to create networks that generate neat text!\n",
        "\n",
        "### Deliverable:\n",
        "- Fill in the code for the RNN (using PyTorch's built-in GRU).\n",
        "- Fill in the training loop\n",
        "- Fill in the evaluation loop. In this loop, rather than using a validation set, you will sample text from the RNN.\n",
        "- Implement your own GRU cell.\n",
        "- Train your RNN on a new domain of text (Star Wars, political speeches, etc. - have fun!)\n",
        "\n",
        "### Grading Standards:\n",
        "- 20% Implementation the RNN\n",
        "- 20% Implementation training loop\n",
        "- 20% Implementation of evaluation loop\n",
        "- 20% Implementation of your own GRU cell\n",
        "- 20% Training of your RNN on a domain of your choice\n",
        "\n",
        "### Tips:\n",
        "- Read through all the helper functions, run them, and make sure you understand what they are doing\n",
        "- At each stage, ask yourself: What should the dimensions of this tensor be? Should its data type be float or int? (int is called `long` in PyTorch)\n",
        "- Don't apply a softmax inside the RNN if you are using an nn.CrossEntropyLoss (this module already applies a softmax to its input).\n",
        "\n",
        "### Example Output:\n",
        "An example of my final samples are shown below (more detail in the\n",
        "final section of this writeup), after 150 passes through the data.\n",
        "Please generate about 15 samples for each dataset.\n",
        "\n",
        "<code>\n",
        "And ifte thin forgision forward thene over up to a fear not your\n",
        "And freitions, which is great God. Behold these are the loss sub\n",
        "And ache with the Lord hath bloes, which was done to the holy Gr\n",
        "And appeicis arm vinimonahites strong in name, to doth piseling \n",
        "And miniquithers these words, he commanded order not; neither sa\n",
        "And min for many would happine even to the earth, to said unto m\n",
        "And mie first be traditions? Behold, you, because it was a sound\n",
        "And from tike ended the Lamanites had administered, and I say bi\n",
        "</code>\n"
      ]
    },
    {
      "cell_type": "markdown",
      "metadata": {
        "id": "c2i_QpSsWG4c"
      },
      "source": [
        "---\n",
        "\n",
        "## Part 0: Readings, data loading, and high level training\n",
        "\n",
        "---\n",
        "\n",
        "There is a tutorial here that will help build out scaffolding code, and get an understanding of using sequences in pytorch.\n",
        "\n",
        "* Read the following\n",
        "\n",
        "> * [Pytorch sequence-to-sequence tutorial](https://pytorch.org/tutorials/intermediate/seq2seq_translation_tutorial.html) (You will be implementing the decoder, not the encoder, as we are not doing sequence-to-sequence translation.)\n",
        "* [Understanding LSTM Networks](http://colah.github.io/posts/2015-08-Understanding-LSTMs/)\n",
        "\n",
        "\n",
        "\n",
        "\n"
      ]
    },
    {
      "cell_type": "code",
      "metadata": {
        "colab": {
          "base_uri": "https://localhost:8080/"
        },
        "id": "l7bdZWxvJrsx",
        "outputId": "a5f789c1-c4d4-453d-9f30-59e6c0b20642"
      },
      "source": [
        "! wget -O ./text_files.tar.gz 'https://piazza.com/redirect/s3?bucket=uploads&prefix=attach%2Fjlifkda6h0x5bk%2Fhzosotq4zil49m%2Fjn13x09arfeb%2Ftext_files.tar.gz' \n",
        "! tar -xzf text_files.tar.gz\n",
        "! pip install unidecode\n",
        "! pip install torch\n",
        "\n",
        "import unidecode\n",
        "import string\n",
        "import random\n",
        "import re\n",
        " \n",
        "import pdb\n",
        " \n",
        "all_characters = string.printable\n",
        "n_characters = len(all_characters)\n",
        "file = unidecode.unidecode(open('./text_files/lotr.txt').read())\n",
        "file_len = len(file)\n",
        "print('file_len =', file_len)"
      ],
      "execution_count": null,
      "outputs": [
        {
          "name": "stdout",
          "output_type": "stream",
          "text": [
            "--2021-10-16 19:50:57--  https://piazza.com/redirect/s3?bucket=uploads&prefix=attach%2Fjlifkda6h0x5bk%2Fhzosotq4zil49m%2Fjn13x09arfeb%2Ftext_files.tar.gz\n",
            "Resolving piazza.com (piazza.com)... 52.44.149.188, 54.86.243.162, 52.54.75.23, ...\n",
            "Connecting to piazza.com (piazza.com)|52.44.149.188|:443... connected.\n",
            "HTTP request sent, awaiting response... 302 Found\n",
            "Location: https://cdn-uploads.piazza.com/attach/jlifkda6h0x5bk/hzosotq4zil49m/jn13x09arfeb/text_files.tar.gz [following]\n",
            "--2021-10-16 19:50:57--  https://cdn-uploads.piazza.com/attach/jlifkda6h0x5bk/hzosotq4zil49m/jn13x09arfeb/text_files.tar.gz\n",
            "Resolving cdn-uploads.piazza.com (cdn-uploads.piazza.com)... 13.35.89.25, 13.35.89.70, 13.35.89.117, ...\n",
            "Connecting to cdn-uploads.piazza.com (cdn-uploads.piazza.com)|13.35.89.25|:443... connected.\n",
            "HTTP request sent, awaiting response... 200 OK\n",
            "Length: 1533290 (1.5M) [application/x-gzip]\n",
            "Saving to: ‘./text_files.tar.gz’\n",
            "\n",
            "./text_files.tar.gz 100%[===================>]   1.46M  --.-KB/s    in 0.05s   \n",
            "\n",
            "2021-10-16 19:50:58 (31.6 MB/s) - ‘./text_files.tar.gz’ saved [1533290/1533290]\n",
            "\n",
            "Requirement already satisfied: unidecode in /usr/local/lib/python3.7/dist-packages (1.3.2)\n",
            "Requirement already satisfied: torch in /usr/local/lib/python3.7/dist-packages (1.9.0+cu111)\n",
            "Requirement already satisfied: typing-extensions in /usr/local/lib/python3.7/dist-packages (from torch) (3.7.4.3)\n",
            "file_len = 2579888\n"
          ]
        }
      ]
    },
    {
      "cell_type": "code",
      "metadata": {
        "colab": {
          "base_uri": "https://localhost:8080/"
        },
        "id": "TxBeKeNjJ0NQ",
        "outputId": "1871fa28-51e9-4d31-a738-1bb1ddbcf64b"
      },
      "source": [
        "chunk_len = 200\n",
        " \n",
        "def random_chunk():\n",
        "  start_index = random.randint(0, file_len - chunk_len)\n",
        "  end_index = start_index + chunk_len + 1\n",
        "  return file[start_index:end_index]\n",
        "  \n",
        "print(random_chunk())"
      ],
      "execution_count": null,
      "outputs": [
        {
          "name": "stdout",
          "output_type": "stream",
          "text": [
            " Lamedon; and the Shadow \n",
            "Host \n",
            "\n",
            "pressed behind and fear went on before them, until they came to Calembel \n",
            "upon Ciril, and the sun went down like blood behind Pinnath Gelin away in \n",
            "the West behind the\n"
          ]
        }
      ]
    },
    {
      "cell_type": "code",
      "metadata": {
        "colab": {
          "base_uri": "https://localhost:8080/"
        },
        "id": "On0_WitWJ99e",
        "outputId": "1135b8a0-e999-40f2-ed48-fc3efcc983d9"
      },
      "source": [
        "import torch\n",
        "# Turn string into list of longs\n",
        "def char_tensor(string):\n",
        "  tensor = torch.zeros(len(string)).long()\n",
        "  for c in range(len(string)):\n",
        "      tensor[c] = all_characters.index(string[c])\n",
        "  return tensor\n",
        "\n",
        "print(char_tensor('abcDEF'))"
      ],
      "execution_count": null,
      "outputs": [
        {
          "name": "stdout",
          "output_type": "stream",
          "text": [
            "tensor([10, 11, 12, 39, 40, 41])\n"
          ]
        }
      ]
    },
    {
      "cell_type": "markdown",
      "metadata": {
        "id": "CYJPTLcaYmfI"
      },
      "source": [
        "---\n",
        "\n",
        "## Part 4: Creating your own GRU cell \n",
        "\n",
        "**(Come back to this later - its defined here so that the GRU will be defined before it is used)**\n",
        "\n",
        "---\n",
        "\n",
        "The cell that you used in Part 1 was a pre-defined Pytorch layer. Now, write your own GRU class using the same parameters as the built-in Pytorch class does.\n",
        "\n",
        "Please do not look at the documentation's code for the GRU cell definition. The answer is right there in the code, and in theory, you could just cut-and-paste it. This bit is on your honor!\n",
        "\n",
        "**TODO:**\n",
        "* Create a custom GRU cell\n",
        "\n",
        "**DONE:**\n",
        "* Create a custom GRU cell\n"
      ]
    },
    {
      "cell_type": "code",
      "metadata": {
        "id": "aavAv50ZKQ-F"
      },
      "source": [
        "import torch\n",
        "import torch.nn as nn\n",
        "import torch.nn.functional as F\n",
        "\n",
        "\n",
        "class GRU(nn.Module):\n",
        "  def __init__(self, input_size, hidden_size, num_layers):\n",
        "    super(GRU, self).__init__()\n",
        "    self.num_layers = num_layers\n",
        "    self.sig = nn.Sigmoid()\n",
        "    self.tanh = nn.Tanh()\n",
        "    self.W_ir = nn.ModuleList([nn.Linear(input_size, hidden_size) for _ in range(num_layers)])\n",
        "    self.W_hr = nn.ModuleList([nn.Linear(hidden_size, hidden_size) for _ in range(num_layers)])\n",
        "    self.W_iz = nn.ModuleList([nn.Linear(input_size, hidden_size) for _ in range(num_layers)])\n",
        "    self.W_hz = nn.ModuleList([nn.Linear(hidden_size, hidden_size) for _ in range(num_layers)])\n",
        "    self.W_in = nn.ModuleList([nn.Linear(input_size, hidden_size) for _ in range(num_layers)])\n",
        "    self.W_hn = nn.ModuleList([nn.Linear(hidden_size, hidden_size) for _ in range(num_layers)])\n",
        "    \n",
        "  \n",
        "  def forward(self, inputs, hidden):\n",
        "    # Each layer does the following:\n",
        "    # r_t = sigmoid(W_ir*x_t + b_ir + W_hr*h_(t-1) + b_hr)\n",
        "    # z_t = sigmoid(W_iz*x_t + b_iz + W_hz*h_(t-1) + b_hz)\n",
        "    # n_t = tanh(W_in*x_t + b_in + r_t**(W_hn*h_(t-1) + b_hn))\n",
        "    # h_(t) = (1 - z_t)**n_t + z_t**h_(t-1)\n",
        "    # Where ** is hadamard product (not matrix multiplication, but elementwise multiplication)\n",
        "    for i in range(self.num_layers):\n",
        "      r_t = self.sig(self.W_ir[i](inputs) + self.W_hr[i](hidden))\n",
        "      z_t = self.sig(self.W_iz[i](inputs) + self.W_hz[i](hidden))\n",
        "      n_t = self.tanh(self.W_in[i](inputs) + (r_t * self.W_hn[i](hidden)))\n",
        "      h_t = ((1 - z_t) * n_t) + (z_t * (hidden))\n",
        "    return n_t, h_t\n",
        "  \n"
      ],
      "execution_count": null,
      "outputs": []
    },
    {
      "cell_type": "markdown",
      "metadata": {
        "id": "qtXdX-B_WiAY"
      },
      "source": [
        "---\n",
        "\n",
        "##  Part 1: Building a sequence to sequence model\n",
        "\n",
        "---\n",
        "\n",
        "Great! We have the data in a useable form. We can switch out which text file we are reading from, and trying to simulate.\n",
        "\n",
        "We now want to build out an RNN model, in this section, we will use all built in Pytorch pieces when building our RNN class.\n",
        "\n",
        "\n",
        "**TODO:**\n",
        "* Create an RNN class that extends from nn.Module.\n",
        "\n",
        "**DONE:**\n",
        "* Create an RNN class that extends from nn.Module.\n"
      ]
    },
    {
      "cell_type": "code",
      "metadata": {
        "id": "d6tNdEnzWj5F"
      },
      "source": [
        "class RNN(nn.Module):\n",
        "  def __init__(self, input_size, hidden_size, output_size, n_layers):\n",
        "    super(RNN, self).__init__()\n",
        "    self.input_size = input_size\n",
        "    self.hidden_size = hidden_size\n",
        "    self.output_size = output_size\n",
        "    self.n_layers = n_layers\n",
        "\n",
        "    self.embedding= nn.Embedding(output_size, hidden_size)\n",
        "    self.gru = GRU(hidden_size, hidden_size, num_layers=n_layers) \n",
        "    self.softmax = nn.LogSoftmax(dim=1)\n",
        "    self.out = nn.Linear(hidden_size, output_size)\n",
        "\n",
        "  def forward(self, input_char, hidden):\n",
        "    # by reviewing the documentation, construct a forward function that properly uses the output\n",
        "    # of the GRU\n",
        "    #print('input_char: ', input_char)\n",
        "    output = self.embedding(input_char).view(1, 1, -1)\n",
        "    output = F.relu(output)\n",
        "    #print('output size: ', output.size())\n",
        "    #print('hidden size: ', hidden.size())\n",
        "    out_decoded, hidden = self.gru(output, hidden)\n",
        "    #print('gru out: ', out_decoded.size())\n",
        "    out_decoded = self.softmax(self.out(out_decoded[0]))\n",
        "    #print('out_dec after softmax size: ', out_decoded.size())\n",
        "    return out_decoded, hidden\n",
        "\n",
        "  def init_hidden(self):\n",
        "    return torch.zeros(self.n_layers, 1, self.hidden_size)"
      ],
      "execution_count": null,
      "outputs": []
    },
    {
      "cell_type": "code",
      "metadata": {
        "id": "hrhXghEPKD-5"
      },
      "source": [
        "def random_training_set():    \n",
        "  chunk = random_chunk()\n",
        "  inp = char_tensor(chunk[:-1])\n",
        "  target = char_tensor(chunk[1:])\n",
        "  return inp, target"
      ],
      "execution_count": null,
      "outputs": []
    },
    {
      "cell_type": "markdown",
      "metadata": {
        "id": "ZpiGObbBX0Mr"
      },
      "source": [
        "---\n",
        "\n",
        "## Part 2: Sample text and Training information\n",
        "\n",
        "---\n",
        "\n",
        "We now want to be able to train our network, and sample text after training.\n",
        "\n",
        "This function outlines how training a sequence style network goes. \n",
        "\n",
        "**TODO:**\n",
        "* Fill in the pieces.\n",
        "\n",
        "**DONE:**\n",
        "* Fill in the pieces.\n",
        "\n"
      ]
    },
    {
      "cell_type": "code",
      "metadata": {
        "id": "2ALC3Pf8Kbsi"
      },
      "source": [
        "# NOTE: decoder_optimizer, decoder, and criterion will be defined below as global variables\n",
        "def train(inp, target):\n",
        "  ## initialize hidden layers, set up gradient and loss \n",
        "    # your code here\n",
        "  ## /\n",
        "  decoder_optimizer.zero_grad()\n",
        "  hidden2 = decoder.init_hidden()\n",
        "  loss = 0\n",
        "\n",
        "  input_length = inp.size(0)\n",
        "  target_length = target.size(0)\n",
        "  #print('input_length: ', input_length)\n",
        "  #print('target_length: ', target_length)\n",
        "  \n",
        "  decoder_outputs = torch.zeros(target_length, decoder.hidden_size)\n",
        "  #print('here')\n",
        "  for targ in range(target_length):\n",
        "    #print('inp[input]: ', inp[input])\n",
        "    #print('hidden: ', hidden.size())\n",
        "    decoder_output, hidden2 = decoder(inp[targ], hidden2)\n",
        "    #print('dec_out size: ', decoder_output.size())\n",
        "    #print('target: ', target.unsqueeze(1)[targ])\n",
        "    loss += criterion(decoder_output, target.unsqueeze(1)[targ])\n",
        "  #print('decoder_outputs size: ', decoder_outputs.size())\n",
        "  \n",
        "\n",
        "  #print('here2')\n",
        "  loss.backward()\n",
        "  decoder_optimizer.step()\n",
        "\n",
        "  return loss.item() / target_length\n",
        "    \n",
        "  # more stuff here..."
      ],
      "execution_count": null,
      "outputs": []
    },
    {
      "cell_type": "markdown",
      "metadata": {
        "id": "EN06NUu3YRlz"
      },
      "source": [
        "---\n",
        "\n",
        "## Part 3: Sample text and Training information\n",
        "\n",
        "---\n",
        "\n",
        "You can at this time, if you choose, also write out your train loop boilerplate that samples random sequences and trains your RNN. This will be helpful to have working before writing your own GRU class.\n",
        "\n",
        "If you are finished training, or during training, and you want to sample from the network you may consider using the following function. If your RNN model is instantiated as `decoder`then this will probabilistically sample a sequence of length `predict_len`\n",
        "\n",
        "**TODO:**\n",
        "* Fill out the evaluate function to generate text frome a primed string\n",
        "\n",
        "**DONE:**\n",
        "* Fill out the evaluate function to generate text frome a primed string\n"
      ]
    },
    {
      "cell_type": "code",
      "metadata": {
        "id": "B-bp-OZ1KjNh"
      },
      "source": [
        "def sample_outputs(output, temperature):\n",
        "    \"\"\"Takes in a vector of unnormalized probability weights and samples a character from the distribution\"\"\"\n",
        "    # As temperature approaches 0, this sampling function becomes argmax (no randomness)\n",
        "    # As temperature approaches infinity, this sampling function becomes a purely random choice\n",
        "    return torch.multinomial(torch.exp(output / temperature), 1)\n",
        "\n",
        "def evaluate(prime_str='A', predict_len=100, temperature=0.6):\n",
        "  ## initialize hidden state, initialize other useful variables\n",
        "    # your code here\n",
        "  ## /\n",
        "  with torch.no_grad():\n",
        "    hidden = decoder.init_hidden()\n",
        "    output_string = prime_str\n",
        "  for input_char in char_tensor(prime_str):\n",
        "    #print('TTtWW: ', the_tensor_to_work_with)\n",
        "    decoder_output, hidden = decoder(input_char, hidden)\n",
        "\n",
        "  the_sample = sample_outputs(decoder_output, temperature)\n",
        "  output_string += all_characters[the_sample.item()]\n",
        "  val, idx = decoder_output.data.topk(1)\n",
        "  next_char = idx.squeeze().detach()\n",
        "  \n",
        "  #print('decoder_out size: ', decoder_output.size())\n",
        "  #print('decoder_out: ', decoder_output)\n",
        "  #print('decoder_out argmax: ', torch.argmax(decoder_output))\n",
        "  #print('finished prime_str:', output_string)\n",
        "  for i in range(predict_len - len(prime_str)):\n",
        "    decoder_output, hidden = decoder(next_char, hidden)\n",
        "    #output_string += all_characters[torch.argmax(decoder_output).item()]\n",
        "    the_sample = sample_outputs(decoder_output, temperature)\n",
        "    #print('the_sample: ', all_characters[the_sample.item()])\n",
        "    output_string += all_characters[the_sample.item()]\n",
        "    next_char = the_sample\n",
        "\n",
        "    #output_string += str(decoder_output)\n",
        "    #print('output_string:', output_string)\n",
        "\n",
        "  return output_string\n",
        "\n",
        "\n",
        "  "
      ],
      "execution_count": 88,
      "outputs": []
    },
    {
      "cell_type": "markdown",
      "metadata": {
        "id": "Du4AGA8PcFEW"
      },
      "source": [
        "---\n",
        "\n",
        "## Part 4: (Create a GRU cell, requirements above)\n",
        "\n",
        "---\n"
      ]
    },
    {
      "cell_type": "markdown",
      "metadata": {
        "id": "GFS2bpHSZEU6"
      },
      "source": [
        "\n",
        "---\n",
        "\n",
        "## Part 5: Run it and generate some text!\n",
        "\n",
        "---\n",
        "\n",
        "\n",
        "**TODO:** \n",
        "* Create some cool output\n",
        "\n",
        "**DONE:**\n",
        "* Create some cool output\n",
        "\n",
        "\n",
        "\n",
        "Assuming everything has gone well, you should be able to run the main function in the scaffold code, using either your custom GRU cell or the built in layer, and see output something like this. I trained on the “lotr.txt” dataset, using chunk_length=200, hidden_size=100 for 2000 epochs. These are the results, along with the prime string:\n",
        "\n",
        "---\n",
        "\n",
        " G:\n",
        " \n",
        " Gandalf was decrond. \n",
        "'All have lord you. Forward the road at least walk this is stuff, and \n",
        "went to the long grey housel-winding and kindled side was a sleep pleasuring, I do long \n",
        "row hrough. In  \n",
        "\n",
        " lo:\n",
        " \n",
        " lost death it. \n",
        "'The last of the gatherings and take you,' said Aragorn, shining out of the Gate. \n",
        "'Yes, as you there were remembaused to seen their pass, when? What \n",
        "said here, such seven an the sear \n",
        "\n",
        " lo:\n",
        " \n",
        " low, and frod to keepn \n",
        "Came of their most. But here priced doubtless to an Sam up is \n",
        "masters; he left hor as they are looked. And he could now the long to stout in the right fro horseless of \n",
        "the like \n",
        "\n",
        " I:\n",
        " \n",
        " I had been the \n",
        "in his eyes with the perushed to lest, if then only the ring and the legended \n",
        "of the less of the long they which as the \n",
        "enders of Orcovered and smood, and the p \n",
        "\n",
        " I:\n",
        " \n",
        " I they were not the lord of the hoomes. \n",
        "Home already well from the Elves. And he sat strength, and we \n",
        "housed out of the good of the days to the mountains from his perith. \n",
        "\n",
        "'Yess! Where though as if  \n",
        "\n",
        " Th:\n",
        " \n",
        " There yarden \n",
        "you would guard the hoor might. Far and then may was \n",
        "croties, too began to see the drumbred many line \n",
        "and was then hoard walk and they heart, and the chair of the \n",
        "Ents of way, might was \n",
        "\n",
        " G:\n",
        " \n",
        " Gandalf \n",
        "been lat of less the round of the stump; both and seemed to the trees and perished they \n",
        "lay are speered the less; and the wind the steep and have to she \n",
        "precious. There was in the oonly went \n",
        "\n",
        " wh:\n",
        " \n",
        " which went out of the door. \n",
        "Hull the King and of the The days of his brodo \n",
        "stumbler of the windard was a thing there, then it been shining langing \n",
        "to him poor land. They hands; though they seemed ou \n",
        "\n",
        " ra:\n",
        " \n",
        " rather,' have all the least deather \n",
        "down of the truven beginning to the house of sunk. \n",
        "'Nark shorts of the Eyes of the Gate your great nothing as Eret. \n",
        "'I wander trust horn, and there were not, it  \n",
        "\n",
        " I:\n",
        " \n",
        " I can have no mind \n",
        "together! Where don't may had one may little blung \n",
        "terrible to tales. And turn and Gandalf shall be not to as only the Cattring \n",
        "not stopped great the out them forms. On they she lo \n",
        "\n",
        "---\n"
      ]
    },
    {
      "cell_type": "code",
      "metadata": {
        "id": "-nXFeCmdKodw"
      },
      "source": [
        "import time\n",
        "n_epochs = 5000\n",
        "print_every = 200\n",
        "plot_every = 10\n",
        "hidden_size = 200\n",
        "n_layers = 3\n",
        "lr = 0.001\n",
        " \n",
        "decoder = RNN(n_characters, hidden_size, n_characters, n_layers)\n",
        "decoder_optimizer = torch.optim.Adam(decoder.parameters(), lr=lr)\n",
        "criterion = nn.CrossEntropyLoss()\n",
        "#print('decoder_hidden: ')\n",
        " \n",
        "start = time.time()\n",
        "all_losses = []\n",
        "loss_avg = 0"
      ],
      "execution_count": null,
      "outputs": []
    },
    {
      "cell_type": "code",
      "metadata": {
        "colab": {
          "background_save": true,
          "base_uri": "https://localhost:8080/"
        },
        "id": "xKfozqw-6eqb",
        "outputId": "34522e30-dbe7-431a-ef5d-8d1cfad58901"
      },
      "source": [
        "# n_epochs = 2000\n",
        "for epoch in range(1, n_epochs + 1):\n",
        "  loss_ = train(*random_training_set())       \n",
        "  loss_avg += loss_\n",
        "\n",
        "  if epoch % print_every == 0:\n",
        "      print('[%s (%d %d%%) %.4f]' % (time.time() - start, epoch, epoch / n_epochs * 100, loss_))\n",
        "      print(evaluate('Wh', 100), '\\n')\n",
        "\n",
        "  if epoch % plot_every == 0:\n",
        "      all_losses.append(loss_avg / plot_every)\n",
        "      loss_avg = 0"
      ],
      "execution_count": null,
      "outputs": [
        {
          "name": "stdout",
          "output_type": "stream",
          "text": [
            "[79.21881294250488 (200 4%) 2.1122]\n",
            "Whe the heas pirs cand he methe samand the and hime the his at wered mas he the \n",
            "\n",
            "\n",
            "\n",
            "\n",
            "\n",
            "\n",
            "\n",
            "\n",
            "\n",
            "\n",
            "Ower leros\n",
            "None \n",
            "\n",
            "[157.67925095558167 (400 8%) 2.0617]\n",
            "Wha the and ind the hit and whond of the mongaing arow, and of the apen sand and to the as \n",
            "save was \n",
            "None \n",
            "\n",
            "[234.70628595352173 (600 12%) 1.8477]\n",
            "When the \n",
            "ir now a \n",
            "have \n",
            "seen can it loof. 'We \n",
            "wimh seem the \n",
            "wile all as \n",
            "for and wher \n",
            "whar seen \n",
            "None \n",
            "\n",
            "[312.40771770477295 (800 16%) 1.9726]\n",
            "Wher had was and \n",
            "the shore hay the rome wat and the hear \n",
            "said \n",
            "and her came will sending the had li\n",
            "None \n",
            "\n",
            "[389.9103515148163 (1000 20%) 1.6372]\n",
            "Wh r a or an and for a \n",
            "and of the \n",
            "said; 'bot the wind had came the Elaness spore the come and the d\n",
            "None \n",
            "\n",
            "[466.83579301834106 (1200 24%) 1.4350]\n",
            "Wher the ford have great and and \n",
            "the side and vith the \n",
            "the gate and forst to the come sore the wind\n",
            "None \n",
            "\n",
            "[543.7331745624542 (1400 28%) 1.6040]\n",
            "Whar ere about not of yought the old for the have have allest the Braming leaghing could that Ride,' \n",
            "None \n",
            "\n",
            "[621.7358040809631 (1600 32%) 1.5458]\n",
            "Wher back and the \n",
            "the Compers and \n",
            "bit them the far in the plead light. Some down of the sand of the\n",
            "None \n",
            "\n",
            "[698.3034484386444 (1800 36%) 1.4945]\n",
            "Where the silen were of to the told and the blant least the gross the tome to stood and site and you \n",
            "None \n",
            "\n",
            "[775.0785245895386 (2000 40%) 1.7208]\n",
            "Whi \n",
            "said Aragorn, and he to be \n",
            "that is not you might the begold \n",
            "that his in his forgeth the near d\n",
            "None \n",
            "\n",
            "[851.1522064208984 (2200 44%) 1.5730]\n",
            "What \n",
            "that his tries, as desires of the Tood that was it and the Eats, swirring ret of the \n",
            "The comes\n",
            "None \n",
            "\n",
            "[928.1203911304474 (2400 48%) 1.6847]\n",
            "Whar passed. 'Who long the tume out on the went \n",
            "to as had my Bithout to my will be san of \n",
            "them \n",
            "rou\n",
            "None \n",
            "\n",
            "[1003.6294820308685 (2600 52%) 1.6086]\n",
            "When the oursed to the fees of the \n",
            "heart with a stare in think as folk of \n",
            "the had showed and refece\n",
            "None \n",
            "\n",
            "[1081.2025797367096 (2800 56%) 1.5437]\n",
            "Wher he dack \n",
            "for the din his guess, walk the song for stord have almost passed had good left of your\n",
            "None \n",
            "\n",
            "[1157.5899307727814 (3000 60%) 1.6428]\n",
            "When the streak, and the count of the holden a land. \n",
            "\n",
            "At they \n",
            "passed and fire the minst the singed \n",
            "None \n",
            "\n",
            "[1235.628849029541 (3200 64%) 1.5338]\n",
            "Whit bring of the as were on the than with the darkness and it was to de-paintly were not, \n",
            "for the w\n",
            "None \n",
            "\n",
            "[1312.0565757751465 (3400 68%) 1.3563]\n",
            "Whar you have were still to Him of the woods of the was \n",
            "to be to the worder of the hurrow. The \n",
            "door\n",
            "None \n",
            "\n",
            "[1391.2241051197052 (3600 72%) 1.3439]\n",
            "Whan the hunts were all high and could be it. \n",
            "\n",
            "Frodo east for the black and as of \n",
            "the shadows above\n",
            "None \n",
            "\n",
            "[1467.6309344768524 (3800 76%) 1.4932]\n",
            "When a side words stroke and looking the treemed in his found of the morning and stroked the trees of\n",
            "None \n",
            "\n",
            "[1544.0618181228638 (4000 80%) 1.4928]\n",
            "Whan his \n",
            "down to the ruins of the dark and since and may seemed and made on the forse, not and was w\n",
            "None \n",
            "\n",
            "[1620.6216404438019 (4200 84%) 1.4709]\n",
            "Whet all the Rown to the night of the Surstain to be near the stair. But he was befort the sight in t\n",
            "None \n",
            "\n",
            "[1698.6740064620972 (4400 88%) 1.4615]\n",
            "Where in the morning and pleent been of the fain \n",
            "and and \n",
            "shadows of the \n",
            "white and and \n",
            "down \n",
            "of th\n",
            "None \n",
            "\n",
            "[1775.406744003296 (4600 92%) 1.8584]\n",
            "Where we shadow of one of fire of the sound of away. \n",
            "\n",
            "'I have burneth here of the fire, and filles w\n",
            "None \n",
            "\n",
            "[1853.1483058929443 (4800 96%) 1.6376]\n",
            "Whin an and upon the wind of the hold of the stapped in deep away the very found the end, and the wor\n",
            "None \n",
            "\n",
            "[1930.623664855957 (5000 100%) 1.3830]\n",
            "Whet the things of the dark streast him, and the plains of the \n",
            "even from a land come the \n",
            "moment \n",
            "in\n",
            "None \n",
            "\n"
          ]
        }
      ]
    },
    {
      "cell_type": "code",
      "metadata": {
        "colab": {
          "base_uri": "https://localhost:8080/",
          "height": 265
        },
        "id": "0JBQmrMIjr4o",
        "outputId": "88b92df9-cef8-47dd-d791-1fe8530e2fd3"
      },
      "source": [
        "#a, b = zip(*validations)\n",
        "import matplotlib.pyplot as plt\n",
        "plt.plot(all_losses, label='train')\n",
        "#plt.plot(a, b, label='val')\n",
        "plt.legend()\n",
        "plt.show()"
      ],
      "execution_count": null,
      "outputs": [
        {
          "data": {
            "image/png": "[encoded data removed]",
            "text/plain": [
              "<Figure size 432x288 with 1 Axes>"
            ]
          },
          "metadata": {},
          "output_type": "display_data"
        }
      ]
    },
    {
      "cell_type": "code",
      "metadata": {
        "colab": {
          "base_uri": "https://localhost:8080/"
        },
        "id": "Ee0so6aKJ5L8",
        "outputId": "d4e5fc50-89c2-4a81-c83e-7c215f137a7e"
      },
      "source": [
        "# lowest loss achieved: 1.1849\n",
        "# need to hit < 1 for decent performance\n",
        "for i in range(10):\n",
        "  start_strings = [\" Th\", \" wh\", \" he\", \" I \", \" ca\", \" G\", \" lo\", \" ra\"]\n",
        "  start = random.randint(0,len(start_strings)-1)\n",
        "  print(start_strings[start])\n",
        "#   all_characters.index(string[c])\n",
        "  print(evaluate(start_strings[start], 200), '\\n')"
      ],
      "execution_count": null,
      "outputs": [
        {
          "name": "stdout",
          "output_type": "stream",
          "text": [
            " lo\n",
            " loog Gandalf being spile me and his \n",
            "shall \n",
            "the great my a revining an one he laughters of \n",
            "the Ores to Arvainge of the brange to be seemed any tham the shall the Griders of the rassing to his forge b\n",
            "None \n",
            "\n",
            " he\n",
            " he said to now for a have seem was go lives. Now a while a seemeds stains of his with they wind and been it was still the night and like they was being far longs and the grown forget silen of \n",
            "fell th\n",
            "None \n",
            "\n",
            " I \n",
            " I sas would of when a was every from the red shire. Pippin to field to him hand. If long seemed it him, and a fear of the hope the \n",
            "triend his that while the pitched have seemed the shall light long w\n",
            "None \n",
            "\n",
            " ra\n",
            " ran the \n",
            "would the road on his horse fillow. I fating and was a was a come as it will of the same them, that he will the tirm. \n",
            "\n",
            "Gandring any \n",
            "to seem. And hy \n",
            "lass for the rassone. Me not side to the\n",
            "None \n",
            "\n",
            " lo\n",
            " long. It would stirning of the for the pring. \n",
            "\n",
            "'What have the redouse the plane the rexiled the woods, and the shall for it he said Men for were he saw come seet has shome to his now wold down his su\n",
            "None \n",
            "\n",
            " I \n",
            " I sood be see and for his move a mountour and he red not stand him had no seemed the last some and \n",
            "was to the dark in were him, and stone it was rome of the been \n",
            "who of the could go don't many begon\n",
            "None \n",
            "\n",
            " ca\n",
            " cate of the would at the come to his many to mistly of the Great them see of the Went that his have seemed, and \n",
            "the draince of the mounten the \n",
            "will of the hourre but has on the stard then the road a\n",
            "None \n",
            "\n",
            " ca\n",
            " came of the for the fear. The flowed to \n",
            "\n",
            "him were a find the May the forth falled like the Morder in the \n",
            "stapped any reasing with the words, the below the stered to the more the way he said. 'I sun \n",
            "None \n",
            "\n",
            " Th\n",
            " The thought mespel in the \n",
            "half. They crow and the Shalled in the Horman with a great should, with the home and be that he saw the shorce with the road windows in the \n",
            "was even his even going \n",
            "have ba\n",
            "None \n",
            "\n",
            " ra\n",
            " rac heard again. You hands. \n",
            "\n",
            "'I still he was \n",
            "his last his beat they to glow them.' \n",
            "\n",
            "'I way clown \n",
            "the rised it up any speen the \n",
            "himself to the will quing' said the shot Sam and the fell on the \n",
            "hi\n",
            "None \n",
            "\n"
          ]
        }
      ]
    },
    {
      "cell_type": "markdown",
      "metadata": {
        "id": "YJhgDc2IauPE"
      },
      "source": [
        "---\n",
        "\n",
        "## Part 6: Generate output on a different dataset\n",
        "\n",
        "---\n",
        "\n",
        "**TODO:**\n",
        "\n",
        "* Choose a textual dataset. Here are some [text datasets](https://www.kaggle.com/datasets?tags=14104-text+data%2C13205-text+mining) from Kaggle \n",
        "\n",
        "* Generate some decent looking results and evaluate your model's performance (say what it did well / not so well)\n",
        "\n",
        "**DONE:**\n",
        "* Choose a textual dataset. Here are some [text datasets](https://www.kaggle.com/datasets?tags=14104-text+data%2C13205-text+mining) from Kaggle \n",
        "\n",
        "* Generate some decent looking results and evaluate your model's performance (say what it did well / not so well)\n"
      ]
    },
    {
      "cell_type": "code",
      "metadata": {
        "colab": {
          "base_uri": "https://localhost:8080/"
        },
        "id": "jVYrSJJWHtU9",
        "outputId": "07b2c025-aef4-4b4f-cdf1-85a8c1822535"
      },
      "source": [
        "file = unidecode.unidecode(open('./text_files/alma.txt').read())\n",
        "file_len = len(file)\n",
        "print('file_len =', file_len)"
      ],
      "execution_count": 80,
      "outputs": [
        {
          "output_type": "stream",
          "name": "stdout",
          "text": [
            "file_len = 466656\n"
          ]
        }
      ]
    },
    {
      "cell_type": "code",
      "metadata": {
        "colab": {
          "base_uri": "https://localhost:8080/"
        },
        "id": "cHxaoEquIP5a",
        "outputId": "0abd415c-5181-4340-d3d4-0805e2218326"
      },
      "source": [
        "chunk_len = 200\n",
        " \n",
        "def random_chunk():\n",
        "  start_index = random.randint(0, file_len - chunk_len)\n",
        "  end_index = start_index + chunk_len + 1\n",
        "  return file[start_index:end_index]\n",
        "  \n",
        "print(random_chunk())"
      ],
      "execution_count": 81,
      "outputs": [
        {
          "output_type": "stream",
          "name": "stdout",
          "text": [
            "ther they were overtaken by Antipus we knew not, but I said unto my men: Behold, we know not but they have halted for the purpose that we should come against them, that they might catch us in their sna\n"
          ]
        }
      ]
    },
    {
      "cell_type": "code",
      "metadata": {
        "id": "UMyTyqNqIQoJ"
      },
      "source": [
        ""
      ],
      "execution_count": null,
      "outputs": []
    },
    {
      "cell_type": "code",
      "metadata": {
        "id": "0qLX2lHv82tw"
      },
      "source": [
        "import time\n",
        "n_epochs = 5000\n",
        "print_every = 600\n",
        "plot_every = 10\n",
        "hidden_size = 200\n",
        "n_layers = 3\n",
        "lr = 0.001\n",
        " \n",
        "decoder = RNN(n_characters, hidden_size, n_characters, n_layers)\n",
        "decoder_optimizer = torch.optim.Adam(decoder.parameters(), lr=lr)\n",
        "criterion = nn.CrossEntropyLoss()\n",
        "#print('decoder_hidden: ')\n",
        " \n",
        "start = time.time()\n",
        "all_losses = []\n",
        "loss_avg = 0"
      ],
      "execution_count": 85,
      "outputs": []
    },
    {
      "cell_type": "code",
      "metadata": {
        "colab": {
          "base_uri": "https://localhost:8080/"
        },
        "id": "to0dRgJHHij3",
        "outputId": "ea6f31e4-bcff-4406-a60c-d2f8a756de04"
      },
      "source": [
        "# n_epochs = 2000\n",
        "for epoch in range(1, n_epochs + 1):\n",
        "  loss_ = train(*random_training_set())       \n",
        "  loss_avg += loss_\n",
        "\n",
        "  if epoch % print_every == 0:\n",
        "      print('[%s (%d %d%%) %.4f]' % (time.time() - start, epoch, epoch / n_epochs * 100, loss_))\n",
        "      print(evaluate('Wh', 100), '\\n')\n",
        "\n",
        "  if epoch % plot_every == 0:\n",
        "      all_losses.append(loss_avg / plot_every)\n",
        "      loss_avg = 0"
      ],
      "execution_count": 86,
      "outputs": [
        {
          "output_type": "stream",
          "name": "stdout",
          "text": [
            "[235.3774597644806 (600 12%) 1.9241]\n",
            "Whe deartion all seep the land to the Lamanites, and by the land of beerating and also the borle to t\n",
            "None \n",
            "\n",
            "[468.800372838974 (1200 24%) 0.9799]\n",
            "Wher had been became among the land of Moroni were said the Lold bethrents of the men of his brithers\n",
            "None \n",
            "\n",
            "[702.4737682342529 (1800 36%) 1.1555]\n",
            "Wher bethren which they were had anto the Nephites and thou hand of Amulek and his brethren unto the \n",
            "None \n",
            "\n",
            "[935.723762512207 (2400 48%) 1.2376]\n",
            "Whes people to the earth, if the Lamanites and their commanded the confulation, and they were sealed \n",
            "None \n",
            "\n",
            "[1168.2617464065552 (3000 60%) 1.0519]\n",
            "Whill know the sin of the wilderness, and those whom all the spirit of the land of Amulek to destruct\n",
            "None \n",
            "\n",
            "[1400.7751903533936 (3600 72%) 0.7921]\n",
            "Whill do not deent unto me down to be brethren, and they say them, and the day of the borth of the re\n",
            "None \n",
            "\n",
            "[1634.09024477005 (4200 84%) 1.1087]\n",
            "What astentions of the farom of the land.\n",
            "\n",
            " And thus we have for the south of the city of rightly did\n",
            "None \n",
            "\n",
            "[1867.7111508846283 (4800 96%) 1.1704]\n",
            "Whords, behold, when he should be said unto the gare of year of the land of years and the land of Mor\n",
            "None \n",
            "\n"
          ]
        }
      ]
    },
    {
      "cell_type": "code",
      "metadata": {
        "colab": {
          "base_uri": "https://localhost:8080/"
        },
        "id": "0hWep23qQVY1",
        "outputId": "6a166147-50dd-450f-a436-1d004ccef242"
      },
      "source": [
        "string_list = ['An', 'B', 'Th', 'F', 'At', 'Be', 'K', 'W', 'Z', 'Su', 'Tr', 'M', 'N', 'O', 'P']\n",
        "for i in range(1, 16):\n",
        "  prime_str = string_list[i-1]\n",
        "  generated_sentence = evaluate(prime_str, 200) \n",
        "  print('{} ({}): {}'.format(i, prime_str, generated_sentence))"
      ],
      "execution_count": 89,
      "outputs": [
        {
          "output_type": "stream",
          "name": "stdout",
          "text": [
            "1 (An): And they said unto the men of the hearts of the land of Zarahemnances, and they brethren, and they had spoken unto them who were the word of Ammon and also the land of Zarahemla, to the church.\n",
            "\n",
            " And t\n",
            "2 (B): B lek with attent therefore the people of Nephi.\n",
            "\n",
            " And they was a time get them that they might slay in the true of his men therefore they did came to pass that this things that they are no more who we\n",
            "3 (Th): The sacred out of the war and therefore, now, the Lamanites can our manner of the judges of the judges.\n",
            "\n",
            " And now behold, they did not that they shall not on the church, and with the judges, and are no\n",
            "4 (F): Fore--\n",
            "\n",
            " And now it came to pass that the for they went the wilderness of their fathers and strangence.\n",
            "\n",
            " And thus they are not the state were with the band of the servants of the Lamanites, and also s\n",
            "5 (At): Ath the church, by the judges over the city of Manous, and his people of the take antance of their prisoners, and our hand into the same which had received up unto the land of Zarahemla, and sent to ma\n",
            "6 (Be): Behold, ye have cated unto repentance.\n",
            "\n",
            " And it came to pass that they shall received their will not all the wilderness that they have destroyed, which he would distrueth unto the great shanner of the \n",
            "7 (K): K the death year of the judges.\n",
            "\n",
            " And it came to pass that their being life these will seast according to this were destroyed and preparted unto the hearts of the wert of the true of the river Sidon an\n",
            "8 (W): W his mortance of the land of Nephi was repent in the church which was for their armies, who were spoken that they were are land unto the land of Zarahemen, we would be the cause of the resurrection of\n",
            "9 (Z): Z the reign, in the spirits of the city and the word of the Lamanites should be no more, for they shall not suppose his men unto the land of Maron.\n",
            "\n",
            " And now it came to pass that they were commenced of\n",
            "10 (Su): Sunt the church which were from the church.\n",
            "\n",
            " And now, it was also every with his people.\n",
            "\n",
            " And it came to pass that these things which was not consion onter the land of Zarahemla, and because of the j\n",
            "11 (Tr): Troad of the people of Moroni was a surety the reign of the explets of the people of Moroni will not look and the hearts of the Lamanites, who were deliver unto the word of the ton the time who were al\n",
            "12 (M): M the Lord their wass bring the spirits of the justice in the cause of the cause of the judges of the holy spitiest.\n",
            "\n",
            " And Moroni with must that he who had many with their father, that they were all no\n",
            "13 (N): Nephi, and the reign of the plant of the rive of the people of Moroni to the take of your great end of the Lamanites shall be destroyed that they were preparated them from the land of Ammon and the com\n",
            "14 (O): O did not caused that they might that ye shall be the men of the wilderness of the wilderness of their fathers, in which was care their lands were come unto your into the land of Zarahemla, and the peo\n",
            "15 (P): Prthey were armies and his sprepart the judges of the Lord the wilderness which had faith and as believed that they murdered them for their arms and the church, and also that Moroni and their cappedien\n"
          ]
        }
      ]
    },
    {
      "cell_type": "markdown",
      "metadata": {
        "id": "yqS1cTceSgcj"
      },
      "source": [
        "It seems to me that the model does will given a starting string of something that it had seen before. This is evident by #6. It begins with \"Behold\" which I am sure occurs often in the text. However, I don't think that it can generalize very well. For example, there are many cases where it just prints out the letter that it's not used to seeing, and then will generate text unrelated."
      ]
    }
  ]
}