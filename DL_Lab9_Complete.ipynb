{
  "nbformat": 4,
  "nbformat_minor": 0,
  "metadata": {
    "colab": {
      "name": "DL_Lab9.ipynb",
      "provenance": [],
      "collapsed_sections": [
        "XAXHAUf3EEiE",
        "_K7F19SPQo6U",
        "9YLXvK51RnuL",
        "AHmjSVf_FNHv",
        "gPXJkNubFyY6",
        "iD45m3IwF9hh",
        "usQE-rSPZq_X",
        "IoA0tZZCa_1k",
        "8pa5vFJ5EUjv"
      ]
    },
    "kernelspec": {
      "display_name": "Python 3",
      "language": "python",
      "name": "python3"
    },
    "language_info": {
      "codemirror_mode": {
        "name": "ipython",
        "version": 3
      },
      "file_extension": ".py",
      "mimetype": "text/x-python",
      "name": "python",
      "nbconvert_exporter": "python",
      "pygments_lexer": "ipython3",
      "version": "3.7.1"
    },
    "accelerator": "GPU",
    "widgets": {
      "application/vnd.jupyter.widget-state+json": {
        "e74057e73b9c41749fa18ef2ae59647b": {
          "model_module": "@jupyter-widgets/controls",
          "model_name": "HBoxModel",
          "model_module_version": "1.5.0",
          "state": {
            "_view_name": "HBoxView",
            "_dom_classes": [],
            "_model_name": "HBoxModel",
            "_view_module": "@jupyter-widgets/controls",
            "_model_module_version": "1.5.0",
            "_view_count": null,
            "_view_module_version": "1.5.0",
            "box_style": "",
            "layout": "IPY_MODEL_ced9bfce7b9948d2bd26eb85974dbc2b",
            "_model_module": "@jupyter-widgets/controls",
            "children": [
              "IPY_MODEL_1e792d1e63bf404fb5d3060c09e3c162",
              "IPY_MODEL_bbb48801ed654bcb8142f750f96722ab",
              "IPY_MODEL_d4afdc1884a24c7eb34df12e09f78ab4"
            ]
          }
        },
        "ced9bfce7b9948d2bd26eb85974dbc2b": {
          "model_module": "@jupyter-widgets/base",
          "model_name": "LayoutModel",
          "model_module_version": "1.2.0",
          "state": {
            "_view_name": "LayoutView",
            "grid_template_rows": null,
            "right": null,
            "justify_content": null,
            "_view_module": "@jupyter-widgets/base",
            "overflow": null,
            "_model_module_version": "1.2.0",
            "_view_count": null,
            "flex_flow": null,
            "width": null,
            "min_width": null,
            "border": null,
            "align_items": null,
            "bottom": null,
            "_model_module": "@jupyter-widgets/base",
            "top": null,
            "grid_column": null,
            "overflow_y": null,
            "overflow_x": null,
            "grid_auto_flow": null,
            "grid_area": null,
            "grid_template_columns": null,
            "flex": null,
            "_model_name": "LayoutModel",
            "justify_items": null,
            "grid_row": null,
            "max_height": null,
            "align_content": null,
            "visibility": null,
            "align_self": null,
            "height": null,
            "min_height": null,
            "padding": null,
            "grid_auto_rows": null,
            "grid_gap": null,
            "max_width": null,
            "order": null,
            "_view_module_version": "1.2.0",
            "grid_template_areas": null,
            "object_position": null,
            "object_fit": null,
            "grid_auto_columns": null,
            "margin": null,
            "display": null,
            "left": null
          }
        },
        "1e792d1e63bf404fb5d3060c09e3c162": {
          "model_module": "@jupyter-widgets/controls",
          "model_name": "HTMLModel",
          "model_module_version": "1.5.0",
          "state": {
            "_view_name": "HTMLView",
            "style": "IPY_MODEL_96a495acc2dd47eea6da83d4d29a36f2",
            "_dom_classes": [],
            "description": "",
            "_model_name": "HTMLModel",
            "placeholder": "​",
            "_view_module": "@jupyter-widgets/controls",
            "_model_module_version": "1.5.0",
            "value": "100%",
            "_view_count": null,
            "_view_module_version": "1.5.0",
            "description_tooltip": null,
            "_model_module": "@jupyter-widgets/controls",
            "layout": "IPY_MODEL_73215fce02794857a6bbcbf0601443f6"
          }
        },
        "bbb48801ed654bcb8142f750f96722ab": {
          "model_module": "@jupyter-widgets/controls",
          "model_name": "FloatProgressModel",
          "model_module_version": "1.5.0",
          "state": {
            "_view_name": "ProgressView",
            "style": "IPY_MODEL_80186489cf0c4f2d82cf4c881583b36e",
            "_dom_classes": [],
            "description": "",
            "_model_name": "FloatProgressModel",
            "bar_style": "success",
            "max": 241627721,
            "_view_module": "@jupyter-widgets/controls",
            "_model_module_version": "1.5.0",
            "value": 241627721,
            "_view_count": null,
            "_view_module_version": "1.5.0",
            "orientation": "horizontal",
            "min": 0,
            "description_tooltip": null,
            "_model_module": "@jupyter-widgets/controls",
            "layout": "IPY_MODEL_c57f56365ba740c2a165f6f683e232ce"
          }
        },
        "d4afdc1884a24c7eb34df12e09f78ab4": {
          "model_module": "@jupyter-widgets/controls",
          "model_name": "HTMLModel",
          "model_module_version": "1.5.0",
          "state": {
            "_view_name": "HTMLView",
            "style": "IPY_MODEL_9662f3210a0440f688899c3ddbbad970",
            "_dom_classes": [],
            "description": "",
            "_model_name": "HTMLModel",
            "placeholder": "​",
            "_view_module": "@jupyter-widgets/controls",
            "_model_module_version": "1.5.0",
            "value": " 230M/230M [00:01&lt;00:00, 158MB/s]",
            "_view_count": null,
            "_view_module_version": "1.5.0",
            "description_tooltip": null,
            "_model_module": "@jupyter-widgets/controls",
            "layout": "IPY_MODEL_5f05cc6bd6bd4befaaa53779efa2870e"
          }
        },
        "96a495acc2dd47eea6da83d4d29a36f2": {
          "model_module": "@jupyter-widgets/controls",
          "model_name": "DescriptionStyleModel",
          "model_module_version": "1.5.0",
          "state": {
            "_view_name": "StyleView",
            "_model_name": "DescriptionStyleModel",
            "description_width": "",
            "_view_module": "@jupyter-widgets/base",
            "_model_module_version": "1.5.0",
            "_view_count": null,
            "_view_module_version": "1.2.0",
            "_model_module": "@jupyter-widgets/controls"
          }
        },
        "73215fce02794857a6bbcbf0601443f6": {
          "model_module": "@jupyter-widgets/base",
          "model_name": "LayoutModel",
          "model_module_version": "1.2.0",
          "state": {
            "_view_name": "LayoutView",
            "grid_template_rows": null,
            "right": null,
            "justify_content": null,
            "_view_module": "@jupyter-widgets/base",
            "overflow": null,
            "_model_module_version": "1.2.0",
            "_view_count": null,
            "flex_flow": null,
            "width": null,
            "min_width": null,
            "border": null,
            "align_items": null,
            "bottom": null,
            "_model_module": "@jupyter-widgets/base",
            "top": null,
            "grid_column": null,
            "overflow_y": null,
            "overflow_x": null,
            "grid_auto_flow": null,
            "grid_area": null,
            "grid_template_columns": null,
            "flex": null,
            "_model_name": "LayoutModel",
            "justify_items": null,
            "grid_row": null,
            "max_height": null,
            "align_content": null,
            "visibility": null,
            "align_self": null,
            "height": null,
            "min_height": null,
            "padding": null,
            "grid_auto_rows": null,
            "grid_gap": null,
            "max_width": null,
            "order": null,
            "_view_module_version": "1.2.0",
            "grid_template_areas": null,
            "object_position": null,
            "object_fit": null,
            "grid_auto_columns": null,
            "margin": null,
            "display": null,
            "left": null
          }
        },
        "80186489cf0c4f2d82cf4c881583b36e": {
          "model_module": "@jupyter-widgets/controls",
          "model_name": "ProgressStyleModel",
          "model_module_version": "1.5.0",
          "state": {
            "_view_name": "StyleView",
            "_model_name": "ProgressStyleModel",
            "description_width": "",
            "_view_module": "@jupyter-widgets/base",
            "_model_module_version": "1.5.0",
            "_view_count": null,
            "_view_module_version": "1.2.0",
            "bar_color": null,
            "_model_module": "@jupyter-widgets/controls"
          }
        },
        "c57f56365ba740c2a165f6f683e232ce": {
          "model_module": "@jupyter-widgets/base",
          "model_name": "LayoutModel",
          "model_module_version": "1.2.0",
          "state": {
            "_view_name": "LayoutView",
            "grid_template_rows": null,
            "right": null,
            "justify_content": null,
            "_view_module": "@jupyter-widgets/base",
            "overflow": null,
            "_model_module_version": "1.2.0",
            "_view_count": null,
            "flex_flow": null,
            "width": null,
            "min_width": null,
            "border": null,
            "align_items": null,
            "bottom": null,
            "_model_module": "@jupyter-widgets/base",
            "top": null,
            "grid_column": null,
            "overflow_y": null,
            "overflow_x": null,
            "grid_auto_flow": null,
            "grid_area": null,
            "grid_template_columns": null,
            "flex": null,
            "_model_name": "LayoutModel",
            "justify_items": null,
            "grid_row": null,
            "max_height": null,
            "align_content": null,
            "visibility": null,
            "align_self": null,
            "height": null,
            "min_height": null,
            "padding": null,
            "grid_auto_rows": null,
            "grid_gap": null,
            "max_width": null,
            "order": null,
            "_view_module_version": "1.2.0",
            "grid_template_areas": null,
            "object_position": null,
            "object_fit": null,
            "grid_auto_columns": null,
            "margin": null,
            "display": null,
            "left": null
          }
        },
        "9662f3210a0440f688899c3ddbbad970": {
          "model_module": "@jupyter-widgets/controls",
          "model_name": "DescriptionStyleModel",
          "model_module_version": "1.5.0",
          "state": {
            "_view_name": "StyleView",
            "_model_name": "DescriptionStyleModel",
            "description_width": "",
            "_view_module": "@jupyter-widgets/base",
            "_model_module_version": "1.5.0",
            "_view_count": null,
            "_view_module_version": "1.2.0",
            "_model_module": "@jupyter-widgets/controls"
          }
        },
        "5f05cc6bd6bd4befaaa53779efa2870e": {
          "model_module": "@jupyter-widgets/base",
          "model_name": "LayoutModel",
          "model_module_version": "1.2.0",
          "state": {
            "_view_name": "LayoutView",
            "grid_template_rows": null,
            "right": null,
            "justify_content": null,
            "_view_module": "@jupyter-widgets/base",
            "overflow": null,
            "_model_module_version": "1.2.0",
            "_view_count": null,
            "flex_flow": null,
            "width": null,
            "min_width": null,
            "border": null,
            "align_items": null,
            "bottom": null,
            "_model_module": "@jupyter-widgets/base",
            "top": null,
            "grid_column": null,
            "overflow_y": null,
            "overflow_x": null,
            "grid_auto_flow": null,
            "grid_area": null,
            "grid_template_columns": null,
            "flex": null,
            "_model_name": "LayoutModel",
            "justify_items": null,
            "grid_row": null,
            "max_height": null,
            "align_content": null,
            "visibility": null,
            "align_self": null,
            "height": null,
            "min_height": null,
            "padding": null,
            "grid_auto_rows": null,
            "grid_gap": null,
            "max_width": null,
            "order": null,
            "_view_module_version": "1.2.0",
            "grid_template_areas": null,
            "object_position": null,
            "object_fit": null,
            "grid_auto_columns": null,
            "margin": null,
            "display": null,
            "left": null
          }
        }
      }
    }
  },
  "cells": [
    {
      "cell_type": "markdown",
      "metadata": {
        "id": "rEwpv0GZ_CrT"
      },
      "source": [
        "<a \n",
        "href=\"https://colab.research.google.com/github/wingated/cs474_labs_f2019/blob/master/DL_Lab10.ipynb\"\n",
        "  target=\"_parent\">\n",
        "  <img\n",
        "    src=\"https://colab.research.google.com/assets/colab-badge.svg\"\n",
        "    alt=\"Open In Colab\"/>\n",
        "</a>"
      ]
    },
    {
      "cell_type": "markdown",
      "metadata": {
        "id": "xnoEhAVvBcMj"
      },
      "source": [
        "# Lab 9: Transfer Learning/Fine-Tuning"
      ]
    },
    {
      "cell_type": "markdown",
      "metadata": {
        "id": "sBOvJdJfkXIL"
      },
      "source": [
        "## Description"
      ]
    },
    {
      "cell_type": "markdown",
      "metadata": {
        "id": "GiuvTUWOjtBC"
      },
      "source": [
        "### Objective\n",
        "\n",
        "- Gain experience fine-tuning pre-trained models to domain-specific applications.\n",
        "\n",
        "### Deliverable\n",
        "\n",
        "For this lab you will submit an IPython notebook via Learning Suite. The bulk of the work is in modifying fine-tuning a pre-trained ResNet. Fine-tuning the GPT-2 language model is pretty easy. The provided code works as is; you will just have to swap in your own text dataset.\n",
        "\n",
        "### Grading\n",
        "\n",
        "- 35% Create a dataset class for your own dataset\n",
        "- 35% Create a network class that wraps a pretrained ResNet\n",
        "- 20% Implement unfreezing in the network class\n",
        "- 10% Fine-tune GPT-2 on your own dataset\n",
        "\n",
        "### Tips\n",
        "- Your life will be better if you download a dataset that already has the data in the expected format for ImageFolder (make sure to read the documentation!). The datasets recommended below are in the correct format.\n",
        "- Get the CNN working on the provided dataset (bird species classification) before swapping in your own.\n",
        "- For reference on freezing/unfreezing network weights, see [this github gist](https://gist.github.com/jcjohnson/6e41e8512c17eae5da50aebef3378a4c)\n",
        "- Check PyTorch's documentation to learn the difference between `requires_grad=False` and `requires_grad_(False)`.\n",
        "- For training GPT-2, first try the medium-size (355M parameter) model. If your Colab instance doesn't have enough GPU space, you may need to switch to the small-size (124M parameter) model, but the results will be less impressive."
      ]
    },
    {
      "cell_type": "code",
      "metadata": {
        "id": "dKzRORuLBNLR"
      },
      "source": [
        "from torchvision.models import resnet152\n",
        "from torchvision import transforms, datasets\n",
        "from torch.utils.data import DataLoader, Dataset, Subset\n",
        "import torch\n",
        "from torch import optim, nn\n",
        "import zipfile\n",
        "from google.colab import files\n",
        "import os\n",
        "import sys\n",
        "from PIL import Image, ImageOps\n",
        "from tqdm import tqdm\n",
        "import numpy as np\n",
        "from matplotlib import pyplot as plt"
      ],
      "execution_count": null,
      "outputs": []
    },
    {
      "cell_type": "markdown",
      "metadata": {
        "id": "S4R3D8Mr8b54"
      },
      "source": [
        "## 1 Fine-tune a ResNet for image classification"
      ]
    },
    {
      "cell_type": "markdown",
      "metadata": {
        "id": "kFoEeTYHDq2s"
      },
      "source": [
        "### 1.1 Find a dataset to fine-tune on, and make a Dataset class (1 hr.)"
      ]
    },
    {
      "cell_type": "markdown",
      "metadata": {
        "id": "7z6g7a_Y84n0"
      },
      "source": [
        "#### TODO:"
      ]
    },
    {
      "cell_type": "markdown",
      "metadata": {
        "id": "P8NtFZRd5hcm"
      },
      "source": [
        "- Inherit from torch.utils.data.Dataset\n",
        "- Use a [torchvision.datasets.ImageFolder](https://pytorch.org/docs/stable/torchvision/datasets.html#torchvision.datasets.ImageFolder)\n",
        "- Don't spend too long finding another dataset. Some suggestions that you are free to use:\n",
        " - https://www.kaggle.com/jessicali9530/stanford-dogs-dataset\n",
        " - https://www.kaggle.com/puneet6060/intel-image-classification\n"
      ]
    },
    {
      "cell_type": "markdown",
      "metadata": {
        "id": "TBigIUFTukeJ"
      },
      "source": [
        "#### Help for downloading kaggle datasets\n",
        "Downloading Kaggle datasets requires authentication, so you can't just download from a url. Here are some step-by-step instructions of how to get Kaggle datasets in Colab"
      ]
    },
    {
      "cell_type": "markdown",
      "metadata": {
        "id": "_X29UC6CvwfQ"
      },
      "source": [
        "1. Create an API key in Kaggle\n",
        "    - Click on profile photo\n",
        "    - Go to 'My Account'\n",
        "    - Scroll down to the API access section and click \"Create New API Token\"\n",
        "    - `kaggle.json` is now downloaded to your computer\n",
        "\n",
        "2. Upload the API key and install the Kaggle API client by running the next cell (run it again if it throws an error the first time). Also, `files.upload()` may not work in Firefox. One solution is to expand the Files banner (indicated by the '>' tab on the left side of the page) and use that to upload the key."
      ]
    },
    {
      "cell_type": "code",
      "metadata": {
        "colab": {
          "resources": {
            "http://localhost:8080/nbextensions/google.colab/files.js": {
              "data": "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",
              "ok": true,
              "headers": [
                [
                  "content-type",
                  "application/javascript"
                ]
              ],
              "status": 200,
              "status_text": ""
            }
          },
          "base_uri": "https://localhost:8080/",
          "height": 90
        },
        "id": "Mhjc0pM7jOoZ",
        "outputId": "1508a89e-13e1-40e4-915c-7c6a782953a4"
      },
      "source": [
        "# Run this cell and select the kaggle.json file downloaded\n",
        "# from the Kaggle account settings page.\n",
        "from google.colab import files\n",
        "files.upload()\n",
        "# Next, install the Kaggle API client.\n",
        "!pip install -q kaggle\n",
        "# Let's make sure the kaggle.json file is present.\n",
        "!ls -lha kaggle.json\n",
        "# The Kaggle API client expects this file to be in ~/.kaggle,\n",
        "# so move it there.\n",
        "!mkdir -p ~/.kaggle\n",
        "!mv kaggle.json ~/.kaggle/\n",
        "# This permissions change avoids a warning on Kaggle tool startup.\n",
        "!chmod 600 ~/.kaggle/kaggle.json"
      ],
      "execution_count": null,
      "outputs": [
        {
          "output_type": "display_data",
          "data": {
            "text/html": [
              "\n",
              "     <input type=\"file\" id=\"files-cc3c3d7b-e163-4a25-a92c-8695b4b911f8\" name=\"files[]\" multiple disabled\n",
              "        style=\"border:none\" />\n",
              "     <output id=\"result-cc3c3d7b-e163-4a25-a92c-8695b4b911f8\">\n",
              "      Upload widget is only available when the cell has been executed in the\n",
              "      current browser session. Please rerun this cell to enable.\n",
              "      </output>\n",
              "      <script src=\"/nbextensions/google.colab/files.js\"></script> "
            ],
            "text/plain": [
              "<IPython.core.display.HTML object>"
            ]
          },
          "metadata": {}
        },
        {
          "output_type": "stream",
          "name": "stdout",
          "text": [
            "Saving kaggle.json to kaggle.json\n",
            "-rw-r--r-- 1 root root 67 Nov  3 00:59 kaggle.json\n"
          ]
        }
      ]
    },
    {
      "cell_type": "markdown",
      "metadata": {
        "id": "AGlIa4SIwEXB"
      },
      "source": [
        "3. Copy the desired dataset locally"
      ]
    },
    {
      "cell_type": "code",
      "metadata": {
        "colab": {
          "base_uri": "https://localhost:8080/"
        },
        "id": "7HtB-XdIr1EE",
        "outputId": "25fe9ba6-4bf9-4e84-e6a4-acda7fa471d0"
      },
      "source": [
        "# Example download command for dataset found here: https://www.kaggle.com/akash2907/bird-species-classification\n",
        "!kaggle datasets download -d akash2907/bird-species-classification\n",
        "!kaggle datasets download -d puneet6060/intel-image-classification"
      ],
      "execution_count": null,
      "outputs": [
        {
          "output_type": "stream",
          "name": "stdout",
          "text": [
            "Downloading bird-species-classification.zip to /content\n",
            "100% 1.37G/1.37G [00:10<00:00, 159MB/s]\n",
            "100% 1.37G/1.37G [00:10<00:00, 146MB/s]\n",
            "Downloading intel-image-classification.zip to /content\n",
            " 99% 344M/346M [00:02<00:00, 168MB/s]\n",
            "100% 346M/346M [00:02<00:00, 147MB/s]\n"
          ]
        }
      ]
    },
    {
      "cell_type": "markdown",
      "metadata": {
        "id": "zcz0JGXjxFGe"
      },
      "source": [
        "#### Make the Dataset class\n",
        "See the implementation below for reference, and implement a dataset class for the dataset you choose."
      ]
    },
    {
      "cell_type": "code",
      "metadata": {
        "colab": {
          "base_uri": "https://localhost:8080/"
        },
        "id": "lthPlsGeK4CX",
        "outputId": "95faee4c-df2d-4ad6-c097-07aa07a0206f"
      },
      "source": [
        "class BirdDataset(Dataset):\n",
        "    def __init__(self, zip_file='bird-species-classification.zip', size=256, train=True, upload=False):\n",
        "        super(BirdDataset, self).__init__()\n",
        "        \n",
        "        self.train = train\n",
        "        extract_dir = os.path.splitext(zip_file)[0]\n",
        "        if not os.path.exists(extract_dir):\n",
        "            os.makedirs(extract_dir)\n",
        "            self.extract_zip(zip_file, extract_dir)\n",
        "            # Resize the images - originally they are high resolution. We could do this\n",
        "            # in the DataLoader, but it will read the full-resolution files from disk\n",
        "            # every time before resizing them, making training slow\n",
        "            self.resize(extract_dir, size=size)\n",
        "\n",
        "        postfix = 'train' if train else 'test'\n",
        "            \n",
        "        if train:\n",
        "            # The bird-species dataset mistakenly has a train_data folder inside of train_data\n",
        "            self.dataset_folder = datasets.ImageFolder(os.path.join(extract_dir, 'train_data', 'train_data'), transform=transforms.Compose([transforms.ToTensor()]))\n",
        "        else:\n",
        "            self.dataset_folder = datasets.ImageFolder(os.path.join(extract_dir, 'test_data', 'test_data'), transform=transforms.Compose([transforms.ToTensor()]))\n",
        "\n",
        "    def extract_zip(self, zip_file, extract_dir):\n",
        "        print(\"Extracting\", zip_file)\n",
        "        with zipfile.ZipFile(zip_file, 'r') as zip_ref:\n",
        "            zip_ref.extractall(extract_dir)\n",
        "\n",
        "    def resize(self, path, size=256):\n",
        "        \"\"\"Resizes all images in place\"\"\"\n",
        "        print(\"Resizing images\")\n",
        "        dirs = os.walk(path)\n",
        "        for root, dirs, files in os.walk(path):\n",
        "            for item in files:\n",
        "                name = os.path.join(root, item)\n",
        "                if os.path.isfile(name):\n",
        "                    im = Image.open(name)\n",
        "                    im = ImageOps.fit(im, (size, size))\n",
        "                    im.save(name[:-3] + 'bmp', 'BMP')\n",
        "                    os.remove(name)\n",
        "\n",
        "    def __getitem__(self, i):\n",
        "        return self.dataset_folder[i]\n",
        "\n",
        "    def __len__(self):\n",
        "        return len(self.dataset_folder)\n",
        "\n",
        "bird_data = BirdDataset()"
      ],
      "execution_count": null,
      "outputs": [
        {
          "output_type": "stream",
          "name": "stdout",
          "text": [
            "Extracting bird-species-classification.zip\n",
            "Resizing images\n"
          ]
        }
      ]
    },
    {
      "cell_type": "code",
      "metadata": {
        "id": "D1YTslFWKy1d"
      },
      "source": [
        "!rm -r stanford-dogs-dataset/"
      ],
      "execution_count": null,
      "outputs": []
    },
    {
      "cell_type": "code",
      "metadata": {
        "colab": {
          "base_uri": "https://localhost:8080/"
        },
        "id": "5jHFdToeDtIF",
        "outputId": "90c6e2c6-97bc-4110-bfea-e49a7158c930"
      },
      "source": [
        "#########################\n",
        "# Implement your own Dataset\n",
        "#########################\n",
        "class CustomDataset(Dataset):\n",
        "    def __init__(self, zip_file='intel-image-classification.zip', size=256, train=True, upload=False):\n",
        "        super(CustomDataset, self).__init__()\n",
        "        \n",
        "        self.train = train\n",
        "        extract_dir = os.path.splitext(zip_file)[0]\n",
        "        if not os.path.exists(extract_dir):\n",
        "            os.makedirs(extract_dir)\n",
        "            self.extract_zip(zip_file, extract_dir)\n",
        "            # Resize the images - originally they are high resolution. We could do this\n",
        "            # in the DataLoader, but it will read the full-resolution files from disk\n",
        "            # every time before resizing them, making training slow\n",
        "            self.resize(extract_dir, size=size)\n",
        "\n",
        "        postfix = 'train' if train else 'test'\n",
        "            \n",
        "        if train:\n",
        "            # The bird-species dataset mistakenly has a train_data folder inside of train_data\n",
        "            self.dataset_folder = datasets.ImageFolder(os.path.join(extract_dir, 'seg_train', 'seg_train'), transform=transforms.Compose([transforms.ToTensor()]))\n",
        "        else:\n",
        "            self.dataset_folder = datasets.ImageFolder(os.path.join(extract_dir, 'seg_test', 'seg_test'), transform=transforms.Compose([transforms.ToTensor()]))\n",
        "\n",
        "    def extract_zip(self, zip_file, extract_dir):\n",
        "        print(\"Extracting\", zip_file)\n",
        "        with zipfile.ZipFile(zip_file, 'r') as zip_ref:\n",
        "            zip_ref.extractall(extract_dir)\n",
        "\n",
        "    def resize(self, path, size=256):\n",
        "        \"\"\"Resizes all images in place\"\"\"\n",
        "        print(\"Resizing images\")\n",
        "        dirs = os.walk(path)\n",
        "        for root, dirs, files in os.walk(path):\n",
        "            for item in files:\n",
        "                name = os.path.join(root, item)\n",
        "                if os.path.isfile(name):\n",
        "                    im = Image.open(name)\n",
        "                    im = ImageOps.fit(im, (size, size))\n",
        "                    im.save(name[:-3] + 'bmp', 'BMP')\n",
        "                    os.remove(name)\n",
        "\n",
        "    def __getitem__(self, i):\n",
        "        return self.dataset_folder[i]\n",
        "\n",
        "    def __len__(self):\n",
        "        return len(self.dataset_folder)\n",
        "\n",
        "dog_data = CustomDataset()"
      ],
      "execution_count": null,
      "outputs": [
        {
          "output_type": "stream",
          "name": "stdout",
          "text": [
            "Extracting intel-image-classification.zip\n",
            "Resizing images\n"
          ]
        }
      ]
    },
    {
      "cell_type": "markdown",
      "metadata": {
        "id": "2vJVbYcAJAf2"
      },
      "source": [
        "### 1.2 Wrap a pretrained ResNet in an `nn.Module` (30 min)"
      ]
    },
    {
      "cell_type": "markdown",
      "metadata": {
        "id": "gMOzGDND9FD1"
      },
      "source": [
        "#### TODO:"
      ]
    },
    {
      "cell_type": "markdown",
      "metadata": {
        "id": "jLvmDHbl9IyG"
      },
      "source": [
        "- Make a model class that inherits from `nn.Module`\n",
        "- Wrap a pretrained ResNet and swap out the last layer of that network with a layer that maps to the number of classes in your new dataset"
      ]
    },
    {
      "cell_type": "markdown",
      "metadata": {
        "id": "eOtl8z8G9wbr"
      },
      "source": [
        "#### Make your model class"
      ]
    },
    {
      "cell_type": "code",
      "metadata": {
        "id": "AY-XU4Mwas0j"
      },
      "source": [
        "class CustomResNet(nn.Module):\n",
        "    def __init__(self, num_classes, start_frozen=False):\n",
        "        super(CustomResNet, self).__init__()\n",
        "\n",
        "        # Part 1.2\n",
        "        # Load the model - make sure it is pre-trained\n",
        "        self.model = resnet152(pretrained=True)\n",
        "        # Part 1.4\n",
        "        if start_frozen:\n",
        "          # Turn off all gradients of the resnet\n",
        "          #1+1\n",
        "          for param in self.model.parameters():\n",
        "            param.requires_grad = False\n",
        "        \n",
        "        # Part 1.2\n",
        "        # Look at the code of torchvision.models.resnet152 (or print the ResNet object) to find the name of the attribute to override (the last layer of the ResNet)\n",
        "        # Override the output linear layer of the neural network to map to the correct number of classes. Note that this new layer has requires_grad = True\n",
        "        #print(self.model.fc)\n",
        "        self.model.fc = nn.Linear(self.model.fc.in_features, num_classes)\n",
        "        for param in self.model.fc.parameters():\n",
        "          param.require_grad = True\n",
        "\n",
        "        pass\n",
        "        \n",
        "    def unfreeze(self, n_layers):\n",
        "        # Part 1.4\n",
        "        # Turn on gradients for the last n_layers\n",
        "        idx = 0\n",
        "        for param in reversed(list(self.model.parameters())):\n",
        "          #if idx > n_layers:\n",
        "          param.requires_grad = True\n",
        "          idx += 1\n",
        "          if idx >= n_layers * 2:\n",
        "            break\n",
        "        pass\n",
        "\n",
        "    def forward(self, x):\n",
        "        # Part 1.2\n",
        "        output = self.model(x)\n",
        "        # Pass x through the resnet\n",
        "        return output"
      ],
      "execution_count": null,
      "outputs": []
    },
    {
      "cell_type": "markdown",
      "metadata": {
        "id": "2Krh0eYy18R9"
      },
      "source": [
        "### 1.3 Read through and run this training loop"
      ]
    },
    {
      "cell_type": "code",
      "metadata": {
        "id": "yOGrrw2gbIPf"
      },
      "source": [
        "def accuracy(y_hat, y_truth):\n",
        "    \"\"\"Gets average accuracy of a vector of predictions\"\"\"\n",
        "    \n",
        "    preds = torch.argmax(y_hat, dim=1)\n",
        "    acc = torch.mean((preds == y_truth).float())\n",
        "    return acc\n",
        "\n",
        "def evaluate(model, objective, val_loader, device):\n",
        "    \"\"\"Gets average accuracy and loss for the validation set\"\"\"\n",
        "\n",
        "    val_losses = 0\n",
        "    val_accs = 0\n",
        "    batches = 0\n",
        "    # model.eval() so that batchnorm and dropout work in eval mode\n",
        "    model.eval()\n",
        "    # torch.no_grad() to turn off computation graph creation. This allows for temporal\n",
        "    # and spatial complexity improvements, which allows for larger validation batch \n",
        "    # sizes so it’s recommended\n",
        "    with torch.no_grad():\n",
        "        for x, y_truth in val_loader:\n",
        "            \n",
        "            batches += 1\n",
        "\n",
        "            x, y_truth = x.to(device), y_truth.to(device)\n",
        "            y_hat = model(x)\n",
        "            val_loss = objective(y_hat, y_truth)\n",
        "            val_acc = accuracy(y_hat, y_truth)\n",
        "\n",
        "            val_losses += val_loss.item()\n",
        "            val_accs += val_acc\n",
        "\n",
        "    model.train()\n",
        "\n",
        "    return val_losses/batches, val_accs/batches"
      ],
      "execution_count": null,
      "outputs": []
    },
    {
      "cell_type": "code",
      "metadata": {
        "id": "VKESMcKi2E_f"
      },
      "source": [
        "def train(start_frozen=False, model_unfreeze=0):\n",
        "    \"\"\"Fine-tunes a CNN\n",
        "    Args:\n",
        "        start_frozen (bool): whether to start with the network weights frozen.\n",
        "        model_unfreeze (int): the maximum number of network layers to unfreeze\n",
        "    \"\"\"\n",
        "    epochs = 10\n",
        "    # Start with a very low learning rate\n",
        "    lr = .00005\n",
        "    val_every = 3\n",
        "    num_classes = 16\n",
        "    batch_size = 64\n",
        "    device = torch.device('cuda:0')\n",
        "\n",
        "    # Data\n",
        "    # TODO: Use your own dataset\n",
        "    #train_dataset = BirdDataset(upload=True, train=True)\n",
        "    #val_dataset = BirdDataset(upload=True, train=False)\n",
        "    train_dataset = CustomDataset(upload=True, train=True)\n",
        "    val_dataset = CustomDataset(upload=True, train=False)\n",
        "    evens = list(range(0, len(train_dataset), 6))\n",
        "    evens2 = list(range(0, len(val_dataset), 6))\n",
        "    #odds = list(range(1, len(trainset), 2))\n",
        "\n",
        "    train_dataset = Subset(train_dataset, evens)\n",
        "    val_dataset = Subset(val_dataset, evens2)\n",
        "    print('td: ', train_dataset)\n",
        "    train_loader = DataLoader(train_dataset,\n",
        "                              shuffle=True,\n",
        "                              num_workers=8,\n",
        "                              batch_size=batch_size)\n",
        "    val_loader = DataLoader(val_dataset,\n",
        "                              shuffle=True,\n",
        "                              num_workers=8,\n",
        "                              batch_size=batch_size)\n",
        "    \n",
        "    # Model\n",
        "    model = CustomResNet(num_classes, start_frozen=start_frozen).to(device)\n",
        "    \n",
        "    # Objective\n",
        "    objective = nn.CrossEntropyLoss()\n",
        "    # Optimizer\n",
        "    optimizer = optim.Adam(model.parameters(), lr=lr, weight_decay=1e-1)\n",
        "\n",
        "    # Progress bar\n",
        "    pbar = tqdm(total=len(train_loader) * epochs)\n",
        "\n",
        "    train_losses = []\n",
        "    train_accs = []\n",
        "    val_losses = []\n",
        "    val_accs = []\n",
        "    \n",
        "    cnt = 0\n",
        "    unf_idx = 1\n",
        "    for epoch in range(epochs):\n",
        "\n",
        "        # Implement model unfreezing\n",
        "        if epoch < model_unfreeze:\n",
        "            # Part 1.4\n",
        "            # Unfreeze the last layers, one more each epoch\n",
        "            model.unfreeze(unf_idx)\n",
        "            unf_idx += 1\n",
        "            #pass\n",
        "        \n",
        "        for x, y_truth in train_loader:\n",
        "        \n",
        "            x, y_truth = x.to(device), y_truth.to(device)\n",
        "\n",
        "            optimizer.zero_grad()\n",
        "\n",
        "            y_hat = model(x)\n",
        "            train_loss = objective(y_hat, y_truth)\n",
        "            train_acc = accuracy(y_hat, y_truth)\n",
        "\n",
        "            train_loss.backward()\n",
        "            optimizer.step()\n",
        "\n",
        "            train_accs.append(train_acc)\n",
        "            train_losses.append(train_loss.item())\n",
        "\n",
        "            if cnt % val_every == 0:\n",
        "                val_loss, val_acc = evaluate(model, objective, val_loader, device)\n",
        "                val_losses.append(val_loss)\n",
        "                val_accs.append(val_acc)\n",
        "\n",
        "            pbar.set_description('epoch:{}, train loss:{:.4f}, train accuracy:{:.4f}, val accuracy:{:.4f}.'.format(epoch, train_loss.item(), train_acc, val_acc))\n",
        "            pbar.update(1)\n",
        "            cnt += 1\n",
        "\n",
        "    pbar.close()\n",
        "    plt.subplot(121)\n",
        "    plt.plot(np.arange(len(train_accs)), train_accs, label='Train Accuracy')\n",
        "    plt.plot(np.arange(len(train_accs), step=val_every), val_accs, label='Val Accuracy')\n",
        "    plt.legend()\n",
        "    plt.subplot(122)\n",
        "    plt.plot(np.arange(len(train_losses)), train_losses, label='Train Loss')\n",
        "    plt.plot(np.arange(len(train_losses), step=val_every), val_losses, label='Val Loss')\n",
        "    plt.legend()\n",
        "    plt.show()  "
      ],
      "execution_count": null,
      "outputs": []
    },
    {
      "cell_type": "code",
      "metadata": {
        "colab": {
          "base_uri": "https://localhost:8080/",
          "height": 436,
          "referenced_widgets": [
            "e74057e73b9c41749fa18ef2ae59647b",
            "ced9bfce7b9948d2bd26eb85974dbc2b",
            "1e792d1e63bf404fb5d3060c09e3c162",
            "bbb48801ed654bcb8142f750f96722ab",
            "d4afdc1884a24c7eb34df12e09f78ab4",
            "96a495acc2dd47eea6da83d4d29a36f2",
            "73215fce02794857a6bbcbf0601443f6",
            "80186489cf0c4f2d82cf4c881583b36e",
            "c57f56365ba740c2a165f6f683e232ce",
            "9662f3210a0440f688899c3ddbbad970",
            "5f05cc6bd6bd4befaaa53779efa2870e"
          ]
        },
        "id": "fvnxeLotchiH",
        "outputId": "60faa926-eaf2-4661-cf51-460db6906235"
      },
      "source": [
        "train(start_frozen=False, model_unfreeze=0)  "
      ],
      "execution_count": null,
      "outputs": [
        {
          "output_type": "stream",
          "name": "stdout",
          "text": [
            "td:  <torch.utils.data.dataset.Subset object at 0x7f182bcc0290>\n"
          ]
        },
        {
          "output_type": "stream",
          "name": "stderr",
          "text": [
            "/usr/local/lib/python3.7/dist-packages/torch/utils/data/dataloader.py:481: UserWarning: This DataLoader will create 8 worker processes in total. Our suggested max number of worker in current system is 2, which is smaller than what this DataLoader is going to create. Please be aware that excessive worker creation might get DataLoader running slow or even freeze, lower the worker number to avoid potential slowness/freeze if necessary.\n",
            "  cpuset_checked))\n",
            "Downloading: \"https://download.pytorch.org/models/resnet152-394f9c45.pth\" to /root/.cache/torch/hub/checkpoints/resnet152-394f9c45.pth\n"
          ]
        },
        {
          "output_type": "display_data",
          "data": {
            "application/vnd.jupyter.widget-view+json": {
              "model_id": "e74057e73b9c41749fa18ef2ae59647b",
              "version_minor": 0,
              "version_major": 2
            },
            "text/plain": [
              "  0%|          | 0.00/230M [00:00<?, ?B/s]"
            ]
          },
          "metadata": {}
        },
        {
          "output_type": "stream",
          "name": "stderr",
          "text": [
            "\r  0%|          | 0/370 [00:00<?, ?it/s]/usr/local/lib/python3.7/dist-packages/torch/nn/functional.py:718: UserWarning: Named tensors and all their associated APIs are an experimental feature and subject to change. Please do not use them for anything important until they are released as stable. (Triggered internally at  /pytorch/c10/core/TensorImpl.h:1156.)\n",
            "  return torch.max_pool2d(input, kernel_size, stride, padding, dilation, ceil_mode)\n",
            "epoch:9, train loss:0.0981, train accuracy:0.9714, val accuracy:0.8502.: 100%|██████████| 370/370 [13:40<00:00,  2.22s/it]\n"
          ]
        },
        {
          "output_type": "display_data",
          "data": {
            "image/png": "[encoded data removed]",
            "text/plain": [
              "<Figure size 432x288 with 2 Axes>"
            ]
          },
          "metadata": {
            "needs_background": "light"
          }
        }
      ]
    },
    {
      "cell_type": "markdown",
      "metadata": {
        "id": "aEDv_-H7BvM0"
      },
      "source": [
        "### 1.4 Implement Unfreezing (1 hr)"
      ]
    },
    {
      "cell_type": "markdown",
      "metadata": {
        "id": "YH5mQBaa-_0b"
      },
      "source": [
        "#### Description"
      ]
    },
    {
      "cell_type": "markdown",
      "metadata": {
        "id": "u_YmE1pe-6LF"
      },
      "source": [
        "Unfreezing is a technique that can be helpful when fine tuning a CNN for a more difficult task with a large amount of data.\n",
        "\n",
        "The idea is that if we allow the network to tweak the earliest layers immediately, before the last FCL has been trained at all, the earliest layers will forget all of the useful features that they learned in order  to provide features that are helpful for the (untrained) FCL.\n",
        "\n",
        "So, rather than training all of the model weights at once, we learn the last fully connected layer, then train that layer together with the second-to-last layer, gradually adding layers until we reach the first layer."
      ]
    },
    {
      "cell_type": "markdown",
      "metadata": {
        "id": "XMKRI77_-8nc"
      },
      "source": [
        "#### TODO:"
      ]
    },
    {
      "cell_type": "markdown",
      "metadata": {
        "id": "KaUc8BTYC1bz"
      },
      "source": [
        "- Modify your model's parameters by setting the `requires_grad` attributes to `False`. (but keep `requires_grad = True` for the last layer).\n",
        "- Add a member function to you model class that allows the user to unfreeze weights in the training loop. See [this github gist](https://gist.github.com/jcjohnson/6e41e8512c17eae5da50aebef3378a4c) for reference.\n",
        "- Modify your training loop to add logic that calls the `unfreeze` function of the model class: unfreeze one layer (a convolutional layer or linear layer, not the sequential or bottleneck layers) every epoch.\n",
        "- Call your train function to fine-tune the ResNet on your dataset."
      ]
    },
    {
      "cell_type": "markdown",
      "metadata": {
        "id": "qBT5jgifC7Im"
      },
      "source": [
        "#### Call your train function"
      ]
    },
    {
      "cell_type": "code",
      "metadata": {
        "colab": {
          "base_uri": "https://localhost:8080/",
          "height": 353
        },
        "id": "Mg9ySEO_BNDx",
        "outputId": "55fdbfe8-e401-4d3b-a4e4-53744367b5d7"
      },
      "source": [
        "############################\n",
        "# train with unfreezing here (should be a single call to your train function)\n",
        "############################\n",
        "train(start_frozen=True, model_unfreeze=5)  "
      ],
      "execution_count": null,
      "outputs": [
        {
          "output_type": "stream",
          "name": "stdout",
          "text": [
            "td:  <torch.utils.data.dataset.Subset object at 0x7f1927e3f510>\n"
          ]
        },
        {
          "output_type": "stream",
          "name": "stderr",
          "text": [
            "/usr/local/lib/python3.7/dist-packages/torch/utils/data/dataloader.py:481: UserWarning: This DataLoader will create 8 worker processes in total. Our suggested max number of worker in current system is 2, which is smaller than what this DataLoader is going to create. Please be aware that excessive worker creation might get DataLoader running slow or even freeze, lower the worker number to avoid potential slowness/freeze if necessary.\n",
            "  cpuset_checked))\n",
            "epoch:9, train loss:0.2701, train accuracy:0.9429, val accuracy:0.9001.: 100%|██████████| 370/370 [09:49<00:00,  1.59s/it]\n"
          ]
        },
        {
          "output_type": "display_data",
          "data": {
            "image/png": "[encoded data removed]",
            "text/plain": [
              "<Figure size 432x288 with 2 Axes>"
            ]
          },
          "metadata": {
            "needs_background": "light"
          }
        }
      ]
    },
    {
      "cell_type": "markdown",
      "metadata": {
        "id": "ZItH2lX7k4Yt"
      },
      "source": [
        "You may not see any improvement for your classification task, but unfreezing can help convergence for more difficult image classification tasks."
      ]
    },
    {
      "cell_type": "markdown",
      "metadata": {
        "id": "XAXHAUf3EEiE"
      },
      "source": [
        "## 2 Fine-tune a language model - (15 min)"
      ]
    },
    {
      "cell_type": "markdown",
      "metadata": {
        "id": "yu9usOxtjFHL"
      },
      "source": [
        "In this section you will use the gpt-2-simple package [here](https://github.com/minimaxir/gpt-2-simple) to fine-tune the GPT-2 language model on a domain of your choice."
      ]
    },
    {
      "cell_type": "markdown",
      "metadata": {
        "id": "_K7F19SPQo6U"
      },
      "source": [
        "### 2.1 Generate text from an the pretrained GPT-2 model"
      ]
    },
    {
      "cell_type": "markdown",
      "metadata": {
        "id": "9YLXvK51RnuL"
      },
      "source": [
        "#### Run this code to generate text from a pretrained model"
      ]
    },
    {
      "cell_type": "code",
      "metadata": {
        "colab": {
          "base_uri": "https://localhost:8080/"
        },
        "id": "WDNOb_H5IRvH",
        "outputId": "4636d2a4-1577-41fb-da06-80890d90ed41"
      },
      "source": [
        "!pip install gpt-2-simple\n",
        "\n",
        "# the transformers package is built on top of Tensorflow, and the default TF version \n",
        "# for Colab will soon switch to 2.x. We remedy this with the following magic method\n",
        "%tensorflow_version 1.x \n",
        "\n",
        "import gpt_2_simple as gpt2\n",
        "import os\n",
        "import tensorflow as tf"
      ],
      "execution_count": null,
      "outputs": [
        {
          "output_type": "stream",
          "name": "stdout",
          "text": [
            "Collecting gpt-2-simple\n",
            "  Downloading gpt_2_simple-0.8.1.tar.gz (26 kB)\n",
            "Requirement already satisfied: tensorflow>=2.5.1 in /usr/local/lib/python3.7/dist-packages (from gpt-2-simple) (2.6.0)\n",
            "Requirement already satisfied: regex in /usr/local/lib/python3.7/dist-packages (from gpt-2-simple) (2019.12.20)\n",
            "Requirement already satisfied: requests in /usr/local/lib/python3.7/dist-packages (from gpt-2-simple) (2.23.0)\n",
            "Requirement already satisfied: tqdm in /usr/local/lib/python3.7/dist-packages (from gpt-2-simple) (4.62.3)\n",
            "Requirement already satisfied: numpy in /usr/local/lib/python3.7/dist-packages (from gpt-2-simple) (1.19.5)\n",
            "Collecting toposort\n",
            "  Downloading toposort-1.7-py2.py3-none-any.whl (9.0 kB)\n",
            "Requirement already satisfied: protobuf>=3.9.2 in /usr/local/lib/python3.7/dist-packages (from tensorflow>=2.5.1->gpt-2-simple) (3.17.3)\n",
            "Requirement already satisfied: tensorflow-estimator~=2.6 in /usr/local/lib/python3.7/dist-packages (from tensorflow>=2.5.1->gpt-2-simple) (2.6.0)\n",
            "Requirement already satisfied: typing-extensions~=3.7.4 in /usr/local/lib/python3.7/dist-packages (from tensorflow>=2.5.1->gpt-2-simple) (3.7.4.3)\n",
            "Requirement already satisfied: termcolor~=1.1.0 in /usr/local/lib/python3.7/dist-packages (from tensorflow>=2.5.1->gpt-2-simple) (1.1.0)\n",
            "Requirement already satisfied: tensorboard~=2.6 in /usr/local/lib/python3.7/dist-packages (from tensorflow>=2.5.1->gpt-2-simple) (2.6.0)\n",
            "Requirement already satisfied: google-pasta~=0.2 in /usr/local/lib/python3.7/dist-packages (from tensorflow>=2.5.1->gpt-2-simple) (0.2.0)\n",
            "Requirement already satisfied: gast==0.4.0 in /usr/local/lib/python3.7/dist-packages (from tensorflow>=2.5.1->gpt-2-simple) (0.4.0)\n",
            "Requirement already satisfied: clang~=5.0 in /usr/local/lib/python3.7/dist-packages (from tensorflow>=2.5.1->gpt-2-simple) (5.0)\n",
            "Requirement already satisfied: h5py~=3.1.0 in /usr/local/lib/python3.7/dist-packages (from tensorflow>=2.5.1->gpt-2-simple) (3.1.0)\n",
            "Requirement already satisfied: astunparse~=1.6.3 in /usr/local/lib/python3.7/dist-packages (from tensorflow>=2.5.1->gpt-2-simple) (1.6.3)\n",
            "Requirement already satisfied: absl-py~=0.10 in /usr/local/lib/python3.7/dist-packages (from tensorflow>=2.5.1->gpt-2-simple) (0.12.0)\n",
            "Requirement already satisfied: keras-preprocessing~=1.1.2 in /usr/local/lib/python3.7/dist-packages (from tensorflow>=2.5.1->gpt-2-simple) (1.1.2)\n",
            "Requirement already satisfied: opt-einsum~=3.3.0 in /usr/local/lib/python3.7/dist-packages (from tensorflow>=2.5.1->gpt-2-simple) (3.3.0)\n",
            "Requirement already satisfied: flatbuffers~=1.12.0 in /usr/local/lib/python3.7/dist-packages (from tensorflow>=2.5.1->gpt-2-simple) (1.12)\n",
            "Requirement already satisfied: grpcio<2.0,>=1.37.0 in /usr/local/lib/python3.7/dist-packages (from tensorflow>=2.5.1->gpt-2-simple) (1.41.0)\n",
            "Requirement already satisfied: wrapt~=1.12.1 in /usr/local/lib/python3.7/dist-packages (from tensorflow>=2.5.1->gpt-2-simple) (1.12.1)\n",
            "Requirement already satisfied: wheel~=0.35 in /usr/local/lib/python3.7/dist-packages (from tensorflow>=2.5.1->gpt-2-simple) (0.37.0)\n",
            "Requirement already satisfied: keras~=2.6 in /usr/local/lib/python3.7/dist-packages (from tensorflow>=2.5.1->gpt-2-simple) (2.6.0)\n",
            "Requirement already satisfied: six~=1.15.0 in /usr/local/lib/python3.7/dist-packages (from tensorflow>=2.5.1->gpt-2-simple) (1.15.0)\n",
            "Requirement already satisfied: cached-property in /usr/local/lib/python3.7/dist-packages (from h5py~=3.1.0->tensorflow>=2.5.1->gpt-2-simple) (1.5.2)\n",
            "Requirement already satisfied: google-auth<2,>=1.6.3 in /usr/local/lib/python3.7/dist-packages (from tensorboard~=2.6->tensorflow>=2.5.1->gpt-2-simple) (1.35.0)\n",
            "Requirement already satisfied: werkzeug>=0.11.15 in /usr/local/lib/python3.7/dist-packages (from tensorboard~=2.6->tensorflow>=2.5.1->gpt-2-simple) (1.0.1)\n",
            "Requirement already satisfied: markdown>=2.6.8 in /usr/local/lib/python3.7/dist-packages (from tensorboard~=2.6->tensorflow>=2.5.1->gpt-2-simple) (3.3.4)\n",
            "Requirement already satisfied: google-auth-oauthlib<0.5,>=0.4.1 in /usr/local/lib/python3.7/dist-packages (from tensorboard~=2.6->tensorflow>=2.5.1->gpt-2-simple) (0.4.6)\n",
            "Requirement already satisfied: setuptools>=41.0.0 in /usr/local/lib/python3.7/dist-packages (from tensorboard~=2.6->tensorflow>=2.5.1->gpt-2-simple) (57.4.0)\n",
            "Requirement already satisfied: tensorboard-data-server<0.7.0,>=0.6.0 in /usr/local/lib/python3.7/dist-packages (from tensorboard~=2.6->tensorflow>=2.5.1->gpt-2-simple) (0.6.1)\n",
            "Requirement already satisfied: tensorboard-plugin-wit>=1.6.0 in /usr/local/lib/python3.7/dist-packages (from tensorboard~=2.6->tensorflow>=2.5.1->gpt-2-simple) (1.8.0)\n",
            "Requirement already satisfied: cachetools<5.0,>=2.0.0 in /usr/local/lib/python3.7/dist-packages (from google-auth<2,>=1.6.3->tensorboard~=2.6->tensorflow>=2.5.1->gpt-2-simple) (4.2.4)\n",
            "Requirement already satisfied: rsa<5,>=3.1.4 in /usr/local/lib/python3.7/dist-packages (from google-auth<2,>=1.6.3->tensorboard~=2.6->tensorflow>=2.5.1->gpt-2-simple) (4.7.2)\n",
            "Requirement already satisfied: pyasn1-modules>=0.2.1 in /usr/local/lib/python3.7/dist-packages (from google-auth<2,>=1.6.3->tensorboard~=2.6->tensorflow>=2.5.1->gpt-2-simple) (0.2.8)\n",
            "Requirement already satisfied: requests-oauthlib>=0.7.0 in /usr/local/lib/python3.7/dist-packages (from google-auth-oauthlib<0.5,>=0.4.1->tensorboard~=2.6->tensorflow>=2.5.1->gpt-2-simple) (1.3.0)\n",
            "Requirement already satisfied: importlib-metadata in /usr/local/lib/python3.7/dist-packages (from markdown>=2.6.8->tensorboard~=2.6->tensorflow>=2.5.1->gpt-2-simple) (4.8.1)\n",
            "Requirement already satisfied: pyasn1<0.5.0,>=0.4.6 in /usr/local/lib/python3.7/dist-packages (from pyasn1-modules>=0.2.1->google-auth<2,>=1.6.3->tensorboard~=2.6->tensorflow>=2.5.1->gpt-2-simple) (0.4.8)\n",
            "Requirement already satisfied: idna<3,>=2.5 in /usr/local/lib/python3.7/dist-packages (from requests->gpt-2-simple) (2.10)\n",
            "Requirement already satisfied: certifi>=2017.4.17 in /usr/local/lib/python3.7/dist-packages (from requests->gpt-2-simple) (2021.5.30)\n",
            "Requirement already satisfied: chardet<4,>=3.0.2 in /usr/local/lib/python3.7/dist-packages (from requests->gpt-2-simple) (3.0.4)\n",
            "Requirement already satisfied: urllib3!=1.25.0,!=1.25.1,<1.26,>=1.21.1 in /usr/local/lib/python3.7/dist-packages (from requests->gpt-2-simple) (1.24.3)\n",
            "Requirement already satisfied: oauthlib>=3.0.0 in /usr/local/lib/python3.7/dist-packages (from requests-oauthlib>=0.7.0->google-auth-oauthlib<0.5,>=0.4.1->tensorboard~=2.6->tensorflow>=2.5.1->gpt-2-simple) (3.1.1)\n",
            "Requirement already satisfied: zipp>=0.5 in /usr/local/lib/python3.7/dist-packages (from importlib-metadata->markdown>=2.6.8->tensorboard~=2.6->tensorflow>=2.5.1->gpt-2-simple) (3.6.0)\n",
            "Building wheels for collected packages: gpt-2-simple\n",
            "  Building wheel for gpt-2-simple (setup.py) ... \u001b[?25l\u001b[?25hdone\n",
            "  Created wheel for gpt-2-simple: filename=gpt_2_simple-0.8.1-py3-none-any.whl size=24576 sha256=7eb0be853c808146a643bb57184a620824143e580f4ad3c1cf146f0e3270f66b\n",
            "  Stored in directory: /root/.cache/pip/wheels/d6/89/8a/f5de6944286d1ac2658b0caa7eae3c8cda50f770cdc957217f\n",
            "Successfully built gpt-2-simple\n",
            "Installing collected packages: toposort, gpt-2-simple\n",
            "Successfully installed gpt-2-simple-0.8.1 toposort-1.7\n",
            "TensorFlow 1.x selected.\n",
            "WARNING:tensorflow:\n",
            "The TensorFlow contrib module will not be included in TensorFlow 2.0.\n",
            "For more information, please see:\n",
            "  * https://github.com/tensorflow/community/blob/master/rfcs/20180907-contrib-sunset.md\n",
            "  * https://github.com/tensorflow/addons\n",
            "  * https://github.com/tensorflow/io (for I/O related ops)\n",
            "If you depend on functionality not listed there, please file an issue.\n",
            "\n"
          ]
        }
      ]
    },
    {
      "cell_type": "code",
      "metadata": {
        "colab": {
          "base_uri": "https://localhost:8080/"
        },
        "id": "6aRJ-c9uRMOa",
        "outputId": "5114a313-76c9-498b-973e-ce5ce0cba0c0"
      },
      "source": [
        "# This line is necessary to be able to run a new tf session\n",
        "tf.reset_default_graph()\n",
        "# The medium-sized model. IF you run out of memory, try \"124M\" instead\n",
        "model_name = \"124M\"\n",
        "if not os.path.isdir(os.path.join(\"models\", model_name)):\n",
        "\tprint(f\"Downloading {model_name} model...\")\n",
        "\tgpt2.download_gpt2(model_name=model_name)   # model is saved into current directory under /models/124M/\n",
        "\n",
        "sess = gpt2.start_tf_sess()\n",
        "gpt2.load_gpt2(sess, model_name=model_name)\n",
        "gpt2.generate(sess, model_name=model_name)"
      ],
      "execution_count": null,
      "outputs": [
        {
          "output_type": "stream",
          "name": "stdout",
          "text": [
            "Downloading 124M model...\n"
          ]
        },
        {
          "output_type": "stream",
          "name": "stderr",
          "text": [
            "Fetching checkpoint: 1.05Mit [00:00, 650Mit/s]                                                      \n",
            "Fetching encoder.json: 1.05Mit [00:00, 1.54Mit/s]\n",
            "Fetching hparams.json: 1.05Mit [00:00, 790Mit/s]                                                    \n",
            "Fetching model.ckpt.data-00000-of-00001: 498Mit [00:48, 10.3Mit/s]\n",
            "Fetching model.ckpt.index: 1.05Mit [00:00, 706Mit/s]                                                \n",
            "Fetching model.ckpt.meta: 1.05Mit [00:00, 1.86Mit/s]\n",
            "Fetching vocab.bpe: 1.05Mit [00:00, 1.92Mit/s]\n"
          ]
        },
        {
          "output_type": "stream",
          "name": "stdout",
          "text": [
            "Loading pretrained model models/124M/model.ckpt\n",
            "INFO:tensorflow:Restoring parameters from models/124M/model.ckpt\n",
            "James and Alan were first introduced to each other in the early 1930s, when Alan was a special school teacher in Llandudno, Spain. James was a junior at the time and was watching him when he heard the news and was horrified at the sight of his boy.\n",
            "\n",
            "\"The news was shocking and he immediately called to say, 'My boy is dead',\" he says. \"He was in a wheelchair and had his hand over his face and he was thinking about how he could save his little girl.\"\n",
            "\n",
            "The couple were just two of more than 200 pupils at the school, where James and Alan were their first-ever pupils. James was an English teacher and Alan was a Spanish teacher. Their relationship was well-developed and they were both very close.\n",
            "\n",
            "But their relationship was a bit of a blip. James was a few years younger and Alan was considerably older.\n",
            "\n",
            "\"Alan was always kind to him and he always seemed to like James. He was a very good student and he loved his classmates,\" James says. \"That is a very common sign of friendship between people.\n",
            "\n",
            "\"He was very close with James and Alan. Alan was very helpful. They were very close in their personal lives and they knew each other very well.\n",
            "\n",
            "\"When we were children, when they were young people would act like little kids and if they were being watched, that was it.\n",
            "\n",
            "\"They were very very close. Alan was very good at reading and was very good at playing with his friends. You know, he was good at reading and he was very good at playing with his friends.\n",
            "\n",
            "\"I think we were very close. He was a pretty good teacher.\"\n",
            "\n",
            "James and Alan were well-liked and were very good friends. They were both very good and very good at reading and were very good at playing with their friends.\n",
            "\n",
            "Alan, a U.K. teacher, was a good friend but he was not very good at reading and was not very good at playing with his friends.\n",
            "\n",
            "\"I think that was the first time I ever noticed Alan was happy,\" James says.\n",
            "\n",
            "In a later investigation, the U.K. public health charity identified Alan as having a heart attack. He died at the age of 27.\n",
            "\n",
            "The family were shocked to learn of their news. James and Alan's friend, a Polish family friend, was found dead.\n",
            "\n",
            "James and Alan were also met by a British coroner and were found hanging from a tree. They were both taken to hospital.\n",
            "\n",
            "The Telegraph regrets not allowing the family to publish the evidence.\n",
            "\n",
            "The family are appealing to readers to submit their questions to the charity's helpline to let them know how they can help.\n",
            "\n",
            "The family have already received more than 24,000 letters - many of which have had no response - about their story.\n",
            "\n",
            "The foundation has also offered to share the evidence with the British Medical Association.\n",
            "\n",
            "A spokesman for the British Medical Association says: \"This case has raised important questions about the safety of children who are not receiving their own medical care. There are no known or suspected links between the health system and childhood obesity.\"<|endoftext|>She was a blonde bombshell, with a brilliant sense of humor and a weird sense of humor and a clever sense of humor. She was attracted to a handsome man, and always suspected he would love her. It was a short story, one of the more unusual ones in the book, and she hoped he would take an interest in her, and he did. She ended up getting pregnant and had to wait a year, until she was about six months pregnant.\n",
            "\n",
            "She was married to a man, and he was the most handsome man in town. She was also known as a bitch, but that one little detail you might not know about is that she had a boyfriend, and it was another one she had to hide behind.\n",
            "\n",
            "Their relationship ended when he died in 1991. He was very kind, and he was very happy for the last 25 years. She was very good at school, and she always liked to play sports, and she enjoyed playing with her little brother and her best friend. She was a good girl, and she loved her family and friends. He was a very kind man, and he never lost or changed anything.\n",
            "\n",
            "He always loved to talk about himself, and he loved woman, and he was always very happy. He was a great guy, and I can assure you that he was just a wonderful person.\n",
            "\n",
            "He became an alcoholic after he was hit by a bus in 1990. He was already out of control, and he made a lot of mistakes. He was a little depressed, so he wanted to start a new life, but he didn't. When he was sober, he was also a little troubled, but he had a sense of humor and a sense of humor. He was a very good person.<|endoftext|>I've recently visited the Rafflesia Restaurant.\n"
          ]
        }
      ]
    },
    {
      "cell_type": "markdown",
      "metadata": {
        "id": "AHmjSVf_FNHv"
      },
      "source": [
        "### 2.2 Download a text dataset"
      ]
    },
    {
      "cell_type": "markdown",
      "metadata": {
        "id": "gPXJkNubFyY6"
      },
      "source": [
        "#### TODO:"
      ]
    },
    {
      "cell_type": "markdown",
      "metadata": {
        "id": "KWkuRjbcFzwb"
      },
      "source": [
        "- Use the provided functions to download your own text dataset\n",
        "- [Project Gutenberg](https://www.gutenberg.org/) is a nice starting point for raw text corpora"
      ]
    },
    {
      "cell_type": "markdown",
      "metadata": {
        "id": "iD45m3IwF9hh"
      },
      "source": [
        "#### Download Dataset"
      ]
    },
    {
      "cell_type": "code",
      "metadata": {
        "colab": {
          "base_uri": "https://localhost:8080/"
        },
        "id": "ESltl2QM5nxw",
        "outputId": "da5819fa-5acf-4ab4-ec7a-46cb37ebfecc"
      },
      "source": [
        "import zipfile\n",
        "import os\n",
        "from torchvision import datasets\n",
        "\n",
        "def extract_zip(zip_path, remove_finished=True):\n",
        "    print('Extracting {}'.format(zip_path))\n",
        "    with zipfile.ZipFile(zip_path, 'r') as zip_ref:\n",
        "        zip_ref.extractall(zip_path.replace('.zip', ''))\n",
        "    if remove_finished:\n",
        "        os.remove(zip_path)\n",
        "\n",
        "def download_dataset(url, root='../data'):\n",
        "    if not os.path.exists(os.path.join(root, 'text')):\n",
        "        os.makedirs(os.path.join(root))\n",
        "        datasets.utils.download_url(url, root, 'text.zip', None)\n",
        "        extract_zip(os.path.join(root, 'text.zip'))\n",
        "    return os.path.join(root, 'text')\n",
        "\n",
        "##########################################\n",
        "# Set the url for your dataset here,\n",
        "# move the dataset to the desired location\n",
        "##########################################\n",
        "url = 'https://www.gutenberg.org/files/30/30.zip'\n",
        "url2 = 'https://www.gutenberg.org/files/11/11-0.zip'\n",
        "#download_dataset(url)\n",
        "download_dataset(url2)\n",
        "!mv /data/text/11-0.txt /data/text/alice.txt\n",
        "#!mv /data/text/30.txt /data/text/bible.txt\n",
        "#!ls ../data/text\n",
        "!ls ../data/text"
      ],
      "execution_count": null,
      "outputs": [
        {
          "output_type": "stream",
          "name": "stdout",
          "text": [
            "mv: cannot stat '/data/text/11-0.txt': No such file or directory\n",
            "alice.txt\n"
          ]
        }
      ]
    },
    {
      "cell_type": "markdown",
      "metadata": {
        "id": "usQE-rSPZq_X"
      },
      "source": [
        "### 2.3 Fine-tune GPT-2 on your own dataset"
      ]
    },
    {
      "cell_type": "markdown",
      "metadata": {
        "id": "IoA0tZZCa_1k"
      },
      "source": [
        "#### TODO:"
      ]
    },
    {
      "cell_type": "markdown",
      "metadata": {
        "id": "OoU6ML1mbgjP"
      },
      "source": [
        "- Swap out the dataset parameter with the path to your dataset"
      ]
    },
    {
      "cell_type": "markdown",
      "metadata": {
        "id": "8pa5vFJ5EUjv"
      },
      "source": [
        "#### Train on your dataset"
      ]
    },
    {
      "cell_type": "code",
      "metadata": {
        "colab": {
          "base_uri": "https://localhost:8080/"
        },
        "id": "WuQ5snl4LuS0",
        "outputId": "4e019ace-a58f-4ada-bb39-432243f65b7c"
      },
      "source": [
        "# This line is necessary to be able to run a new tf session if one has already been run\n",
        "tf.reset_default_graph()\n",
        "# Start a session\n",
        "sess = gpt2.start_tf_sess()\n",
        "# Fine tune `model_name` on `data`\n",
        "###################################\n",
        "# Swap out the `dataset` parameter with the path to your text dataset\n",
        "###################################\n",
        "gpt2.finetune(sess,\n",
        "              dataset='../data/text/alice.txt',\n",
        "              model_name=model_name,\n",
        "              restore_from='latest',\n",
        "              steps=500)   # steps is max number of training steps\n",
        "\n",
        "gpt2.generate(sess, run_name='run1')"
      ],
      "execution_count": null,
      "outputs": [
        {
          "output_type": "stream",
          "name": "stdout",
          "text": [
            "WARNING:tensorflow:From /usr/local/lib/python3.7/dist-packages/gpt_2_simple/src/sample.py:17: where (from tensorflow.python.ops.array_ops) is deprecated and will be removed in a future version.\n",
            "Instructions for updating:\n",
            "Use tf.where in 2.0, which has the same broadcast rule as np.where\n",
            "Loading checkpoint models/124M/model.ckpt\n",
            "INFO:tensorflow:Restoring parameters from models/124M/model.ckpt\n",
            "Loading dataset...\n"
          ]
        },
        {
          "output_type": "stream",
          "name": "stderr",
          "text": [
            "100%|██████████| 1/1 [00:00<00:00,  3.16it/s]\n"
          ]
        },
        {
          "output_type": "stream",
          "name": "stdout",
          "text": [
            "dataset has 49023 tokens\n",
            "Training...\n",
            "[1 | 7.87] loss=3.13 avg=3.13\n",
            "[2 | 9.12] loss=3.02 avg=3.08\n",
            "[3 | 10.38] loss=2.97 avg=3.04\n",
            "[4 | 11.63] loss=2.30 avg=2.85\n",
            "[5 | 12.88] loss=3.04 avg=2.89\n",
            "[6 | 14.14] loss=2.26 avg=2.78\n",
            "[7 | 15.39] loss=2.13 avg=2.69\n",
            "[8 | 16.64] loss=2.62 avg=2.68\n",
            "[9 | 17.90] loss=2.24 avg=2.63\n",
            "[10 | 19.15] loss=2.64 avg=2.63\n",
            "[11 | 20.40] loss=2.70 avg=2.64\n",
            "[12 | 21.65] loss=2.54 avg=2.63\n",
            "[13 | 22.90] loss=2.66 avg=2.63\n",
            "[14 | 24.14] loss=2.15 avg=2.59\n",
            "[15 | 25.39] loss=2.50 avg=2.59\n",
            "[16 | 26.64] loss=2.55 avg=2.58\n",
            "[17 | 27.89] loss=2.25 avg=2.56\n",
            "[18 | 29.14] loss=2.22 avg=2.54\n",
            "[19 | 30.39] loss=2.26 avg=2.53\n",
            "[20 | 31.64] loss=2.54 avg=2.53\n",
            "[21 | 32.88] loss=2.53 avg=2.53\n",
            "[22 | 34.13] loss=2.22 avg=2.51\n",
            "[23 | 35.38] loss=2.34 avg=2.50\n",
            "[24 | 36.63] loss=2.44 avg=2.50\n",
            "[25 | 37.88] loss=2.21 avg=2.49\n",
            "[26 | 39.13] loss=2.25 avg=2.48\n",
            "[27 | 40.37] loss=2.03 avg=2.46\n",
            "[28 | 41.62] loss=1.81 avg=2.43\n",
            "[29 | 42.87] loss=2.17 avg=2.42\n",
            "[30 | 44.12] loss=2.04 avg=2.41\n",
            "[31 | 45.37] loss=2.28 avg=2.40\n",
            "[32 | 46.62] loss=1.52 avg=2.37\n",
            "[33 | 47.86] loss=2.04 avg=2.36\n",
            "[34 | 49.11] loss=1.95 avg=2.34\n",
            "[35 | 50.36] loss=1.90 avg=2.33\n",
            "[36 | 51.61] loss=1.66 avg=2.31\n",
            "[37 | 52.86] loss=2.19 avg=2.30\n",
            "[38 | 54.12] loss=2.14 avg=2.30\n",
            "[39 | 55.37] loss=1.76 avg=2.28\n",
            "[40 | 56.62] loss=2.06 avg=2.27\n",
            "[41 | 57.88] loss=2.17 avg=2.27\n",
            "[42 | 59.12] loss=2.18 avg=2.27\n",
            "[43 | 60.37] loss=1.92 avg=2.26\n",
            "[44 | 61.62] loss=1.52 avg=2.24\n",
            "[45 | 62.86] loss=2.19 avg=2.24\n",
            "[46 | 64.11] loss=1.99 avg=2.23\n",
            "[47 | 65.36] loss=1.77 avg=2.22\n",
            "[48 | 66.60] loss=2.14 avg=2.22\n",
            "[49 | 67.85] loss=1.71 avg=2.20\n",
            "[50 | 69.10] loss=2.06 avg=2.20\n",
            "[51 | 70.35] loss=1.59 avg=2.18\n",
            "[52 | 71.60] loss=2.06 avg=2.18\n",
            "[53 | 72.85] loss=1.30 avg=2.16\n",
            "[54 | 74.10] loss=1.48 avg=2.14\n",
            "[55 | 75.34] loss=1.89 avg=2.14\n",
            "[56 | 76.59] loss=1.91 avg=2.13\n",
            "[57 | 77.84] loss=1.89 avg=2.13\n",
            "[58 | 79.08] loss=1.58 avg=2.11\n",
            "[59 | 80.33] loss=1.60 avg=2.10\n",
            "[60 | 81.58] loss=2.00 avg=2.10\n",
            "[61 | 82.83] loss=1.81 avg=2.09\n",
            "[62 | 84.07] loss=1.86 avg=2.09\n",
            "[63 | 85.32] loss=1.47 avg=2.08\n",
            "[64 | 86.57] loss=1.31 avg=2.06\n",
            "[65 | 87.82] loss=1.87 avg=2.06\n",
            "[66 | 89.07] loss=1.65 avg=2.05\n",
            "[67 | 90.32] loss=1.87 avg=2.04\n",
            "[68 | 91.57] loss=1.76 avg=2.04\n",
            "[69 | 92.82] loss=1.97 avg=2.04\n",
            "[70 | 94.06] loss=1.70 avg=2.03\n",
            "[71 | 95.31] loss=1.77 avg=2.02\n",
            "[72 | 96.56] loss=1.81 avg=2.02\n",
            "[73 | 97.81] loss=1.22 avg=2.01\n",
            "[74 | 99.06] loss=1.62 avg=2.00\n",
            "[75 | 100.31] loss=1.43 avg=1.99\n",
            "[76 | 101.55] loss=1.15 avg=1.97\n",
            "[77 | 102.79] loss=1.17 avg=1.96\n",
            "[78 | 104.05] loss=1.19 avg=1.94\n",
            "[79 | 105.29] loss=1.12 avg=1.93\n",
            "[80 | 106.53] loss=1.17 avg=1.91\n",
            "[81 | 107.79] loss=1.56 avg=1.91\n",
            "[82 | 109.04] loss=1.52 avg=1.90\n",
            "[83 | 110.30] loss=1.34 avg=1.89\n",
            "[84 | 111.54] loss=1.47 avg=1.88\n",
            "[85 | 112.79] loss=1.67 avg=1.88\n",
            "[86 | 114.05] loss=1.47 avg=1.87\n",
            "[87 | 115.29] loss=1.42 avg=1.86\n",
            "[88 | 116.54] loss=1.13 avg=1.85\n",
            "[89 | 117.78] loss=1.12 avg=1.84\n",
            "[90 | 119.03] loss=1.50 avg=1.83\n",
            "[91 | 120.28] loss=1.02 avg=1.82\n",
            "[92 | 121.52] loss=1.25 avg=1.81\n",
            "[93 | 122.77] loss=1.25 avg=1.80\n",
            "[94 | 124.02] loss=1.23 avg=1.79\n",
            "[95 | 125.27] loss=1.17 avg=1.78\n",
            "[96 | 126.52] loss=1.26 avg=1.77\n",
            "[97 | 127.77] loss=1.12 avg=1.76\n",
            "[98 | 129.02] loss=1.11 avg=1.75\n",
            "[99 | 130.28] loss=1.20 avg=1.74\n",
            "[100 | 131.52] loss=0.66 avg=1.73\n",
            "======== SAMPLE 1 ========\n",
            "ed to them, to tell them what she had heard, and she trembled in her bedsit, and she felt sure that it was all very well: “and yet, there goes the wonder, you know,” she remarked, “that you don’t quite understand. This child may have known nothing of magic. Why, perhaps she can tell _what_ _she_ did_ without _even_ a memory of it. Let’s take a closer look at the figure below;”\n",
            "\n",
            "“Yes, please think of it that way!” Alice exclaimed in a dream-—\n",
            "\n",
            "“And if she might explain it _just_!” said the Mouse, pointing to the\n",
            "Turtle.\n",
            "\n",
            "“If _you_ don’t understand it,” the Quadrille said in a subdued\n",
            "tone, “I don’t know what.”\n",
            "\n",
            "Alice felt that she had spoken too much, and began shaking, and felt a little nervous as she went on: it\n",
            "was likely to get the better of her soon enough, as there was so much to be said; so, after looking at\n",
            "herself till she looked down on the whole body, and looking at the feet, she\n",
            "felt that, _as_ as much as she could go back and undo her shoes, or undo her boots, and undo\n",
            "everything else, as long as she kept repeating the same mistake over and over, she was sure, “I am so tired\n",
            "\n",
            "“Of course I am, of course I am, I tell you!” And she looked up into the\n",
            "sea, as if her heart had a prize!\n",
            "\n",
            "There had been a Rabbit in Wonderland all her life, and a Lobster-Head in Wonderland, and\n",
            "a Rabbit’s Foot-Looker in Wonderland, who were you to open?”\n",
            "(It turned out that, as it waited in the railway carriages, you’d better let it alone, or\n",
            "it is impossible to get across to it.) Alice could only think of so many things\n",
            "that could have happened.\n",
            "\n",
            "First, she was obliged to turn into the side-way at the last moment; this made it\n",
            "much easier to see her; and secondly, the Knave had just said something very curious to her,\n",
            "which, being Alice’s first clue as to what had just occurred, she tried to\n",
            "explain it away by pointing out to it that it had a golden key, in part, as\n",
            "this curious writing implied, and it was at the end of the table next to it.\n",
            "\n",
            "Luckily for Alice, the key was in a box with an end of paper in it, and in the\n",
            "box was a golden key; so, when the Rabbit turned into the side-way, and the Knave\n",
            "went out of sight, Alice could easily have said “arrived at the door!” but, alas, she\n",
            "wouldn’t have been able: indeed, the door opened and left Alice with the\n",
            "key.\n",
            "\n",
            "Luckily, then, no one had tried to break into the house by the time the Rabbit came in, and\n",
            "set off to try and break in, and nobody really did try to get in, so\n",
            "there’s certainly no one to take the opportunity of shutting the door.\n",
            "\n",
            "However, as that was the only way through, the Knave was not in sight, so Alice\n",
            "was just as safe keeping the door closed, as possible: no one would have guessed\n",
            "that the door was exactly at the proper time, so, when they got out of the house, the Rabbit\n",
            "passed by easily again at first, only to leave off knocking, and, indeed, Alice was\n",
            "quite sure that the Knave would not let her in, and so, very soon, she got in without\n",
            "providing an escape route. “I _will_ however,” thought I might do,” she said,\n",
            "and went looking for the door with all my might, as the Owl would come out in a hurry.\n",
            "\n",
            "\n",
            "CHAPTER IV.\n",
            "A Visit to the Hatter’s Uglification\n",
            "\n",
            "\n",
            "How cunning was the Rabbit! How cunning he was! How cunning in getting in! (“I wish my hair was\n",
            "as white as goose-hair here,” thought Alice when she thought of the other way round)\n",
            "The Queen’s Hatter’s Uglification was beginning to look rather ridiculous. She put\n",
            "the key into the box, and waited.\n",
            "\n",
            "As soon as it opened the front door, it went in through the back door. There was\n",
            "one more person to enter this time, “a Crab,” Alice thought as she went in. She\n",
            "called out ‘Let’s go in!�\n",
            "\n",
            "[101 | 142.04] loss=1.03 avg=1.72\n",
            "[102 | 143.29] loss=1.11 avg=1.71\n",
            "[103 | 144.53] loss=0.89 avg=1.69\n",
            "[104 | 145.78] loss=1.23 avg=1.69\n",
            "[105 | 147.02] loss=1.02 avg=1.68\n",
            "[106 | 148.27] loss=0.85 avg=1.66\n",
            "[107 | 149.53] loss=1.15 avg=1.66\n",
            "[108 | 150.78] loss=0.92 avg=1.64\n",
            "[109 | 152.02] loss=1.13 avg=1.64\n",
            "[110 | 153.27] loss=1.06 avg=1.63\n",
            "[111 | 154.52] loss=0.92 avg=1.62\n",
            "[112 | 155.77] loss=1.01 avg=1.61\n",
            "[113 | 157.02] loss=0.76 avg=1.60\n",
            "[114 | 158.26] loss=1.18 avg=1.59\n",
            "[115 | 159.51] loss=0.69 avg=1.58\n",
            "[116 | 160.75] loss=0.81 avg=1.57\n",
            "[117 | 162.00] loss=0.72 avg=1.55\n",
            "[118 | 163.24] loss=0.68 avg=1.54\n",
            "[119 | 164.49] loss=0.63 avg=1.53\n",
            "[120 | 165.74] loss=0.75 avg=1.52\n",
            "[121 | 166.99] loss=0.83 avg=1.51\n",
            "[122 | 168.24] loss=0.80 avg=1.50\n",
            "[123 | 169.49] loss=0.72 avg=1.49\n",
            "[124 | 170.74] loss=0.57 avg=1.47\n",
            "[125 | 171.99] loss=1.05 avg=1.47\n",
            "[126 | 173.24] loss=0.58 avg=1.46\n",
            "[127 | 174.49] loss=0.51 avg=1.44\n",
            "[128 | 175.73] loss=0.90 avg=1.43\n",
            "[129 | 176.98] loss=0.51 avg=1.42\n",
            "[130 | 178.23] loss=0.60 avg=1.41\n",
            "[131 | 179.47] loss=0.64 avg=1.40\n",
            "[132 | 180.72] loss=0.70 avg=1.39\n",
            "[133 | 181.97] loss=0.67 avg=1.38\n",
            "[134 | 183.22] loss=0.56 avg=1.37\n",
            "[135 | 184.46] loss=0.61 avg=1.36\n",
            "[136 | 185.71] loss=0.48 avg=1.35\n",
            "[137 | 186.95] loss=0.59 avg=1.34\n",
            "[138 | 188.20] loss=0.37 avg=1.32\n",
            "[139 | 189.44] loss=0.60 avg=1.32\n",
            "[140 | 190.69] loss=0.49 avg=1.30\n",
            "[141 | 191.93] loss=0.57 avg=1.29\n",
            "[142 | 193.18] loss=0.61 avg=1.29\n",
            "[143 | 194.42] loss=0.61 avg=1.28\n",
            "[144 | 195.67] loss=0.48 avg=1.27\n",
            "[145 | 196.91] loss=0.44 avg=1.26\n",
            "[146 | 198.16] loss=0.50 avg=1.25\n",
            "[147 | 199.41] loss=0.48 avg=1.24\n",
            "[148 | 200.66] loss=0.36 avg=1.22\n",
            "[149 | 201.91] loss=0.43 avg=1.21\n",
            "[150 | 203.16] loss=0.37 avg=1.20\n",
            "[151 | 204.41] loss=0.45 avg=1.19\n",
            "[152 | 205.67] loss=0.30 avg=1.18\n",
            "[153 | 206.92] loss=0.56 avg=1.17\n",
            "[154 | 208.17] loss=0.57 avg=1.17\n",
            "[155 | 209.41] loss=0.35 avg=1.16\n",
            "[156 | 210.66] loss=0.29 avg=1.15\n",
            "[157 | 211.90] loss=0.29 avg=1.13\n",
            "[158 | 213.15] loss=0.34 avg=1.12\n",
            "[159 | 214.39] loss=0.37 avg=1.12\n",
            "[160 | 215.64] loss=0.35 avg=1.11\n",
            "[161 | 216.89] loss=0.27 avg=1.10\n",
            "[162 | 218.13] loss=0.30 avg=1.09\n",
            "[163 | 219.39] loss=0.34 avg=1.08\n",
            "[164 | 220.64] loss=0.26 avg=1.07\n",
            "[165 | 221.89] loss=0.43 avg=1.06\n",
            "[166 | 223.14] loss=0.47 avg=1.05\n",
            "[167 | 224.38] loss=0.48 avg=1.04\n",
            "[168 | 225.63] loss=0.23 avg=1.03\n",
            "[169 | 226.88] loss=0.36 avg=1.03\n",
            "[170 | 228.12] loss=0.26 avg=1.02\n",
            "[171 | 229.37] loss=0.24 avg=1.01\n",
            "[172 | 230.62] loss=0.36 avg=1.00\n",
            "[173 | 231.86] loss=0.17 avg=0.99\n",
            "[174 | 233.11] loss=0.31 avg=0.98\n",
            "[175 | 234.35] loss=0.11 avg=0.97\n",
            "[176 | 235.60] loss=0.34 avg=0.96\n",
            "[177 | 236.85] loss=0.33 avg=0.95\n",
            "[178 | 238.09] loss=0.16 avg=0.95\n",
            "[179 | 239.34] loss=0.24 avg=0.94\n",
            "[180 | 240.58] loss=0.20 avg=0.93\n",
            "[181 | 241.83] loss=0.25 avg=0.92\n",
            "[182 | 243.07] loss=0.22 avg=0.91\n",
            "[183 | 244.32] loss=0.16 avg=0.90\n",
            "[184 | 245.56] loss=0.19 avg=0.89\n",
            "[185 | 246.82] loss=0.25 avg=0.89\n",
            "[186 | 248.06] loss=0.27 avg=0.88\n",
            "[187 | 249.30] loss=0.20 avg=0.87\n",
            "[188 | 250.55] loss=0.18 avg=0.86\n",
            "[189 | 251.80] loss=0.20 avg=0.86\n",
            "[190 | 253.05] loss=0.23 avg=0.85\n",
            "[191 | 254.29] loss=0.19 avg=0.84\n",
            "[192 | 255.54] loss=0.21 avg=0.83\n",
            "[193 | 256.79] loss=0.13 avg=0.82\n",
            "[194 | 258.03] loss=0.17 avg=0.82\n",
            "[195 | 259.27] loss=0.13 avg=0.81\n",
            "[196 | 260.52] loss=0.19 avg=0.80\n",
            "[197 | 261.77] loss=0.17 avg=0.79\n",
            "[198 | 263.02] loss=0.18 avg=0.79\n",
            "[199 | 264.27] loss=0.14 avg=0.78\n",
            "[200 | 265.51] loss=0.11 avg=0.77\n",
            "======== SAMPLE 1 ========\n",
            "pillar\n",
            "\n",
            "\n",
            "“How fond it must be to you!” Alice whispered to herself as she watched the Queen, who was looking\n",
            "nailily at her as she spoke.\n",
            "\n",
            "“I thought you might like some of the flowers you’d like,” the Queen said,\n",
            "in a low, nervous voice, “as they are quite white; and the\n",
            "flaming-hot Pepper has no mirrors or pictures, but sits on a stick,\n",
            "and fans himself by means of one of his fiddles.”\n",
            "\n",
            "“But I’m not used to mirrors or pictures,” Alice remarked.\n",
            "\n",
            "“No, not really,” said the Queen. “They’re ugly, and they’re so hard to\n",
            "see, and so close off—and what if somebody saw them? And how\n",
            "uncomfortable would it be for somebody to stand near? You know you’ve got\n",
            "no particular defence against them,\n",
            "‘Because they’re so hard to see.’”\n",
            "\n",
            "“I’m not using them at all,” said Alice, who felt that there\n",
            "would be no doing what she was doing at all.\n",
            "\n",
            "“No, not really,” said the Queen.\n",
            "\n",
            "Alice felt that this remark was very important. She had not\n",
            "had a word with the other end of the Court till\n",
            "the Queen had gone, and there was an uneasy silence as the\n",
            "court was being made up of the heads of three different Kings, who\n",
            "began performing their knighthoods at once; the Queen, by\n",
            "passion, and half-expected a laugh; the King, by passion,\n",
            "wondered of new adventures, and argued the double game of poker.\n",
            "\n",
            "“A most curious plan,” the Queen remarked.\n",
            "\n",
            "“Would you tell me you invented it,” the Hatter said,\n",
            " ?\"(Have you?)”\n",
            "\n",
            "“I’ve tried it out,” said the King, “in a minute; and they\n",
            "reared the two little lobsters in the fire, and let them rest their\n",
            "forehead upon the top, and the rest of the topside was white. However,\n",
            "the Master went on, “You have got to have some sense, your\n",
            "tails it out, to do such a thing, the live lobsters would have sulked\n",
            "out completely from their bodies.”\n",
            "\n",
            "“I don’t believe it,” said the Hatter.\n",
            "\n",
            "“Come on, then,” said the March Hare, and went on in an impatient\n",
            "tone.\n",
            "\n",
            "“But you’re not using the White Matter, I _think_,” the Hatter began,\n",
            "  (though he had paused to consider this, as he did not think it\n",
            "important,) “because that would make the sides stand out a bit, and the\n",
            "floes would look good with the eyes.”\n",
            "\n",
            "“But how is it to be got dry?” the March Hare went on.\n",
            "\n",
            "“dry talk,” said the Hatter.\n",
            "\n",
            "“Talking, you see,” said the Hatter in an impatient tone,\n",
            "  (his tone marked”); “I don’t talk _quite_ dry enough.”\n",
            "\n",
            "“You’ll see that in your next book,” the Hatter said to the\n",
            "March Hare, (which the March Hare did not see coming),\n",
            "“you see?” The March Hare thought this over much clearer:\n",
            "things were going on better for him then he\n",
            "ever since his bite of mustard-Ground, and he was beginning to fancy that\n",
            "something was amiss in the constant stirring of the\n",
            "petals.\n",
            "\n",
            "“I’m glad it’s under control,” said the Hatter in an undertone;\n",
            "“at least it’s under control a little now,” he added in a tone of\n",
            "quiet.\n",
            "\n",
            "“What are _your_ reaction to it?” the March Hare asked.\n",
            "\n",
            "“Mine is,” said the Hatter, “jumping up and down, panting,\n",
            "shrieking, and saying, “I hope my tail doesn’t catch the way I’m going\n",
            "going!”\n",
            "\n",
            "“How do you like the way the way things are?” said Alice. (She had grown\n",
            "so used to the way the Dormouse treated her on the walkabout that she\n",
            "had forgotten to put her finger on the buttons on her coat hangers.)\n",
            "\n",
            "“Mine is a little\n",
            "\n",
            "[201 | 274.92] loss=0.11 avg=0.76\n",
            "[202 | 276.17] loss=0.13 avg=0.76\n",
            "[203 | 277.41] loss=0.19 avg=0.75\n",
            "[204 | 278.66] loss=0.13 avg=0.74\n",
            "[205 | 279.91] loss=0.18 avg=0.74\n",
            "[206 | 281.15] loss=0.15 avg=0.73\n",
            "[207 | 282.40] loss=0.15 avg=0.72\n",
            "[208 | 283.64] loss=0.12 avg=0.72\n",
            "[209 | 284.89] loss=0.15 avg=0.71\n",
            "[210 | 286.13] loss=0.11 avg=0.70\n",
            "[211 | 287.38] loss=0.11 avg=0.70\n",
            "[212 | 288.63] loss=0.17 avg=0.69\n",
            "[213 | 289.87] loss=0.13 avg=0.68\n",
            "[214 | 291.12] loss=0.13 avg=0.68\n",
            "[215 | 292.36] loss=0.16 avg=0.67\n",
            "[216 | 293.61] loss=0.09 avg=0.67\n",
            "[217 | 294.86] loss=0.14 avg=0.66\n",
            "[218 | 296.10] loss=0.17 avg=0.65\n",
            "[219 | 297.35] loss=0.13 avg=0.65\n",
            "[220 | 298.60] loss=0.08 avg=0.64\n",
            "[221 | 299.84] loss=0.08 avg=0.64\n",
            "[222 | 301.09] loss=0.10 avg=0.63\n",
            "[223 | 302.34] loss=0.09 avg=0.62\n",
            "[224 | 303.58] loss=0.11 avg=0.62\n",
            "[225 | 304.83] loss=0.10 avg=0.61\n",
            "[226 | 306.08] loss=0.16 avg=0.61\n",
            "[227 | 307.32] loss=0.09 avg=0.60\n",
            "[228 | 308.57] loss=0.09 avg=0.60\n",
            "[229 | 309.82] loss=0.09 avg=0.59\n",
            "[230 | 311.06] loss=0.08 avg=0.58\n",
            "[231 | 312.31] loss=0.11 avg=0.58\n",
            "[232 | 313.56] loss=0.08 avg=0.57\n",
            "[233 | 314.81] loss=0.09 avg=0.57\n",
            "[234 | 316.06] loss=0.09 avg=0.56\n",
            "[235 | 317.31] loss=0.10 avg=0.56\n",
            "[236 | 318.56] loss=0.10 avg=0.55\n",
            "[237 | 319.80] loss=0.10 avg=0.55\n",
            "[238 | 321.05] loss=0.11 avg=0.54\n",
            "[239 | 322.29] loss=0.08 avg=0.54\n",
            "[240 | 323.54] loss=0.09 avg=0.53\n",
            "[241 | 324.78] loss=0.09 avg=0.53\n",
            "[242 | 326.03] loss=0.08 avg=0.52\n",
            "[243 | 327.27] loss=0.09 avg=0.52\n",
            "[244 | 328.52] loss=0.09 avg=0.51\n",
            "[245 | 329.76] loss=0.11 avg=0.51\n",
            "[246 | 331.01] loss=0.09 avg=0.50\n",
            "[247 | 332.26] loss=0.08 avg=0.50\n",
            "[248 | 333.51] loss=0.06 avg=0.50\n",
            "[249 | 334.75] loss=0.09 avg=0.49\n",
            "[250 | 335.99] loss=0.08 avg=0.49\n",
            "[251 | 337.25] loss=0.08 avg=0.48\n",
            "[252 | 338.49] loss=0.07 avg=0.48\n",
            "[253 | 339.74] loss=0.07 avg=0.47\n",
            "[254 | 340.98] loss=0.07 avg=0.47\n",
            "[255 | 342.22] loss=0.09 avg=0.46\n",
            "[256 | 343.47] loss=0.09 avg=0.46\n",
            "[257 | 344.72] loss=0.07 avg=0.46\n",
            "[258 | 345.96] loss=0.09 avg=0.45\n",
            "[259 | 347.21] loss=0.06 avg=0.45\n",
            "[260 | 348.46] loss=0.09 avg=0.44\n",
            "[261 | 349.71] loss=0.07 avg=0.44\n",
            "[262 | 350.95] loss=0.07 avg=0.44\n",
            "[263 | 352.20] loss=0.09 avg=0.43\n",
            "[264 | 353.44] loss=0.06 avg=0.43\n",
            "[265 | 354.69] loss=0.06 avg=0.42\n",
            "[266 | 355.94] loss=0.08 avg=0.42\n",
            "[267 | 357.18] loss=0.07 avg=0.42\n",
            "[268 | 358.42] loss=0.07 avg=0.41\n",
            "[269 | 359.67] loss=0.06 avg=0.41\n",
            "[270 | 360.91] loss=0.07 avg=0.41\n",
            "[271 | 362.17] loss=0.07 avg=0.40\n",
            "[272 | 363.42] loss=0.07 avg=0.40\n",
            "[273 | 364.66] loss=0.07 avg=0.40\n",
            "[274 | 365.91] loss=0.09 avg=0.39\n",
            "[275 | 367.15] loss=0.08 avg=0.39\n",
            "[276 | 368.40] loss=0.07 avg=0.39\n",
            "[277 | 369.65] loss=0.08 avg=0.38\n",
            "[278 | 370.90] loss=0.06 avg=0.38\n",
            "[279 | 372.14] loss=0.08 avg=0.38\n",
            "[280 | 373.39] loss=0.07 avg=0.37\n",
            "[281 | 374.64] loss=0.08 avg=0.37\n",
            "[282 | 375.88] loss=0.06 avg=0.37\n",
            "[283 | 377.13] loss=0.08 avg=0.36\n",
            "[284 | 378.38] loss=0.07 avg=0.36\n",
            "[285 | 379.63] loss=0.08 avg=0.36\n",
            "[286 | 380.88] loss=0.07 avg=0.35\n",
            "[287 | 382.13] loss=0.08 avg=0.35\n",
            "[288 | 383.38] loss=0.10 avg=0.35\n",
            "[289 | 384.63] loss=0.06 avg=0.35\n",
            "[290 | 385.87] loss=0.05 avg=0.34\n",
            "[291 | 387.11] loss=0.05 avg=0.34\n",
            "[292 | 388.36] loss=0.06 avg=0.34\n",
            "[293 | 389.61] loss=0.09 avg=0.33\n",
            "[294 | 390.85] loss=0.07 avg=0.33\n",
            "[295 | 392.09] loss=0.07 avg=0.33\n",
            "[296 | 393.34] loss=0.07 avg=0.33\n",
            "[297 | 394.59] loss=0.06 avg=0.32\n",
            "[298 | 395.85] loss=0.07 avg=0.32\n",
            "[299 | 397.10] loss=0.07 avg=0.32\n",
            "[300 | 398.35] loss=0.06 avg=0.31\n",
            "======== SAMPLE 1 ========\n",
            " pleasure and all.”\n",
            "\n",
            "“Ahem!” said Alice loudly; “and here’s the deal:—you made me—\n",
            "     *     *     *     *     * *     * *    * *    * *    *   * *    *\n",
            "\n",
            "“What a delightful feeling!” said Alice, as she swam about,\n",
            "    * I could feel the hairs on Alice’s back,\n",
            " but they were too weak to do much harm, and nothing happened\n",
            "    *    *    *   \n",
            "   *    *    *    *    *    *    *\n",
            "\n",
            "*    *    *    *    *    *    * *    *    *    *\n",
            "\n",
            "\n",
            "\n",
            "\n",
            "CHAPTER II.\n",
            "\n",
            "\n",
            "How to Draw a Hole in a Stone\n",
            "\n",
            "\n",
            "“You must learn to draw,’” said the Serpent, “or you shall never get to Level\n",
            " again!”\n",
            "\n",
            "“You are quite right!” said Alice. ‘Drawing is the highest passion you\n",
            "can do!”\n",
            "\n",
            "“How often have you been to a court-yard?” the Serpent replied.\n",
            "\n",
            "“Never once had I been to a court-yard!” said Alice in a melancholy tone.\n",
            "\n",
            "“Never once have I been to a day-school!” the Serpent said with a sigh.\n",
            "\n",
            "“Never once have I been to a doctor!” said Alice.\n",
            "\n",
            "“And now your game,” the Serpent added very solemnly, “is—”\n",
            "\n",
            "“That’s the reason why I never went to a dance,” said Alice: “at least, I never\n",
            "went to a dance at all.”\n",
            "\n",
            "“Did you ever consider how much effort it would be to make a\n",
            "dance?” said the Caterpillar.\n",
            "\n",
            "“I never considered that much,” Alice replied very readily: “yet it seems to\n",
            "look into a dance.”\n",
            "\n",
            "“And that’s all that _is_ left of the _flower_,” said the Caterpillar.\n",
            "\n",
            "Alice was thoroughly occupied with this question, and, as the conversation went on so\n",
            "much of the Caterpillar was in the air, and the mouse was reading, and\n",
            "Alice did not at all like the state of the house—“housemaids”—\n",
            "\n",
            "“They have to be kept updated on everything,” said the Caterpillar.\n",
            "\n",
            "“That’s nothing to think of,” said Alice: “it is the moon that changes form.\n",
            "Then they’re off.”\n",
            "\n",
            "“How _can_ I have been off for such a month?” said the Caterpillar.\n",
            "\n",
            "“It _is_ a month,” said Alice: “and the changes make *it* grow *three sizes_ longer.\n",
            "Do you think I could manage?”\n",
            "\n",
            "“You might,” said the Caterpillar, “but you _must_ have\n",
            "had some kind of a sleep.”\n",
            "\n",
            "“Oh, I shouldn’t be pleased with _that!_” said Alice. “I must be\n",
            "getting about ten o’oths night-time.”\n",
            "\n",
            "“Are you dreaming?” said the Caterpillar. “You’re getting\n",
            "early to me, I _think_; I must be growing rapidly.”\n",
            "\n",
            "“It _is_ a good thing it is,” said Alice: “some of the changes\n",
            "make _very_ small _changes.”\n",
            "\n",
            "“But _what_ is the use of _growing _large?” said the Caterpillar.\n",
            "\n",
            "Alice looked very anxiously at the Caterpillar, who said in a low\n",
            "voice, “Deal.”\n",
            "\n",
            "“Well, _what_ is the use of _growing _large?” thought Alice. “I\n",
            "should like it a good deal, if I was you; but I _have_ to grow _only_\n",
            "_one size fits all. And I grow one size fits all.”\n",
            "\n",
            "“I _think_,” said the Caterpillar seriously, “that’s _not_ a good\n",
            "sense.”\n",
            "\n",
            "“Your\n",
            "\n",
            "[301 | 407.77] loss=0.08 avg=0.31\n",
            "[302 | 409.02] loss=0.08 avg=0.31\n",
            "[303 | 410.27] loss=0.06 avg=0.31\n",
            "[304 | 411.51] loss=0.07 avg=0.30\n",
            "[305 | 412.77] loss=0.05 avg=0.30\n",
            "[306 | 414.01] loss=0.08 avg=0.30\n",
            "[307 | 415.26] loss=0.08 avg=0.30\n",
            "[308 | 416.51] loss=0.07 avg=0.29\n",
            "[309 | 417.76] loss=0.07 avg=0.29\n",
            "[310 | 419.00] loss=0.08 avg=0.29\n",
            "[311 | 420.25] loss=0.07 avg=0.29\n",
            "[312 | 421.49] loss=0.05 avg=0.29\n",
            "[313 | 422.74] loss=0.09 avg=0.28\n",
            "[314 | 423.98] loss=0.05 avg=0.28\n",
            "[315 | 425.23] loss=0.07 avg=0.28\n",
            "[316 | 426.48] loss=0.05 avg=0.28\n",
            "[317 | 427.73] loss=0.05 avg=0.27\n",
            "[318 | 428.98] loss=0.07 avg=0.27\n",
            "[319 | 430.23] loss=0.07 avg=0.27\n",
            "[320 | 431.47] loss=0.05 avg=0.27\n",
            "[321 | 432.72] loss=0.08 avg=0.27\n",
            "[322 | 433.96] loss=0.05 avg=0.26\n",
            "[323 | 435.21] loss=0.06 avg=0.26\n",
            "[324 | 436.45] loss=0.07 avg=0.26\n",
            "[325 | 437.70] loss=0.06 avg=0.26\n",
            "[326 | 438.94] loss=0.05 avg=0.25\n",
            "[327 | 440.19] loss=0.08 avg=0.25\n",
            "[328 | 441.43] loss=0.04 avg=0.25\n",
            "[329 | 442.68] loss=0.06 avg=0.25\n",
            "[330 | 443.92] loss=0.07 avg=0.25\n",
            "[331 | 445.17] loss=0.06 avg=0.25\n",
            "[332 | 446.42] loss=0.07 avg=0.24\n",
            "[333 | 447.67] loss=0.07 avg=0.24\n",
            "[334 | 448.92] loss=0.05 avg=0.24\n",
            "[335 | 450.17] loss=0.08 avg=0.24\n",
            "[336 | 451.41] loss=0.06 avg=0.24\n",
            "[337 | 452.66] loss=0.05 avg=0.23\n",
            "[338 | 453.90] loss=0.05 avg=0.23\n",
            "[339 | 455.15] loss=0.06 avg=0.23\n",
            "[340 | 456.39] loss=0.06 avg=0.23\n",
            "[341 | 457.64] loss=0.05 avg=0.23\n",
            "[342 | 458.88] loss=0.05 avg=0.22\n",
            "[343 | 460.13] loss=0.06 avg=0.22\n",
            "[344 | 461.38] loss=0.06 avg=0.22\n",
            "[345 | 462.63] loss=0.05 avg=0.22\n",
            "[346 | 463.87] loss=0.06 avg=0.22\n",
            "[347 | 465.11] loss=0.05 avg=0.22\n",
            "[348 | 466.36] loss=0.07 avg=0.21\n",
            "[349 | 467.61] loss=0.05 avg=0.21\n",
            "[350 | 468.85] loss=0.05 avg=0.21\n",
            "[351 | 470.10] loss=0.04 avg=0.21\n",
            "[352 | 471.35] loss=0.07 avg=0.21\n",
            "[353 | 472.60] loss=0.04 avg=0.21\n",
            "[354 | 473.84] loss=0.05 avg=0.20\n",
            "[355 | 475.09] loss=0.05 avg=0.20\n",
            "[356 | 476.34] loss=0.06 avg=0.20\n",
            "[357 | 477.59] loss=0.05 avg=0.20\n",
            "[358 | 478.84] loss=0.07 avg=0.20\n",
            "[359 | 480.09] loss=0.05 avg=0.20\n",
            "[360 | 481.34] loss=0.05 avg=0.20\n",
            "[361 | 482.59] loss=0.05 avg=0.19\n",
            "[362 | 483.84] loss=0.05 avg=0.19\n",
            "[363 | 485.09] loss=0.04 avg=0.19\n",
            "[364 | 486.34] loss=0.05 avg=0.19\n",
            "[365 | 487.59] loss=0.05 avg=0.19\n",
            "[366 | 488.84] loss=0.05 avg=0.19\n",
            "[367 | 490.09] loss=0.05 avg=0.19\n",
            "[368 | 491.33] loss=0.06 avg=0.18\n",
            "[369 | 492.58] loss=0.04 avg=0.18\n",
            "[370 | 493.82] loss=0.05 avg=0.18\n",
            "[371 | 495.07] loss=0.06 avg=0.18\n",
            "[372 | 496.31] loss=0.05 avg=0.18\n",
            "[373 | 497.56] loss=0.06 avg=0.18\n",
            "[374 | 498.81] loss=0.05 avg=0.18\n",
            "[375 | 500.06] loss=0.06 avg=0.18\n",
            "[376 | 501.31] loss=0.05 avg=0.17\n",
            "[377 | 502.56] loss=0.06 avg=0.17\n",
            "[378 | 503.81] loss=0.06 avg=0.17\n",
            "[379 | 505.06] loss=0.05 avg=0.17\n",
            "[380 | 506.30] loss=0.06 avg=0.17\n",
            "[381 | 507.55] loss=0.05 avg=0.17\n",
            "[382 | 508.80] loss=0.05 avg=0.17\n",
            "[383 | 510.04] loss=0.05 avg=0.17\n",
            "[384 | 511.29] loss=0.06 avg=0.16\n",
            "[385 | 512.53] loss=0.05 avg=0.16\n",
            "[386 | 513.78] loss=0.05 avg=0.16\n",
            "[387 | 515.03] loss=0.06 avg=0.16\n",
            "[388 | 516.28] loss=0.05 avg=0.16\n",
            "[389 | 517.52] loss=0.05 avg=0.16\n",
            "[390 | 518.77] loss=0.05 avg=0.16\n",
            "[391 | 520.03] loss=0.05 avg=0.16\n",
            "[392 | 521.27] loss=0.04 avg=0.16\n",
            "[393 | 522.52] loss=0.05 avg=0.15\n",
            "[394 | 523.76] loss=0.04 avg=0.15\n",
            "[395 | 525.00] loss=0.05 avg=0.15\n",
            "[396 | 526.25] loss=0.05 avg=0.15\n",
            "[397 | 527.50] loss=0.05 avg=0.15\n",
            "[398 | 528.74] loss=0.05 avg=0.15\n",
            "[399 | 530.00] loss=0.05 avg=0.15\n",
            "[400 | 531.26] loss=0.05 avg=0.15\n",
            "======== SAMPLE 1 ========\n",
            ", it\n",
            "remained with her wherever she went, only that she went on again, and\n",
            "some of the other soldiers came along close by her, and treated her like friends.\n",
            "\n",
            "One of them was a Lancecarl, and was immediately put in\n",
            "parks with the rest of the party; the rest were Kings, and Queens;\n",
            "“Serpent,” one of the soldiers began, but said nothing, “others\n",
            "sit down and talk.”\n",
            "\n",
            "“What are _your_ name,” said Alice.\n",
            "\n",
            "“Serpent,” said the King.\n",
            "\n",
            "“I don’t know it,” said Alice.\n",
            "\n",
            "“Come on, then,” the King said, and went on with a kind of\n",
            "silence, for doors opened all round him—everywhere there was a Dormouse\n",
            "and a Broom, and every now and then a Cushion, and a Manger, and\n",
            "A Lice-box, and a Morang—everything seemed to have its turns and\n",
            "desires.\n",
            "\n",
            "“What are your uses,” said one of the sides of the hall; “diminish\n",
            "teacups,” noticing this.\n",
            "\n",
            "“What are your uses,” said the King, who seemed unconcerned with\n",
            "the important points; “as spectacles, making spectacles?”\n",
            "\n",
            "“What are your uses,” said the King, who seemed unable to\n",
            "answer these simple questions—\n",
            "\n",
            "“Wax, to glass,” said another of the sides. “I keep them in\n",
            "the armour-well I live at: they look so shiny, I\n",
            "won’t scratch them!”\n",
            "\n",
            "“Wax, to porpoise,” said another of the sides.\n",
            "\n",
            "“What are your uses,” said the King?”\n",
            "\n",
            "“What are your uses,” said the Lory?”\n",
            "\n",
            "“What are your uses,” said the Mouse?”\n",
            "\n",
            "“What are your uses,” said the March Hare?”\n",
            "\n",
            "“What are your uses,” said the March Hare?”\n",
            "\n",
            "“What are your restrictions,” the King said to the Dormouse?\n",
            "\n",
            "“What are your restrictions,” the King said to the Lory?\n",
            "\n",
            "“What are your restrictions,” said the March Hare?”\n",
            "\n",
            "The three capital letters were writing on the top of the glass—\n",
            "“DR, “D.”—and on the Cup of Coffee—”\n",
            "\n",
            "“DR, “‐”—what on earth are you?” said Alice.\n",
            "\n",
            "“I have read them,” said the Dormouse; “but they don’t\n",
            "begin with ‘_cup_ of_that_ffee_will_not_ begin with ‘_drink_that_drink’”?”\n",
            "\n",
            "“You can’t begin with ‘_cup_ of_that_cup_of_that_must_ it end with ‘_can_ I have some\n",
            "              ?” “Why, you cannot even begin with that, and\n",
            "don’t you know what to make of it?” said Alice.\n",
            "\n",
            "“I can make out nothing of it,” said the Dormouse, and looked at\n",
            "Alice.\n",
            "\n",
            "“She can’t make out anything else,” said Alice; “she can’t stop\n",
            "making out anything remarkable.”\n",
            "\n",
            "“How doth the little bird,” said the Dormouse, and looked\n",
            "at Alice.\n",
            "\n",
            "“It can’t be helped,” said Alice, an\n",
            "important air. “It’s a shill for the Queen.”\n",
            "\n",
            "“I advise you not to take the view,” said the Dormouse: and Alice was\n",
            "only too glad to do so.\n",
            "\n",
            "“A chinchilla will do,” said Alice, who was more than ready to\n",
            "agree.\n",
            "\n",
            "“Shall we try another of these,” said the Dormouse? “Two eggs, one of\n",
            "the four sizes permitted in the garden, and the other\n",
            "of the patterned type?”\n",
            "\n",
            "“Three,” said Alice, who always took a great interest\n",
            "in trysting new things and conjectures.\n",
            "\n",
            "“Four,” said the Dormouse.\n",
            "\n",
            "\n",
            "[401 | 540.48] loss=0.06 avg=0.15\n",
            "[402 | 541.73] loss=0.05 avg=0.15\n",
            "[403 | 542.98] loss=0.06 avg=0.14\n",
            "[404 | 544.23] loss=0.05 avg=0.14\n",
            "[405 | 545.47] loss=0.05 avg=0.14\n",
            "[406 | 546.71] loss=0.05 avg=0.14\n",
            "[407 | 547.96] loss=0.07 avg=0.14\n",
            "[408 | 549.20] loss=0.05 avg=0.14\n",
            "[409 | 550.45] loss=0.04 avg=0.14\n",
            "[410 | 551.70] loss=0.05 avg=0.14\n",
            "[411 | 552.95] loss=0.05 avg=0.14\n",
            "[412 | 554.20] loss=0.06 avg=0.14\n",
            "[413 | 555.45] loss=0.04 avg=0.14\n",
            "[414 | 556.69] loss=0.05 avg=0.13\n",
            "[415 | 557.93] loss=0.06 avg=0.13\n",
            "[416 | 559.18] loss=0.05 avg=0.13\n",
            "[417 | 560.43] loss=0.04 avg=0.13\n",
            "[418 | 561.67] loss=0.04 avg=0.13\n",
            "[419 | 562.92] loss=0.06 avg=0.13\n",
            "[420 | 564.17] loss=0.05 avg=0.13\n",
            "[421 | 565.42] loss=0.03 avg=0.13\n",
            "[422 | 566.66] loss=0.06 avg=0.13\n",
            "[423 | 567.92] loss=0.04 avg=0.13\n",
            "[424 | 569.17] loss=0.04 avg=0.13\n",
            "[425 | 570.42] loss=0.06 avg=0.13\n",
            "[426 | 571.66] loss=0.05 avg=0.12\n",
            "[427 | 572.91] loss=0.04 avg=0.12\n",
            "[428 | 574.16] loss=0.04 avg=0.12\n",
            "[429 | 575.41] loss=0.04 avg=0.12\n",
            "[430 | 576.66] loss=0.04 avg=0.12\n",
            "[431 | 577.91] loss=0.06 avg=0.12\n",
            "[432 | 579.15] loss=0.05 avg=0.12\n",
            "[433 | 580.40] loss=0.04 avg=0.12\n",
            "[434 | 581.65] loss=0.04 avg=0.12\n",
            "[435 | 582.90] loss=0.06 avg=0.12\n",
            "[436 | 584.14] loss=0.05 avg=0.12\n",
            "[437 | 585.39] loss=0.04 avg=0.12\n",
            "[438 | 586.64] loss=0.05 avg=0.12\n",
            "[439 | 587.89] loss=0.05 avg=0.11\n",
            "[440 | 589.14] loss=0.05 avg=0.11\n",
            "[441 | 590.39] loss=0.05 avg=0.11\n",
            "[442 | 591.63] loss=0.05 avg=0.11\n",
            "[443 | 592.88] loss=0.06 avg=0.11\n",
            "[444 | 594.12] loss=0.05 avg=0.11\n",
            "[445 | 595.37] loss=0.04 avg=0.11\n",
            "[446 | 596.61] loss=0.05 avg=0.11\n",
            "[447 | 597.86] loss=0.05 avg=0.11\n",
            "[448 | 599.10] loss=0.04 avg=0.11\n",
            "[449 | 600.35] loss=0.04 avg=0.11\n",
            "[450 | 601.59] loss=0.06 avg=0.11\n",
            "[451 | 602.84] loss=0.06 avg=0.11\n",
            "[452 | 604.09] loss=0.05 avg=0.11\n",
            "[453 | 605.34] loss=0.05 avg=0.11\n",
            "[454 | 606.58] loss=0.05 avg=0.11\n",
            "[455 | 607.82] loss=0.04 avg=0.11\n",
            "[456 | 609.07] loss=0.05 avg=0.10\n",
            "[457 | 610.31] loss=0.05 avg=0.10\n",
            "[458 | 611.56] loss=0.05 avg=0.10\n",
            "[459 | 612.81] loss=0.05 avg=0.10\n",
            "[460 | 614.05] loss=0.04 avg=0.10\n",
            "[461 | 615.30] loss=0.04 avg=0.10\n",
            "[462 | 616.54] loss=0.04 avg=0.10\n",
            "[463 | 617.78] loss=0.04 avg=0.10\n",
            "[464 | 619.03] loss=0.04 avg=0.10\n",
            "[465 | 620.28] loss=0.05 avg=0.10\n",
            "[466 | 621.52] loss=0.04 avg=0.10\n",
            "[467 | 622.77] loss=0.05 avg=0.10\n",
            "[468 | 624.01] loss=0.05 avg=0.10\n",
            "[469 | 625.26] loss=0.04 avg=0.10\n",
            "[470 | 626.51] loss=0.04 avg=0.10\n",
            "[471 | 627.75] loss=0.06 avg=0.10\n",
            "[472 | 629.00] loss=0.05 avg=0.10\n",
            "[473 | 630.24] loss=0.06 avg=0.10\n",
            "[474 | 631.48] loss=0.05 avg=0.09\n",
            "[475 | 632.73] loss=0.07 avg=0.09\n",
            "[476 | 633.98] loss=0.04 avg=0.09\n",
            "[477 | 635.23] loss=0.06 avg=0.09\n",
            "[478 | 636.48] loss=0.05 avg=0.09\n",
            "[479 | 637.72] loss=0.05 avg=0.09\n",
            "[480 | 638.97] loss=0.05 avg=0.09\n",
            "[481 | 640.22] loss=0.04 avg=0.09\n",
            "[482 | 641.47] loss=0.05 avg=0.09\n",
            "[483 | 642.71] loss=0.05 avg=0.09\n",
            "[484 | 643.96] loss=0.04 avg=0.09\n",
            "[485 | 645.21] loss=0.04 avg=0.09\n",
            "[486 | 646.45] loss=0.05 avg=0.09\n",
            "[487 | 647.69] loss=0.04 avg=0.09\n",
            "[488 | 648.94] loss=0.05 avg=0.09\n",
            "[489 | 650.19] loss=0.04 avg=0.09\n",
            "[490 | 651.43] loss=0.04 avg=0.09\n",
            "[491 | 652.68] loss=0.04 avg=0.09\n",
            "[492 | 653.93] loss=0.04 avg=0.09\n",
            "[493 | 655.18] loss=0.06 avg=0.09\n",
            "[494 | 656.42] loss=0.06 avg=0.09\n",
            "[495 | 657.67] loss=0.05 avg=0.09\n",
            "[496 | 658.92] loss=0.05 avg=0.09\n",
            "[497 | 660.17] loss=0.05 avg=0.09\n",
            "[498 | 661.42] loss=0.07 avg=0.08\n",
            "[499 | 662.67] loss=0.04 avg=0.08\n",
            "[500 | 663.92] loss=0.05 avg=0.08\n",
            "Saving checkpoint/run1/model-500\n",
            "“How dreadfully dull that is!” said Alice, a little timidly, but she knew that would not\n",
            "be an encouraging opinion. “I am very tired now, I know that;” and she went on\n",
            "saying more earnestly, “and that’s the reason you’re so fond of repeating it\n",
            "all the time you play croquet.”\n",
            "\n",
            "“Why, there’s no use in repeating it that often,” said the Gryphon: “it’s too\n",
            "long a time.”\n",
            "\n",
            "“Well, I’d only copied it once or twice as long as I’m able,” said Alice.\n",
            "\n",
            "“Then you’re to go to the Dormouse's,” the Gryphon replied: and very\n",
            "sadly, very sadly, began the March Hare.\n",
            "\n",
            "Alice was very glad to have been invited, and she\n",
            "began by saying to herself, “I’ve read in some\n",
            "history books that the first comers to the March Hare, and that\n",
            "is why I’m invited to join them.” However, the\n",
            "Horusgoe interrupted in a very sad voice, “Why, that was the\n",
            "beginning of our conversation.” “I’m afraid I can’t remember ever having heard\n",
            "that sort of thing done before.”\n",
            "\n",
            "“You’re to go back to your original plan,” said the Hatter: “will you join the\n",
            "March Hare dinner-course and live at the Dormouse’?”\n",
            "\n",
            "“I’d rather not,” said Alice; “let me alone!”\n",
            "\n",
            "“I’m afraid I can’t stand being alone,” said the Hatter: “however, I may\n",
            "go and get help from there.”\n",
            "\n",
            "“You’re to go and get help from there,” said the March Hare.\n",
            "\n",
            "“Of course I am,” said Alice: “and help of any sort is\n",
            "available anywhere.”\n",
            "\n",
            "“I can’t help it much,” said the Hatter: “I’m so used to being\n",
            "withing links to computers and sending them messages,\n",
            "that I’m almost too tired to use them.”\n",
            "\n",
            "“You’re not using up all your time!” pleaded the Hatter. “Do you\n",
            "take the computers seriously?”\n",
            "\n",
            "“I’m sure they are,” said Alice.\n",
            "\n",
            "“They are very important to me,” the Hatter went on.\n",
            "\n",
            "“They are my constant companion,” Alice said with some\n",
            "severity: “and they make me grow larger and larger.”\n",
            "\n",
            "“You make me grow larger and larger!” said the Hatter in a tone of great\n",
            "contempt.\n",
            "\n",
            "“Exactly so!” Alice replied in an angry tone, and was\n",
            "puzzled to the core by this remark.\n",
            "\n",
            "“Yes,” said the Hatter, “we used to eat at the Dormouse’—and it was\n",
            "sooo good—and now it’s only bread and wine!”\n",
            "\n",
            "“It was sooo good bread and wine,” said Alice; “it’s always a\n",
            "good thing when two different tastes meet.”\n",
            "\n",
            "“But it was only bread and wine,” said the Hatter,\n",
            "alternately swallowing up the Dormouse as he spoke: “why\n",
            "answeresto fall asleep at the eye?”\n",
            "\n",
            "“It was only bread and wine,” said Alice; “why,\n",
            "the Dormouse fills the morning with lessons and games.”\n",
            "\n",
            "“But about that oh dear thing about\n",
            "that oh-so-sweet-numb thing?” the Hatter asked.\n",
            "\n",
            "Alice: not in a hurry. “I’ll fetch the Dormouse as soon as\n",
            "I can!” she said in a melancholy tone.\n",
            "\n",
            "“But it was only bread and wine,” said the Hatter: “why,\n",
            "the Dormouse fills the morning with lessons and games.”\n",
            "\n",
            "“But about that oh-so-sweet-numb thing?” Alice asked.\n",
            "\n",
            "The Hatter blew on his trumpet, and repeated his name\n",
            "repeated: “Don’t say what you said about it.”\n",
            "\n",
            "“\n"
          ]
        }
      ]
    }
  ]
}