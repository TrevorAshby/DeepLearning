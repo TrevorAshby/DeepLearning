{
  "nbformat": 4,
  "nbformat_minor": 0,
  "metadata": {
    "accelerator": "GPU",
    "colab": {
      "name": "DL_Lab2.ipynb",
      "provenance": [],
      "collapsed_sections": []
    },
    "kernelspec": {
      "display_name": "Python 3",
      "language": "python",
      "name": "python3"
    },
    "language_info": {
      "codemirror_mode": {
        "name": "ipython",
        "version": 3
      },
      "file_extension": ".py",
      "mimetype": "text/x-python",
      "name": "python",
      "nbconvert_exporter": "python",
      "pygments_lexer": "ipython3",
      "version": "3.7.1"
    },
    "pycharm": {
      "stem_cell": {
        "cell_type": "raw",
        "metadata": {
          "collapsed": false
        },
        "source": []
      }
    }
  },
  "cells": [
    {
      "cell_type": "markdown",
      "metadata": {
        "id": "ep2DPT3H32s9"
      },
      "source": [
        "<a href=\"https://colab.research.google.com/github/wingated/cs474_labs_f2019/blob/master/DL_Lab2.ipynb\" target=\"_parent\"><img src=\"https://colab.research.google.com/assets/colab-badge.svg\" alt=\"Open In Colab\"/></a>"
      ]
    },
    {
      "cell_type": "markdown",
      "metadata": {
        "id": "view-in-github"
      },
      "source": [
        "# Lab 2: Intro to PyTorch\n",
        "\n",
        "## Deliverable\n",
        "\n",
        "For this lab, you will submit an IPython notebook via Learning Suite.\n",
        "This lab will be mostly boilerplate code, but you will be required to implement a few extras.\n",
        "\n",
        "**NOTE: you almost certainly will not understand most of what's going on in this lab!\n",
        "That's ok - the point is just to get you going with PyTorch.\n",
        "We'll be working on developing a deeper understanding of every part of this code\n",
        "over the course of the next two weeks.**\n",
        "\n",
        "A major goal of this lab is to help you become conversant in working through PyTorch\n",
        "tutorials and documentation.\n",
        "You should turn to the documentation first, but you may google whatever you need, as there are many great PyTorch tutorials online.\n",
        "\n",
        "This notebook will have four parts:\n",
        "\n",
        "* Part 1: Your notebook should contain the boilerplate code. See below.\n",
        "\n",
        "* Part 2: Your notebook should contain a testing loop.\n",
        "\n",
        "* Part 3: Your notebook should contain a visualization of test/training performance over time.\n",
        "\n",
        "The resulting image could, for example, look like this:\n",
        "![](http://liftothers.org/dokuwiki/lib/exe/fetch.php?cache=&w=900&h=608&tok=3092fe&media=cs501r_f2018:lab2.png)\n",
        "\n",
        "* Part 4: Your notebook should contain the completed microtasks and pass all the asserts.\n",
        "\n",
        "See the assigned readings for pointers to documentation on PyTorch.\n",
        "___\n",
        "\n",
        "### Grading standards:\n",
        "Your notebook will be graded on the following:\n",
        "\n",
        "* 40% Successfully followed lab video and typed in code\n",
        "* 20% Modified code to include a test/train split\n",
        "* 20% Modified code to include a visualization of train/test losses\n",
        "* 10% Tidy and legible figures, including labeled axes where appropriate\n",
        "* 10% Correct solutions to the microtasks\n",
        "___\n",
        "\n",
        "### Description\n",
        "Throughout this class, we will be using PyTorch to implement our deep neural networks. \n",
        "PyTorch is a deep learning framework that handles the low-level details of \n",
        "GPU integration and automatic differentiation.\n",
        "\n",
        "The goal of this lab is to help you become familiar with PyTorch. \n",
        "The four parts of the lab are outlined above.\n",
        "\n",
        "For part 1, you should watch the video below, and type in the code as it is explained to you.\n",
        "\n",
        "A more detailed outline of Part 1 is below.\n",
        "\n",
        "For part 2, you must add a validation (or testing) loop using the \n",
        "FashionMNIST dataset with train=False\n",
        "\n",
        "For part 3, you must plot the loss values.\n",
        "\n",
        "For part 4, you must complete the microtasks and pass all asserts.\n",
        "\n",
        "Optional: Demonstrate overfitting on the training data.\n",
        "\n",
        "The easiest way to do this is to limit the size of your training dataset \n",
        "so that it only returns a single batch (i.e. len(dataloader) == batch_size, \n",
        "and train for multiple epochs. For example,\n",
        "I set my batch size to 42, and augmented my dataloader to produce only 42 \n",
        "unique items by overwriting the len function to return 42. \n",
        "In my training loop, I performed a validation every epoch which basically corresponded \n",
        "to a validation every step.\n",
        "\n",
        "In practice, you will normally compute your validation loss every n steps, \n",
        "rather than at the end of every epoch. This is because some epochs can take hours, \n",
        "or even days and you don’t often want to wait that long to see your results.\n",
        "\n",
        "Testing your algorithm by using a single batch and training until overfitting \n",
        "is a great way of making sure that your model and optimizer are working the way they should!\n",
        "\n",
        "___\n",
        "\n",
        "### Part 0\n",
        "Watch Tutorial Video\n",
        "\n",
        "[https://youtu.be/E76hLX9WCLE](https://youtu.be/E76hLX9WCLE)\n",
        "\n",
        "**TODO:**\n",
        "* Watch video\n",
        "\n",
        "**DONE:**\n",
        "* Watch video\n",
        "___\n",
        "\n",
        "### Part 1\n",
        "Your notebook should contain the boilerplate code. See below.\n",
        "\n",
        "**TODO:**\n",
        "\n",
        "* Replicate boilerplate from the video\n",
        "\n",
        "**DONE:**\n",
        "* Replicate boilerplate from the video\n",
        "___\n",
        "\n",
        "### Part 2\n",
        "Your notebook should contain a testing (validation) loop.\n",
        "\n",
        "**TODO:**\n",
        "\n",
        "* Add a testing (validation) loop\n",
        "\n",
        "**DONE:**\n",
        "* Add a testing (validation) loop"
      ]
    },
    {
      "cell_type": "code",
      "metadata": {
        "colab": {
          "base_uri": "https://localhost:8080/"
        },
        "id": "QClXc9i7VRyA",
        "pycharm": {
          "is_executing": false
        },
        "outputId": "1f528c57-34dd-4696-dae3-cffc46216b3d"
      },
      "source": [
        "!pip3 install torch \n",
        "!pip3 install torchvision\n",
        "!pip3 install tqdm"
      ],
      "execution_count": null,
      "outputs": [
        {
          "output_type": "stream",
          "name": "stdout",
          "text": [
            "Requirement already satisfied: torch in /usr/local/lib/python3.7/dist-packages (1.9.0+cu102)\n",
            "Requirement already satisfied: typing-extensions in /usr/local/lib/python3.7/dist-packages (from torch) (3.7.4.3)\n",
            "Requirement already satisfied: torchvision in /usr/local/lib/python3.7/dist-packages (0.10.0+cu102)\n",
            "Requirement already satisfied: numpy in /usr/local/lib/python3.7/dist-packages (from torchvision) (1.19.5)\n",
            "Requirement already satisfied: torch==1.9.0 in /usr/local/lib/python3.7/dist-packages (from torchvision) (1.9.0+cu102)\n",
            "Requirement already satisfied: pillow>=5.3.0 in /usr/local/lib/python3.7/dist-packages (from torchvision) (7.1.2)\n",
            "Requirement already satisfied: typing-extensions in /usr/local/lib/python3.7/dist-packages (from torch==1.9.0->torchvision) (3.7.4.3)\n",
            "Requirement already satisfied: tqdm in /usr/local/lib/python3.7/dist-packages (4.62.0)\n"
          ]
        }
      ]
    },
    {
      "cell_type": "code",
      "metadata": {
        "colab": {
          "base_uri": "https://localhost:8080/"
        },
        "id": "OU80yuvqVXwk",
        "pycharm": {
          "is_executing": false
        },
        "outputId": "52c4266e-6ab0-4229-e153-8b2284503b4c"
      },
      "source": [
        "import torch\n",
        "import torch.nn as nn\n",
        "import torch.nn.functional as F\n",
        "import torch.optim as optim\n",
        "from torch.utils.data import Dataset, DataLoader\n",
        "import numpy as np\n",
        "import matplotlib.pyplot as plt\n",
        "from torchvision import transforms, utils, datasets\n",
        "from tqdm import tqdm\n",
        " \n",
        "assert torch.cuda.is_available() # You need to request a GPU from Runtime > Change Runtime Type\n",
        "\n",
        "# Write the boilerplate code from the video here\n",
        "# Extend the torch.Module class to create your own neural network\n",
        "class LinearNetwork(nn.Module):\n",
        "  def __init__(self, dataset):\n",
        "    super(LinearNetwork, self).__init__()\n",
        "    x, y = dataset[0]\n",
        "    c, h, w = x.size()\n",
        "    out_dim = 10 # 0 - 9 hand written digits\n",
        "\n",
        "    self.net = nn.Sequential(nn.Linear(c * h * w, 1000),\n",
        "                             nn.ReLU(),\n",
        "                             nn.Linear(1000, out_dim))\n",
        "  def forward(self, x):\n",
        "    n, c, h, w = x.size()\n",
        "    flattened = x.view(n, c*h*w) # each column is a data sample, then all of those columns are a batch\n",
        "    return self.net(flattened)\n",
        "\n",
        "# Create a dataset class that extends the torch.utils.data Dataset class here\n",
        "class FashionMNISTProcessedDataset(Dataset):\n",
        "  def __init__(self, root, train=True):\n",
        "    self.data = datasets.FashionMNIST(root, train=train,\n",
        "                                      transform=transforms.ToTensor(),\n",
        "                                      download=True)\n",
        "  def __getitem__(self,i):\n",
        "    x, y = self.data[i]\n",
        "    return x, y\n",
        "\n",
        "  def __len__(self):\n",
        "    return len(self.data)\n",
        "\n",
        "# Instantiate the train and validation sets\n",
        "train_dataset = FashionMNISTProcessedDataset('tmp/fashionmnist', train=True)\n",
        "val_dataset = FashionMNISTProcessedDataset('tmp/fashionmnist', train=False)\n",
        "# Instantiate your model and loss and optimizer functions\n",
        "model = LinearNetwork(train_dataset)\n",
        "model = model.cuda()\n",
        "optimizer = optim.SGD(model.parameters(), lr=1e-4)\n",
        "objective = torch.nn.CrossEntropyLoss()\n",
        "train_losses = []\n",
        "validation_losses = []\n",
        "# Instantiate your data loaders\n",
        "train_loader = DataLoader(train_dataset, batch_size=42, pin_memory=True)\n",
        "validation_loader = DataLoader(val_dataset, batch_size=42, pin_memory=True)\n",
        "\n",
        "\n",
        "num_epochs = 100\n",
        "loop = tqdm(total=len(train_loader) * num_epochs, position=0)\n",
        "\n",
        "# Run your training / validation loops\n",
        "for epoch in range (num_epochs):\n",
        "  #train\n",
        "  batch = 0\n",
        "  for x, y_truth in train_loader:\n",
        "    #learn\n",
        "    x, y_truth = x.cuda(non_blocking=True), y_truth.cuda(non_blocking=True) # put variables on GPU\n",
        "    optimizer.zero_grad() # zero out gradient\n",
        "\n",
        "    y_hat = model(x)\n",
        "    loss = objective(y_hat, y_truth)\n",
        "\n",
        "    if epoch % 25 == 0 and batch == 0:\n",
        "      train_losses.append(loss.item())\n",
        "      validation_loss_list = []\n",
        "      for val_x, val_y_truth in validation_loader:\n",
        "        val_x, val_y_truth = val_x.cuda(non_blocking=True), val_y_truth.cuda(non_blocking=True)\n",
        "        val_y_hat = model(val_x)\n",
        "        validation_loss_list.append(objective(val_y_hat, val_y_truth))\n",
        "      validation_losses.append((sum(validation_loss_list)/float(len(validation_loss_list))).item())\n",
        "    \n",
        "    loop.set_description('epoch:{} batch:{} loss:{:.4f} val_loss:{:.4f}'.format(epoch, batch, loss.item(), validation_losses[-1]))\n",
        "\n",
        "    loss.backward() # compute gradient\n",
        "    optimizer.step() # taking step based on gradient\n",
        "    batch += 1\n",
        "\n",
        "loop.close()"
      ],
      "execution_count": null,
      "outputs": [
        {
          "output_type": "stream",
          "name": "stderr",
          "text": [
            "epoch:99 batch:1428 loss:0.6497 val_loss:0.6845:   0%|          | 0/142900 [31:22<?, ?it/s]\n"
          ]
        }
      ]
    },
    {
      "cell_type": "markdown",
      "metadata": {
        "id": "_IZmHOvirnFn"
      },
      "source": [
        "\n",
        "___\n",
        "\n",
        "### Part 3\n",
        "Your notebook should contain a visualization of test/training\n",
        "performance over time. Use matplotlib.pyplot, and label the graph's axes.\n",
        "\n",
        "**TODO:**\n",
        "* Add a visualization of test/train performance (i.e. loss) over time.\n",
        "\n",
        "**DONE:**\n",
        "* Add a visualization of test/train performance (i.e. loss) over time.\n"
      ]
    },
    {
      "cell_type": "code",
      "metadata": {
        "colab": {
          "base_uri": "https://localhost:8080/",
          "height": 279
        },
        "id": "YqYrbI5-WHb3",
        "pycharm": {
          "is_executing": false
        },
        "outputId": "606bac89-7cc7-4844-9934-7429834eeca0"
      },
      "source": [
        "# Write your code to create a plot of your loss over time\n",
        "fig = plt.figure()\n",
        "ax = fig.add_subplot(111)\n",
        "ax.plot(range(len(validation_losses)), validation_losses, label='validation loss')\n",
        "ax.plot(range(len(train_losses)), train_losses, label='train loss')\n",
        "ax.set_ylabel('Loss Value')\n",
        "ax.set_xlabel('Each set of 25 epochs')\n",
        "plt.legend()\n",
        "plt.show()\n",
        "\n",
        "num_params = sum([torch.numel(layer) for layer in model.parameters()])"
      ],
      "execution_count": null,
      "outputs": [
        {
          "output_type": "display_data",
          "data": {
            "image/png": "[encoded data removed]",
            "text/plain": [
              "<Figure size 432x288 with 1 Axes>"
            ]
          },
          "metadata": {
            "needs_background": "light"
          }
        }
      ]
    },
    {
      "cell_type": "markdown",
      "metadata": {
        "id": "0wW4QNYG4LE2"
      },
      "source": [
        "\n",
        "___\n",
        "\n",
        "### Part 4\n",
        "Complete the following microtasks to learn some important PyTorch skills.\n",
        "\n",
        "If you do not know how to complete one of the microtasks, use [PyTorch's documentation](https://pytorch.org/docs/stable/index.html)! PyTorch is very well documented, and you will need to learn how to use the documentation, especially in later labs.\n",
        "\n",
        "**TODO:**\n",
        "* Complete microtasks\n",
        "\n",
        "**DONE:**\n",
        "* Complete microtasks"
      ]
    },
    {
      "cell_type": "markdown",
      "metadata": {
        "id": "rQCrfTnI9H2l"
      },
      "source": [
        "### Computation Graph Microtasks"
      ]
    },
    {
      "cell_type": "code",
      "metadata": {
        "colab": {
          "base_uri": "https://localhost:8080/"
        },
        "id": "wxnf1BvV9H2l",
        "outputId": "9699912d-d60e-4801-9bdb-8935d6284ce8"
      },
      "source": [
        "# To understand how PyTorch organizes the computation graph, let's walk through \n",
        "# a quick example!\n",
        "\n",
        "# 1. First, construct a tensor 'a' that contains 10 random floats. \n",
        "# This will simulate the output layer of a network. Hint: use `torch.rand`.\n",
        "a = torch.rand([10], dtype=float)\n",
        "print(a)\n",
        "assert a.size() == torch.Size([10])"
      ],
      "execution_count": null,
      "outputs": [
        {
          "output_type": "stream",
          "name": "stdout",
          "text": [
            "tensor([0.2218, 0.9042, 0.9066, 0.2354, 0.2607, 0.8368, 0.9046, 0.0615, 0.3575,\n",
            "        0.2519], dtype=torch.float64)\n"
          ]
        }
      ]
    },
    {
      "cell_type": "code",
      "metadata": {
        "colab": {
          "base_uri": "https://localhost:8080/"
        },
        "id": "nFWB5O0G9H2m",
        "outputId": "9bb5c592-d6d2-4d17-fe41-131543af8914"
      },
      "source": [
        "# 2. Now turn 'a' into an `nn.Parameter` so that it be attached to the computation\n",
        "# graph.\n",
        "a = nn.Parameter(a)\n",
        "print(a)\n",
        "assert type(a) == nn.Parameter\n",
        "\n",
        "# Notice that our original tensor 'a' is nested inside of a Parameter object.\n",
        "# The Parameter object knows that it will need to compute gradients at some point.\n",
        "\n",
        "# No need to do anything here, but this assert should pass.\n",
        "assert a.requires_grad == True"
      ],
      "execution_count": null,
      "outputs": [
        {
          "output_type": "stream",
          "name": "stdout",
          "text": [
            "Parameter containing:\n",
            "tensor([0.2218, 0.9042, 0.9066, 0.2354, 0.2607, 0.8368, 0.9046, 0.0615, 0.3575,\n",
            "        0.2519], dtype=torch.float64, requires_grad=True)\n"
          ]
        }
      ]
    },
    {
      "cell_type": "code",
      "metadata": {
        "colab": {
          "base_uri": "https://localhost:8080/"
        },
        "id": "1_iffbyS9H2m",
        "outputId": "e9136e79-cf58-4f95-b20e-42049321c45f"
      },
      "source": [
        "# 3. Let's run 'a' through a loss function. The output of the loss function is\n",
        "# just another tensor, but this tensor remembers what operations produced it.\n",
        "loss_fn = nn.CrossEntropyLoss()\n",
        "loss = loss_fn(a.unsqueeze(0), torch.Tensor([7]).long())\n",
        "print(loss)\n",
        "\n",
        "# Now, instruct the network to do a backward pass, by calling '.backward()' on the \n",
        "# result of the loss function. We should now be able to see the gradients that \n",
        "# were computed for 'a' w.r.t. the loss.\n",
        "loss.backward()\n",
        "assert a.grad is not None\n",
        "print(a.grad)"
      ],
      "execution_count": null,
      "outputs": [
        {
          "output_type": "stream",
          "name": "stdout",
          "text": [
            "tensor(2.7902, dtype=torch.float64, grad_fn=<NllLossBackward>)\n",
            "tensor([ 0.0721,  0.1426,  0.1430,  0.0731,  0.0749,  0.1333,  0.1427, -0.9386,\n",
            "         0.0826,  0.0743], dtype=torch.float64)\n"
          ]
        }
      ]
    },
    {
      "cell_type": "code",
      "metadata": {
        "colab": {
          "base_uri": "https://localhost:8080/"
        },
        "id": "Htmg9mcF9H2m",
        "outputId": "ae222dba-4e12-4520-94ae-34fb6add421b"
      },
      "source": [
        "# 4. If we were to use 'a' in another operation, this might affect the computation graph.\n",
        "# To make sure that you are not adversly affecting the computation graph, call\n",
        "# `.detach()` on 'a' and assign the result to a new variable 'b'.\n",
        "b = a.detach()\n",
        "print(a)\n",
        "print(b)\n",
        "assert a.requires_grad == True\n",
        "assert b.requires_grad == False"
      ],
      "execution_count": null,
      "outputs": [
        {
          "output_type": "stream",
          "name": "stdout",
          "text": [
            "Parameter containing:\n",
            "tensor([0.2218, 0.9042, 0.9066, 0.2354, 0.2607, 0.8368, 0.9046, 0.0615, 0.3575,\n",
            "        0.2519], dtype=torch.float64, requires_grad=True)\n",
            "tensor([0.2218, 0.9042, 0.9066, 0.2354, 0.2607, 0.8368, 0.9046, 0.0615, 0.3575,\n",
            "        0.2519], dtype=torch.float64)\n"
          ]
        }
      ]
    }
  ]
}